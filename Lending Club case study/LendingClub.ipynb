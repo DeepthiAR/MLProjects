{
 "cells": [
  {
   "cell_type": "markdown",
   "metadata": {},
   "source": [
    "# LENDING CLUB CASE STUDY\n",
    "\n",
    "## Data Cleaning\n",
    "\n",
    "The data cleaning includes the following:\n",
    "\n",
    "    1. Handling of missing data\n",
    "    2. Analysis of columns to understand which columns are necessary for the case study\n",
    "    3. Standardizing of the values in columns. \n",
    "    "
   ]
  },
  {
   "cell_type": "code",
   "execution_count": 2,
   "metadata": {},
   "outputs": [],
   "source": [
    "#importing necessary libraries\n",
    "import pandas as pd\n",
    "import numpy as np\n",
    "import matplotlib.pyplot as plt\n",
    "import seaborn as sns\n",
    "import scipy.stats\n",
    "import statsmodels.api as sm"
   ]
  },
  {
   "cell_type": "code",
   "execution_count": 3,
   "metadata": {},
   "outputs": [
    {
     "name": "stderr",
     "output_type": "stream",
     "text": [
      "C:\\Users\\deept\\anaconda3\\lib\\site-packages\\IPython\\core\\interactiveshell.py:3063: DtypeWarning: Columns (47) have mixed types.Specify dtype option on import or set low_memory=False.\n",
      "  interactivity=interactivity, compiler=compiler, result=result)\n"
     ]
    }
   ],
   "source": [
    "loan_df = pd.read_csv('loan.csv', encoding='palmos')"
   ]
  },
  {
   "cell_type": "code",
   "execution_count": 4,
   "metadata": {},
   "outputs": [
    {
     "name": "stdout",
     "output_type": "stream",
     "text": [
      "<class 'pandas.core.frame.DataFrame'>\n",
      "RangeIndex: 39717 entries, 0 to 39716\n",
      "Columns: 111 entries, id to total_il_high_credit_limit\n",
      "dtypes: float64(74), int64(13), object(24)\n",
      "memory usage: 33.6+ MB\n"
     ]
    }
   ],
   "source": [
    "loan_df.info()"
   ]
  },
  {
   "cell_type": "code",
   "execution_count": 5,
   "metadata": {},
   "outputs": [
    {
     "data": {
      "text/html": [
       "<div>\n",
       "<style scoped>\n",
       "    .dataframe tbody tr th:only-of-type {\n",
       "        vertical-align: middle;\n",
       "    }\n",
       "\n",
       "    .dataframe tbody tr th {\n",
       "        vertical-align: top;\n",
       "    }\n",
       "\n",
       "    .dataframe thead th {\n",
       "        text-align: right;\n",
       "    }\n",
       "</style>\n",
       "<table border=\"1\" class=\"dataframe\">\n",
       "  <thead>\n",
       "    <tr style=\"text-align: right;\">\n",
       "      <th></th>\n",
       "      <th>id</th>\n",
       "      <th>member_id</th>\n",
       "      <th>loan_amnt</th>\n",
       "      <th>funded_amnt</th>\n",
       "      <th>funded_amnt_inv</th>\n",
       "      <th>term</th>\n",
       "      <th>int_rate</th>\n",
       "      <th>installment</th>\n",
       "      <th>grade</th>\n",
       "      <th>sub_grade</th>\n",
       "      <th>...</th>\n",
       "      <th>num_tl_90g_dpd_24m</th>\n",
       "      <th>num_tl_op_past_12m</th>\n",
       "      <th>pct_tl_nvr_dlq</th>\n",
       "      <th>percent_bc_gt_75</th>\n",
       "      <th>pub_rec_bankruptcies</th>\n",
       "      <th>tax_liens</th>\n",
       "      <th>tot_hi_cred_lim</th>\n",
       "      <th>total_bal_ex_mort</th>\n",
       "      <th>total_bc_limit</th>\n",
       "      <th>total_il_high_credit_limit</th>\n",
       "    </tr>\n",
       "  </thead>\n",
       "  <tbody>\n",
       "    <tr>\n",
       "      <th>0</th>\n",
       "      <td>1077501</td>\n",
       "      <td>1296599</td>\n",
       "      <td>5000</td>\n",
       "      <td>5000</td>\n",
       "      <td>4975.0</td>\n",
       "      <td>36 months</td>\n",
       "      <td>10.65%</td>\n",
       "      <td>162.87</td>\n",
       "      <td>B</td>\n",
       "      <td>B2</td>\n",
       "      <td>...</td>\n",
       "      <td>NaN</td>\n",
       "      <td>NaN</td>\n",
       "      <td>NaN</td>\n",
       "      <td>NaN</td>\n",
       "      <td>0.0</td>\n",
       "      <td>0.0</td>\n",
       "      <td>NaN</td>\n",
       "      <td>NaN</td>\n",
       "      <td>NaN</td>\n",
       "      <td>NaN</td>\n",
       "    </tr>\n",
       "    <tr>\n",
       "      <th>1</th>\n",
       "      <td>1077430</td>\n",
       "      <td>1314167</td>\n",
       "      <td>2500</td>\n",
       "      <td>2500</td>\n",
       "      <td>2500.0</td>\n",
       "      <td>60 months</td>\n",
       "      <td>15.27%</td>\n",
       "      <td>59.83</td>\n",
       "      <td>C</td>\n",
       "      <td>C4</td>\n",
       "      <td>...</td>\n",
       "      <td>NaN</td>\n",
       "      <td>NaN</td>\n",
       "      <td>NaN</td>\n",
       "      <td>NaN</td>\n",
       "      <td>0.0</td>\n",
       "      <td>0.0</td>\n",
       "      <td>NaN</td>\n",
       "      <td>NaN</td>\n",
       "      <td>NaN</td>\n",
       "      <td>NaN</td>\n",
       "    </tr>\n",
       "    <tr>\n",
       "      <th>2</th>\n",
       "      <td>1077175</td>\n",
       "      <td>1313524</td>\n",
       "      <td>2400</td>\n",
       "      <td>2400</td>\n",
       "      <td>2400.0</td>\n",
       "      <td>36 months</td>\n",
       "      <td>15.96%</td>\n",
       "      <td>84.33</td>\n",
       "      <td>C</td>\n",
       "      <td>C5</td>\n",
       "      <td>...</td>\n",
       "      <td>NaN</td>\n",
       "      <td>NaN</td>\n",
       "      <td>NaN</td>\n",
       "      <td>NaN</td>\n",
       "      <td>0.0</td>\n",
       "      <td>0.0</td>\n",
       "      <td>NaN</td>\n",
       "      <td>NaN</td>\n",
       "      <td>NaN</td>\n",
       "      <td>NaN</td>\n",
       "    </tr>\n",
       "    <tr>\n",
       "      <th>3</th>\n",
       "      <td>1076863</td>\n",
       "      <td>1277178</td>\n",
       "      <td>10000</td>\n",
       "      <td>10000</td>\n",
       "      <td>10000.0</td>\n",
       "      <td>36 months</td>\n",
       "      <td>13.49%</td>\n",
       "      <td>339.31</td>\n",
       "      <td>C</td>\n",
       "      <td>C1</td>\n",
       "      <td>...</td>\n",
       "      <td>NaN</td>\n",
       "      <td>NaN</td>\n",
       "      <td>NaN</td>\n",
       "      <td>NaN</td>\n",
       "      <td>0.0</td>\n",
       "      <td>0.0</td>\n",
       "      <td>NaN</td>\n",
       "      <td>NaN</td>\n",
       "      <td>NaN</td>\n",
       "      <td>NaN</td>\n",
       "    </tr>\n",
       "    <tr>\n",
       "      <th>4</th>\n",
       "      <td>1075358</td>\n",
       "      <td>1311748</td>\n",
       "      <td>3000</td>\n",
       "      <td>3000</td>\n",
       "      <td>3000.0</td>\n",
       "      <td>60 months</td>\n",
       "      <td>12.69%</td>\n",
       "      <td>67.79</td>\n",
       "      <td>B</td>\n",
       "      <td>B5</td>\n",
       "      <td>...</td>\n",
       "      <td>NaN</td>\n",
       "      <td>NaN</td>\n",
       "      <td>NaN</td>\n",
       "      <td>NaN</td>\n",
       "      <td>0.0</td>\n",
       "      <td>0.0</td>\n",
       "      <td>NaN</td>\n",
       "      <td>NaN</td>\n",
       "      <td>NaN</td>\n",
       "      <td>NaN</td>\n",
       "    </tr>\n",
       "  </tbody>\n",
       "</table>\n",
       "<p>5 rows × 111 columns</p>\n",
       "</div>"
      ],
      "text/plain": [
       "        id  member_id  loan_amnt  funded_amnt  funded_amnt_inv        term  \\\n",
       "0  1077501    1296599       5000         5000           4975.0   36 months   \n",
       "1  1077430    1314167       2500         2500           2500.0   60 months   \n",
       "2  1077175    1313524       2400         2400           2400.0   36 months   \n",
       "3  1076863    1277178      10000        10000          10000.0   36 months   \n",
       "4  1075358    1311748       3000         3000           3000.0   60 months   \n",
       "\n",
       "  int_rate  installment grade sub_grade  ... num_tl_90g_dpd_24m  \\\n",
       "0   10.65%       162.87     B        B2  ...                NaN   \n",
       "1   15.27%        59.83     C        C4  ...                NaN   \n",
       "2   15.96%        84.33     C        C5  ...                NaN   \n",
       "3   13.49%       339.31     C        C1  ...                NaN   \n",
       "4   12.69%        67.79     B        B5  ...                NaN   \n",
       "\n",
       "  num_tl_op_past_12m pct_tl_nvr_dlq  percent_bc_gt_75 pub_rec_bankruptcies  \\\n",
       "0                NaN            NaN               NaN                  0.0   \n",
       "1                NaN            NaN               NaN                  0.0   \n",
       "2                NaN            NaN               NaN                  0.0   \n",
       "3                NaN            NaN               NaN                  0.0   \n",
       "4                NaN            NaN               NaN                  0.0   \n",
       "\n",
       "  tax_liens tot_hi_cred_lim total_bal_ex_mort total_bc_limit  \\\n",
       "0       0.0             NaN               NaN            NaN   \n",
       "1       0.0             NaN               NaN            NaN   \n",
       "2       0.0             NaN               NaN            NaN   \n",
       "3       0.0             NaN               NaN            NaN   \n",
       "4       0.0             NaN               NaN            NaN   \n",
       "\n",
       "  total_il_high_credit_limit  \n",
       "0                        NaN  \n",
       "1                        NaN  \n",
       "2                        NaN  \n",
       "3                        NaN  \n",
       "4                        NaN  \n",
       "\n",
       "[5 rows x 111 columns]"
      ]
     },
     "execution_count": 5,
     "metadata": {},
     "output_type": "execute_result"
    }
   ],
   "source": [
    "loan_df.head()"
   ]
  },
  {
   "cell_type": "code",
   "execution_count": 6,
   "metadata": {},
   "outputs": [
    {
     "data": {
      "text/plain": [
       "(39717, 111)"
      ]
     },
     "execution_count": 6,
     "metadata": {},
     "output_type": "execute_result"
    }
   ],
   "source": [
    "loan_df.shape"
   ]
  },
  {
   "cell_type": "code",
   "execution_count": 7,
   "metadata": {},
   "outputs": [
    {
     "data": {
      "text/plain": [
       "id                              0.0\n",
       "member_id                       0.0\n",
       "loan_amnt                       0.0\n",
       "funded_amnt                     0.0\n",
       "funded_amnt_inv                 0.0\n",
       "                              ...  \n",
       "tax_liens                       0.1\n",
       "tot_hi_cred_lim               100.0\n",
       "total_bal_ex_mort             100.0\n",
       "total_bc_limit                100.0\n",
       "total_il_high_credit_limit    100.0\n",
       "Length: 111, dtype: float64"
      ]
     },
     "execution_count": 7,
     "metadata": {},
     "output_type": "execute_result"
    }
   ],
   "source": [
    "round(100*(loan_df.isnull().sum()/len(loan_df.id)), 2)"
   ]
  },
  {
   "cell_type": "code",
   "execution_count": 8,
   "metadata": {},
   "outputs": [
    {
     "data": {
      "text/html": [
       "<div>\n",
       "<style scoped>\n",
       "    .dataframe tbody tr th:only-of-type {\n",
       "        vertical-align: middle;\n",
       "    }\n",
       "\n",
       "    .dataframe tbody tr th {\n",
       "        vertical-align: top;\n",
       "    }\n",
       "\n",
       "    .dataframe thead th {\n",
       "        text-align: right;\n",
       "    }\n",
       "</style>\n",
       "<table border=\"1\" class=\"dataframe\">\n",
       "  <thead>\n",
       "    <tr style=\"text-align: right;\">\n",
       "      <th></th>\n",
       "      <th>id</th>\n",
       "      <th>member_id</th>\n",
       "      <th>loan_amnt</th>\n",
       "      <th>funded_amnt</th>\n",
       "      <th>funded_amnt_inv</th>\n",
       "      <th>term</th>\n",
       "      <th>int_rate</th>\n",
       "      <th>installment</th>\n",
       "      <th>grade</th>\n",
       "      <th>sub_grade</th>\n",
       "      <th>...</th>\n",
       "      <th>next_pymnt_d</th>\n",
       "      <th>last_credit_pull_d</th>\n",
       "      <th>collections_12_mths_ex_med</th>\n",
       "      <th>policy_code</th>\n",
       "      <th>application_type</th>\n",
       "      <th>acc_now_delinq</th>\n",
       "      <th>chargeoff_within_12_mths</th>\n",
       "      <th>delinq_amnt</th>\n",
       "      <th>pub_rec_bankruptcies</th>\n",
       "      <th>tax_liens</th>\n",
       "    </tr>\n",
       "  </thead>\n",
       "  <tbody>\n",
       "    <tr>\n",
       "      <th>0</th>\n",
       "      <td>1077501</td>\n",
       "      <td>1296599</td>\n",
       "      <td>5000</td>\n",
       "      <td>5000</td>\n",
       "      <td>4975.0</td>\n",
       "      <td>36 months</td>\n",
       "      <td>10.65%</td>\n",
       "      <td>162.87</td>\n",
       "      <td>B</td>\n",
       "      <td>B2</td>\n",
       "      <td>...</td>\n",
       "      <td>NaN</td>\n",
       "      <td>May-16</td>\n",
       "      <td>0.0</td>\n",
       "      <td>1</td>\n",
       "      <td>INDIVIDUAL</td>\n",
       "      <td>0</td>\n",
       "      <td>0.0</td>\n",
       "      <td>0</td>\n",
       "      <td>0.0</td>\n",
       "      <td>0.0</td>\n",
       "    </tr>\n",
       "    <tr>\n",
       "      <th>1</th>\n",
       "      <td>1077430</td>\n",
       "      <td>1314167</td>\n",
       "      <td>2500</td>\n",
       "      <td>2500</td>\n",
       "      <td>2500.0</td>\n",
       "      <td>60 months</td>\n",
       "      <td>15.27%</td>\n",
       "      <td>59.83</td>\n",
       "      <td>C</td>\n",
       "      <td>C4</td>\n",
       "      <td>...</td>\n",
       "      <td>NaN</td>\n",
       "      <td>Sep-13</td>\n",
       "      <td>0.0</td>\n",
       "      <td>1</td>\n",
       "      <td>INDIVIDUAL</td>\n",
       "      <td>0</td>\n",
       "      <td>0.0</td>\n",
       "      <td>0</td>\n",
       "      <td>0.0</td>\n",
       "      <td>0.0</td>\n",
       "    </tr>\n",
       "    <tr>\n",
       "      <th>2</th>\n",
       "      <td>1077175</td>\n",
       "      <td>1313524</td>\n",
       "      <td>2400</td>\n",
       "      <td>2400</td>\n",
       "      <td>2400.0</td>\n",
       "      <td>36 months</td>\n",
       "      <td>15.96%</td>\n",
       "      <td>84.33</td>\n",
       "      <td>C</td>\n",
       "      <td>C5</td>\n",
       "      <td>...</td>\n",
       "      <td>NaN</td>\n",
       "      <td>May-16</td>\n",
       "      <td>0.0</td>\n",
       "      <td>1</td>\n",
       "      <td>INDIVIDUAL</td>\n",
       "      <td>0</td>\n",
       "      <td>0.0</td>\n",
       "      <td>0</td>\n",
       "      <td>0.0</td>\n",
       "      <td>0.0</td>\n",
       "    </tr>\n",
       "    <tr>\n",
       "      <th>3</th>\n",
       "      <td>1076863</td>\n",
       "      <td>1277178</td>\n",
       "      <td>10000</td>\n",
       "      <td>10000</td>\n",
       "      <td>10000.0</td>\n",
       "      <td>36 months</td>\n",
       "      <td>13.49%</td>\n",
       "      <td>339.31</td>\n",
       "      <td>C</td>\n",
       "      <td>C1</td>\n",
       "      <td>...</td>\n",
       "      <td>NaN</td>\n",
       "      <td>Apr-16</td>\n",
       "      <td>0.0</td>\n",
       "      <td>1</td>\n",
       "      <td>INDIVIDUAL</td>\n",
       "      <td>0</td>\n",
       "      <td>0.0</td>\n",
       "      <td>0</td>\n",
       "      <td>0.0</td>\n",
       "      <td>0.0</td>\n",
       "    </tr>\n",
       "    <tr>\n",
       "      <th>4</th>\n",
       "      <td>1075358</td>\n",
       "      <td>1311748</td>\n",
       "      <td>3000</td>\n",
       "      <td>3000</td>\n",
       "      <td>3000.0</td>\n",
       "      <td>60 months</td>\n",
       "      <td>12.69%</td>\n",
       "      <td>67.79</td>\n",
       "      <td>B</td>\n",
       "      <td>B5</td>\n",
       "      <td>...</td>\n",
       "      <td>Jun-16</td>\n",
       "      <td>May-16</td>\n",
       "      <td>0.0</td>\n",
       "      <td>1</td>\n",
       "      <td>INDIVIDUAL</td>\n",
       "      <td>0</td>\n",
       "      <td>0.0</td>\n",
       "      <td>0</td>\n",
       "      <td>0.0</td>\n",
       "      <td>0.0</td>\n",
       "    </tr>\n",
       "  </tbody>\n",
       "</table>\n",
       "<p>5 rows × 57 columns</p>\n",
       "</div>"
      ],
      "text/plain": [
       "        id  member_id  loan_amnt  funded_amnt  funded_amnt_inv        term  \\\n",
       "0  1077501    1296599       5000         5000           4975.0   36 months   \n",
       "1  1077430    1314167       2500         2500           2500.0   60 months   \n",
       "2  1077175    1313524       2400         2400           2400.0   36 months   \n",
       "3  1076863    1277178      10000        10000          10000.0   36 months   \n",
       "4  1075358    1311748       3000         3000           3000.0   60 months   \n",
       "\n",
       "  int_rate  installment grade sub_grade  ... next_pymnt_d last_credit_pull_d  \\\n",
       "0   10.65%       162.87     B        B2  ...          NaN             May-16   \n",
       "1   15.27%        59.83     C        C4  ...          NaN             Sep-13   \n",
       "2   15.96%        84.33     C        C5  ...          NaN             May-16   \n",
       "3   13.49%       339.31     C        C1  ...          NaN             Apr-16   \n",
       "4   12.69%        67.79     B        B5  ...       Jun-16             May-16   \n",
       "\n",
       "  collections_12_mths_ex_med  policy_code application_type acc_now_delinq  \\\n",
       "0                        0.0            1       INDIVIDUAL              0   \n",
       "1                        0.0            1       INDIVIDUAL              0   \n",
       "2                        0.0            1       INDIVIDUAL              0   \n",
       "3                        0.0            1       INDIVIDUAL              0   \n",
       "4                        0.0            1       INDIVIDUAL              0   \n",
       "\n",
       "  chargeoff_within_12_mths delinq_amnt pub_rec_bankruptcies tax_liens  \n",
       "0                      0.0           0                  0.0       0.0  \n",
       "1                      0.0           0                  0.0       0.0  \n",
       "2                      0.0           0                  0.0       0.0  \n",
       "3                      0.0           0                  0.0       0.0  \n",
       "4                      0.0           0                  0.0       0.0  \n",
       "\n",
       "[5 rows x 57 columns]"
      ]
     },
     "execution_count": 8,
     "metadata": {},
     "output_type": "execute_result"
    }
   ],
   "source": [
    "#dropping columns with all null values\n",
    "\n",
    "loan_df = loan_df.dropna(how='all', axis=1)\n",
    "loan_df.head()"
   ]
  },
  {
   "cell_type": "code",
   "execution_count": 9,
   "metadata": {},
   "outputs": [
    {
     "data": {
      "text/plain": [
       "0"
      ]
     },
     "execution_count": 9,
     "metadata": {},
     "output_type": "execute_result"
    }
   ],
   "source": [
    "# check how many rows have all missing values\n",
    "loan_df.isnull().all(axis=1).sum()\n"
   ]
  },
  {
   "cell_type": "code",
   "execution_count": 10,
   "metadata": {
    "scrolled": true
   },
   "outputs": [
    {
     "data": {
      "text/plain": [
       "id                             0.00\n",
       "member_id                      0.00\n",
       "loan_amnt                      0.00\n",
       "funded_amnt                    0.00\n",
       "funded_amnt_inv                0.00\n",
       "term                           0.00\n",
       "int_rate                       0.00\n",
       "installment                    0.00\n",
       "grade                          0.00\n",
       "sub_grade                      0.00\n",
       "emp_title                      6.19\n",
       "emp_length                     2.71\n",
       "home_ownership                 0.00\n",
       "annual_inc                     0.00\n",
       "verification_status            0.00\n",
       "issue_d                        0.00\n",
       "loan_status                    0.00\n",
       "pymnt_plan                     0.00\n",
       "url                            0.00\n",
       "desc                          32.58\n",
       "purpose                        0.00\n",
       "title                          0.03\n",
       "zip_code                       0.00\n",
       "addr_state                     0.00\n",
       "dti                            0.00\n",
       "delinq_2yrs                    0.00\n",
       "earliest_cr_line               0.00\n",
       "inq_last_6mths                 0.00\n",
       "mths_since_last_delinq        64.66\n",
       "mths_since_last_record        92.99\n",
       "open_acc                       0.00\n",
       "pub_rec                        0.00\n",
       "revol_bal                      0.00\n",
       "revol_util                     0.13\n",
       "total_acc                      0.00\n",
       "initial_list_status            0.00\n",
       "out_prncp                      0.00\n",
       "out_prncp_inv                  0.00\n",
       "total_pymnt                    0.00\n",
       "total_pymnt_inv                0.00\n",
       "total_rec_prncp                0.00\n",
       "total_rec_int                  0.00\n",
       "total_rec_late_fee             0.00\n",
       "recoveries                     0.00\n",
       "collection_recovery_fee        0.00\n",
       "last_pymnt_d                   0.18\n",
       "last_pymnt_amnt                0.00\n",
       "next_pymnt_d                  97.13\n",
       "last_credit_pull_d             0.01\n",
       "collections_12_mths_ex_med     0.14\n",
       "policy_code                    0.00\n",
       "application_type               0.00\n",
       "acc_now_delinq                 0.00\n",
       "chargeoff_within_12_mths       0.14\n",
       "delinq_amnt                    0.00\n",
       "pub_rec_bankruptcies           1.75\n",
       "tax_liens                      0.10\n",
       "dtype: float64"
      ]
     },
     "execution_count": 10,
     "metadata": {},
     "output_type": "execute_result"
    }
   ],
   "source": [
    "# Finding the percentage of missiong values\n",
    "round(100*(loan_df.isnull().sum()/len(loan_df.id)), 2)\n"
   ]
  },
  {
   "cell_type": "code",
   "execution_count": 11,
   "metadata": {},
   "outputs": [
    {
     "data": {
      "text/plain": [
       "emp_title                      6.19\n",
       "emp_length                     2.71\n",
       "desc                          32.58\n",
       "title                          0.03\n",
       "mths_since_last_delinq        64.66\n",
       "mths_since_last_record        92.99\n",
       "revol_util                     0.13\n",
       "last_pymnt_d                   0.18\n",
       "next_pymnt_d                  97.13\n",
       "last_credit_pull_d             0.01\n",
       "collections_12_mths_ex_med     0.14\n",
       "chargeoff_within_12_mths       0.14\n",
       "pub_rec_bankruptcies           1.75\n",
       "tax_liens                      0.10\n",
       "dtype: float64"
      ]
     },
     "execution_count": 11,
     "metadata": {},
     "output_type": "execute_result"
    }
   ],
   "source": [
    "missing_col =  round(100*(loan_df.isnull().sum()/len(loan_df.id)), 2)\n",
    "missing_col[missing_col!=0]\n"
   ]
  },
  {
   "cell_type": "code",
   "execution_count": 12,
   "metadata": {},
   "outputs": [
    {
     "data": {
      "text/plain": [
       "emp_title                      6.19\n",
       "emp_length                     2.71\n",
       "desc                          32.58\n",
       "title                          0.03\n",
       "revol_util                     0.13\n",
       "last_pymnt_d                   0.18\n",
       "last_credit_pull_d             0.01\n",
       "collections_12_mths_ex_med     0.14\n",
       "chargeoff_within_12_mths       0.14\n",
       "pub_rec_bankruptcies           1.75\n",
       "tax_liens                      0.10\n",
       "dtype: float64"
      ]
     },
     "execution_count": 12,
     "metadata": {},
     "output_type": "execute_result"
    }
   ],
   "source": [
    "#dropping columns \"mths_since_last_delinq\"  \"mths_since_last_record\" and \"next_pymnt_d \" as they contain a lot of null values\n",
    "loan_df = loan_df.drop(['mths_since_last_delinq', 'mths_since_last_record', 'next_pymnt_d'], axis=1)\n",
    "missing_col =  round(100*(loan_df.isnull().sum()/len(loan_df.id)), 2)\n",
    "missing_col[missing_col!=0]"
   ]
  },
  {
   "cell_type": "code",
   "execution_count": 13,
   "metadata": {},
   "outputs": [],
   "source": [
    "#title,revol_util,last_pymnt_d, last_credit_pull_d, collections_12_mths_ex_med, \n",
    "#chargeoff_within_12_mths, tax_liens, \n",
    "#all these columns have very low missing values, hence we can drop these rows\n",
    "\n",
    "loan_df = loan_df[~loan_df['title'].isnull()]\n",
    "loan_df = loan_df[~loan_df['collections_12_mths_ex_med'].isnull()]\n",
    "loan_df = loan_df[~loan_df['last_pymnt_d'].isnull()]\n",
    "loan_df = loan_df[~loan_df['chargeoff_within_12_mths'].isnull()]\n",
    "loan_df = loan_df[~loan_df['tax_liens'].isnull()]\n",
    "loan_df = loan_df[~loan_df['revol_util'].isnull()]\n",
    "loan_df = loan_df[~loan_df['last_credit_pull_d'].isnull()]"
   ]
  },
  {
   "cell_type": "code",
   "execution_count": 14,
   "metadata": {
    "scrolled": true
   },
   "outputs": [
    {
     "data": {
      "text/plain": [
       "emp_title                6.16\n",
       "emp_length               2.70\n",
       "desc                    32.60\n",
       "pub_rec_bankruptcies     1.62\n",
       "dtype: float64"
      ]
     },
     "execution_count": 14,
     "metadata": {},
     "output_type": "execute_result"
    }
   ],
   "source": [
    "missing_col =  round(100*(loan_df.isnull().sum()/len(loan_df.id)), 2)\n",
    "missing_col[missing_col!=0]"
   ]
  },
  {
   "cell_type": "code",
   "execution_count": 15,
   "metadata": {},
   "outputs": [
    {
     "data": {
      "text/plain": [
       "28693"
      ]
     },
     "execution_count": 15,
     "metadata": {},
     "output_type": "execute_result"
    }
   ],
   "source": [
    "len(loan_df['emp_title'].unique()) #not a categorical feature"
   ]
  },
  {
   "cell_type": "code",
   "execution_count": 16,
   "metadata": {},
   "outputs": [
    {
     "data": {
      "text/plain": [
       "12"
      ]
     },
     "execution_count": 16,
     "metadata": {},
     "output_type": "execute_result"
    }
   ],
   "source": [
    "len(loan_df['emp_length'].unique()) #categorical feature"
   ]
  },
  {
   "cell_type": "code",
   "execution_count": 17,
   "metadata": {},
   "outputs": [
    {
     "data": {
      "text/plain": [
       "array(['10+ years', '< 1 year', '1 year', '3 years', '8 years', '9 years',\n",
       "       '4 years', '5 years', '6 years', '2 years', '7 years', nan],\n",
       "      dtype=object)"
      ]
     },
     "execution_count": 17,
     "metadata": {},
     "output_type": "execute_result"
    }
   ],
   "source": [
    "loan_df['emp_length'].unique()"
   ]
  },
  {
   "cell_type": "code",
   "execution_count": 18,
   "metadata": {},
   "outputs": [
    {
     "data": {
      "text/plain": [
       "10+ years    8865\n",
       "< 1 year     4544\n",
       "2 years      4370\n",
       "3 years      4080\n",
       "4 years      3416\n",
       "5 years      3264\n",
       "1 year       3214\n",
       "6 years      2222\n",
       "7 years      1766\n",
       "8 years      1472\n",
       "9 years      1252\n",
       "Name: emp_length, dtype: int64"
      ]
     },
     "execution_count": 18,
     "metadata": {},
     "output_type": "execute_result"
    }
   ],
   "source": [
    "loan_df['emp_length'].value_counts()"
   ]
  },
  {
   "cell_type": "code",
   "execution_count": 19,
   "metadata": {},
   "outputs": [
    {
     "data": {
      "text/plain": [
       "4"
      ]
     },
     "execution_count": 19,
     "metadata": {},
     "output_type": "execute_result"
    }
   ],
   "source": [
    "len(loan_df['pub_rec_bankruptcies'].unique())"
   ]
  },
  {
   "cell_type": "code",
   "execution_count": 20,
   "metadata": {},
   "outputs": [
    {
     "data": {
      "text/plain": [
       "array([ 0.,  1.,  2., nan])"
      ]
     },
     "execution_count": 20,
     "metadata": {},
     "output_type": "execute_result"
    }
   ],
   "source": [
    "loan_df['pub_rec_bankruptcies'].unique() #categorical feature"
   ]
  },
  {
   "cell_type": "code",
   "execution_count": 21,
   "metadata": {},
   "outputs": [
    {
     "data": {
      "text/plain": [
       "0.0    37217\n",
       "1.0     1665\n",
       "2.0        7\n",
       "Name: pub_rec_bankruptcies, dtype: int64"
      ]
     },
     "execution_count": 21,
     "metadata": {},
     "output_type": "execute_result"
    }
   ],
   "source": [
    "loan_df['pub_rec_bankruptcies'].value_counts()"
   ]
  },
  {
   "cell_type": "code",
   "execution_count": 22,
   "metadata": {},
   "outputs": [
    {
     "data": {
      "text/plain": [
       "emp_title      6.18\n",
       "emp_length     2.74\n",
       "desc          33.14\n",
       "dtype: float64"
      ]
     },
     "execution_count": 22,
     "metadata": {},
     "output_type": "execute_result"
    }
   ],
   "source": [
    "#pub_rec_bankruptcies is a categorical column, usually categorical column is imputed with mode, but \n",
    "#here we would be creating a much more biased data if we imputed with mode which is 0.\n",
    "#Hence, it is best to get rid of these rows\n",
    "\n",
    "loan_df = loan_df[~loan_df['pub_rec_bankruptcies'].isnull()]\n",
    "missing_col =  round(100*(loan_df.isnull().sum()/len(loan_df.id)), 2)\n",
    "missing_col[missing_col!=0]"
   ]
  },
  {
   "cell_type": "code",
   "execution_count": 23,
   "metadata": {},
   "outputs": [
    {
     "data": {
      "text/plain": [
       "emp_title     6.18\n",
       "emp_length    2.74\n",
       "dtype: float64"
      ]
     },
     "execution_count": 23,
     "metadata": {},
     "output_type": "execute_result"
    }
   ],
   "source": [
    "#desc(description) has got around 33 percent of missing data, we cannot impute the missing values as this is a text \n",
    "#form, getting rid of the rows will lead to loss of data, the best approach is deleting the column as \n",
    "#the desc can be derived or understood from the title column. \n",
    "\n",
    "loan_df = loan_df.drop('desc',axis=1)\n",
    "missing_col =  round(100*(loan_df.isnull().sum()/len(loan_df.id)), 2)\n",
    "missing_col[missing_col!=0]"
   ]
  },
  {
   "cell_type": "code",
   "execution_count": 24,
   "metadata": {},
   "outputs": [
    {
     "data": {
      "text/plain": [
       "(36431, 53)"
      ]
     },
     "execution_count": 24,
     "metadata": {},
     "output_type": "execute_result"
    }
   ],
   "source": [
    "#deleting rows which have null values for title and length\n",
    "loan_df=loan_df[~loan_df.emp_title.isnull()]\n",
    "loan_df=loan_df[~loan_df.emp_length.isnull()]\n",
    "loan_df.shape"
   ]
  },
  {
   "cell_type": "code",
   "execution_count": 25,
   "metadata": {},
   "outputs": [],
   "source": [
    "#now we have 53 columns. We have to reduce and use only those which are useful for analysis of loan default."
   ]
  },
  {
   "cell_type": "code",
   "execution_count": 26,
   "metadata": {},
   "outputs": [
    {
     "data": {
      "text/plain": [
       "Index(['id', 'member_id', 'loan_amnt', 'funded_amnt', 'funded_amnt_inv',\n",
       "       'term', 'int_rate', 'installment', 'grade', 'sub_grade', 'emp_title',\n",
       "       'emp_length', 'home_ownership', 'annual_inc', 'verification_status',\n",
       "       'issue_d', 'loan_status', 'pymnt_plan', 'url', 'purpose', 'title',\n",
       "       'zip_code', 'addr_state', 'dti', 'delinq_2yrs', 'earliest_cr_line',\n",
       "       'inq_last_6mths', 'open_acc', 'pub_rec', 'revol_bal', 'revol_util',\n",
       "       'total_acc', 'initial_list_status', 'out_prncp', 'out_prncp_inv',\n",
       "       'total_pymnt', 'total_pymnt_inv', 'total_rec_prncp', 'total_rec_int',\n",
       "       'total_rec_late_fee', 'recoveries', 'collection_recovery_fee',\n",
       "       'last_pymnt_d', 'last_pymnt_amnt', 'last_credit_pull_d',\n",
       "       'collections_12_mths_ex_med', 'policy_code', 'application_type',\n",
       "       'acc_now_delinq', 'chargeoff_within_12_mths', 'delinq_amnt',\n",
       "       'pub_rec_bankruptcies', 'tax_liens'],\n",
       "      dtype='object')"
      ]
     },
     "execution_count": 26,
     "metadata": {},
     "output_type": "execute_result"
    }
   ],
   "source": [
    "loan_df.columns"
   ]
  },
  {
   "cell_type": "code",
   "execution_count": 27,
   "metadata": {},
   "outputs": [],
   "source": [
    "#id, member_id,url is unique for all the records in the data, it wont be useful in default analysis\n",
    "loan_df = loan_df.drop(['id','member_id','url'],axis=1)"
   ]
  },
  {
   "cell_type": "code",
   "execution_count": 28,
   "metadata": {},
   "outputs": [
    {
     "data": {
      "text/plain": [
       "1        309xx\n",
       "3        917xx\n",
       "4        972xx\n",
       "5        852xx\n",
       "6        280xx\n",
       "         ...  \n",
       "39433    904xx\n",
       "39475    604xx\n",
       "39551    201xx\n",
       "39562    226xx\n",
       "39623    207xx\n",
       "Name: zip_code, Length: 36431, dtype: object"
      ]
     },
     "execution_count": 28,
     "metadata": {},
     "output_type": "execute_result"
    }
   ],
   "source": [
    "loan_df['zip_code']"
   ]
  },
  {
   "cell_type": "code",
   "execution_count": 29,
   "metadata": {},
   "outputs": [],
   "source": [
    "#zip_code only has the first 3 numbers,this contains redundant this will not be usefull for the analysis\n",
    "loan_df = loan_df.drop(['zip_code'],axis=1)"
   ]
  },
  {
   "cell_type": "code",
   "execution_count": 30,
   "metadata": {},
   "outputs": [
    {
     "data": {
      "text/plain": [
       "array(['n'], dtype=object)"
      ]
     },
     "execution_count": 30,
     "metadata": {},
     "output_type": "execute_result"
    }
   ],
   "source": [
    "loan_df['pymnt_plan'].unique()"
   ]
  },
  {
   "cell_type": "code",
   "execution_count": 31,
   "metadata": {},
   "outputs": [],
   "source": [
    "#pymnt_plan has only one 'n' value for all the records hence its not going to\n",
    "#contribute much for the default analysis. hence we can drop the column\n",
    "loan_df = loan_df.drop('pymnt_plan',axis=1)"
   ]
  },
  {
   "cell_type": "code",
   "execution_count": 32,
   "metadata": {},
   "outputs": [
    {
     "data": {
      "text/plain": [
       "array(['f'], dtype=object)"
      ]
     },
     "execution_count": 32,
     "metadata": {},
     "output_type": "execute_result"
    }
   ],
   "source": [
    "loan_df['initial_list_status'].unique()"
   ]
  },
  {
   "cell_type": "code",
   "execution_count": 33,
   "metadata": {},
   "outputs": [],
   "source": [
    "#initial_list_status has only one 'f' value for all the records hence its not going to\n",
    "#contribute for the default analysis. hence we can drop the column\n",
    "loan_df = loan_df.drop('initial_list_status',axis=1)"
   ]
  },
  {
   "cell_type": "code",
   "execution_count": 34,
   "metadata": {},
   "outputs": [
    {
     "data": {
      "text/plain": [
       "array([1], dtype=int64)"
      ]
     },
     "execution_count": 34,
     "metadata": {},
     "output_type": "execute_result"
    }
   ],
   "source": [
    "loan_df['policy_code'].unique()"
   ]
  },
  {
   "cell_type": "code",
   "execution_count": 35,
   "metadata": {},
   "outputs": [],
   "source": [
    "#policy_code has only one '1' value for all the records hence its not going to\n",
    "#contribute for the default analysis. hence we can drop the column\n",
    "loan_df = loan_df.drop('policy_code',axis=1)"
   ]
  },
  {
   "cell_type": "code",
   "execution_count": 36,
   "metadata": {},
   "outputs": [
    {
     "data": {
      "text/plain": [
       "array(['INDIVIDUAL'], dtype=object)"
      ]
     },
     "execution_count": 36,
     "metadata": {},
     "output_type": "execute_result"
    }
   ],
   "source": [
    "loan_df['application_type'].unique()"
   ]
  },
  {
   "cell_type": "code",
   "execution_count": 37,
   "metadata": {},
   "outputs": [],
   "source": [
    "#policy_code has only one 'indivial' value for all the records, indicating that all the loans are individual and not joint type hence its not going to\n",
    "#contribute for the default analysis. hence we can drop the column\n",
    "loan_df = loan_df.drop('application_type',axis=1)"
   ]
  },
  {
   "cell_type": "code",
   "execution_count": 38,
   "metadata": {},
   "outputs": [
    {
     "data": {
      "text/plain": [
       "array([0], dtype=int64)"
      ]
     },
     "execution_count": 38,
     "metadata": {},
     "output_type": "execute_result"
    }
   ],
   "source": [
    "loan_df['acc_now_delinq'].unique() #The number of accounts on which the borrower is now delinquent."
   ]
  },
  {
   "cell_type": "code",
   "execution_count": 39,
   "metadata": {},
   "outputs": [],
   "source": [
    "#acc_now_delinq has only one '0' value for all the records,its not going to\n",
    "#contribute for the default analysis. hence we can drop the column\n",
    "loan_df = loan_df.drop('acc_now_delinq',axis=1)"
   ]
  },
  {
   "cell_type": "code",
   "execution_count": 40,
   "metadata": {},
   "outputs": [
    {
     "data": {
      "text/html": [
       "<div>\n",
       "<style scoped>\n",
       "    .dataframe tbody tr th:only-of-type {\n",
       "        vertical-align: middle;\n",
       "    }\n",
       "\n",
       "    .dataframe tbody tr th {\n",
       "        vertical-align: top;\n",
       "    }\n",
       "\n",
       "    .dataframe thead th {\n",
       "        text-align: right;\n",
       "    }\n",
       "</style>\n",
       "<table border=\"1\" class=\"dataframe\">\n",
       "  <thead>\n",
       "    <tr style=\"text-align: right;\">\n",
       "      <th></th>\n",
       "      <th>loan_amnt</th>\n",
       "      <th>funded_amnt</th>\n",
       "      <th>funded_amnt_inv</th>\n",
       "    </tr>\n",
       "  </thead>\n",
       "  <tbody>\n",
       "    <tr>\n",
       "      <th>1</th>\n",
       "      <td>2500</td>\n",
       "      <td>2500</td>\n",
       "      <td>2500.00</td>\n",
       "    </tr>\n",
       "    <tr>\n",
       "      <th>3</th>\n",
       "      <td>10000</td>\n",
       "      <td>10000</td>\n",
       "      <td>10000.00</td>\n",
       "    </tr>\n",
       "    <tr>\n",
       "      <th>4</th>\n",
       "      <td>3000</td>\n",
       "      <td>3000</td>\n",
       "      <td>3000.00</td>\n",
       "    </tr>\n",
       "    <tr>\n",
       "      <th>5</th>\n",
       "      <td>5000</td>\n",
       "      <td>5000</td>\n",
       "      <td>5000.00</td>\n",
       "    </tr>\n",
       "    <tr>\n",
       "      <th>6</th>\n",
       "      <td>7000</td>\n",
       "      <td>7000</td>\n",
       "      <td>7000.00</td>\n",
       "    </tr>\n",
       "    <tr>\n",
       "      <th>...</th>\n",
       "      <td>...</td>\n",
       "      <td>...</td>\n",
       "      <td>...</td>\n",
       "    </tr>\n",
       "    <tr>\n",
       "      <th>39433</th>\n",
       "      <td>7500</td>\n",
       "      <td>7500</td>\n",
       "      <td>1599.78</td>\n",
       "    </tr>\n",
       "    <tr>\n",
       "      <th>39475</th>\n",
       "      <td>12000</td>\n",
       "      <td>12000</td>\n",
       "      <td>725.00</td>\n",
       "    </tr>\n",
       "    <tr>\n",
       "      <th>39551</th>\n",
       "      <td>12375</td>\n",
       "      <td>12375</td>\n",
       "      <td>1000.00</td>\n",
       "    </tr>\n",
       "    <tr>\n",
       "      <th>39562</th>\n",
       "      <td>4800</td>\n",
       "      <td>4800</td>\n",
       "      <td>1100.00</td>\n",
       "    </tr>\n",
       "    <tr>\n",
       "      <th>39623</th>\n",
       "      <td>9000</td>\n",
       "      <td>9000</td>\n",
       "      <td>700.00</td>\n",
       "    </tr>\n",
       "  </tbody>\n",
       "</table>\n",
       "<p>36431 rows × 3 columns</p>\n",
       "</div>"
      ],
      "text/plain": [
       "       loan_amnt  funded_amnt  funded_amnt_inv\n",
       "1           2500         2500          2500.00\n",
       "3          10000        10000         10000.00\n",
       "4           3000         3000          3000.00\n",
       "5           5000         5000          5000.00\n",
       "6           7000         7000          7000.00\n",
       "...          ...          ...              ...\n",
       "39433       7500         7500          1599.78\n",
       "39475      12000        12000           725.00\n",
       "39551      12375        12375          1000.00\n",
       "39562       4800         4800          1100.00\n",
       "39623       9000         9000           700.00\n",
       "\n",
       "[36431 rows x 3 columns]"
      ]
     },
     "execution_count": 40,
     "metadata": {},
     "output_type": "execute_result"
    }
   ],
   "source": [
    "loan_df[['loan_amnt','funded_amnt','funded_amnt_inv']]"
   ]
  },
  {
   "cell_type": "code",
   "execution_count": 41,
   "metadata": {},
   "outputs": [
    {
     "data": {
      "text/plain": [
       "(36431, 42)"
      ]
     },
     "execution_count": 41,
     "metadata": {},
     "output_type": "execute_result"
    }
   ],
   "source": [
    "#we can see that the above 3 columns have same data, hence we can delete the funded_amnt,funded_amnt_inv \n",
    "loan_df = loan_df.drop(['funded_amnt','funded_amnt_inv'], axis = 1)\n",
    "loan_df.shape"
   ]
  },
  {
   "cell_type": "code",
   "execution_count": 42,
   "metadata": {},
   "outputs": [
    {
     "data": {
      "text/plain": [
       "array([0], dtype=int64)"
      ]
     },
     "execution_count": 42,
     "metadata": {},
     "output_type": "execute_result"
    }
   ],
   "source": [
    "loan_df['delinq_amnt'].unique()"
   ]
  },
  {
   "cell_type": "code",
   "execution_count": 43,
   "metadata": {},
   "outputs": [],
   "source": [
    "#delinq_amnt has only one '0' value for all the records,its not going to\n",
    "#contribute for the default analysis. hence we can drop the column\n",
    "loan_df = loan_df.drop('delinq_amnt',axis=1)"
   ]
  },
  {
   "cell_type": "code",
   "execution_count": 44,
   "metadata": {},
   "outputs": [
    {
     "data": {
      "text/html": [
       "<div>\n",
       "<style scoped>\n",
       "    .dataframe tbody tr th:only-of-type {\n",
       "        vertical-align: middle;\n",
       "    }\n",
       "\n",
       "    .dataframe tbody tr th {\n",
       "        vertical-align: top;\n",
       "    }\n",
       "\n",
       "    .dataframe thead th {\n",
       "        text-align: right;\n",
       "    }\n",
       "</style>\n",
       "<table border=\"1\" class=\"dataframe\">\n",
       "  <thead>\n",
       "    <tr style=\"text-align: right;\">\n",
       "      <th></th>\n",
       "      <th>loan_amnt</th>\n",
       "      <th>term</th>\n",
       "      <th>int_rate</th>\n",
       "      <th>installment</th>\n",
       "      <th>grade</th>\n",
       "      <th>sub_grade</th>\n",
       "      <th>emp_title</th>\n",
       "      <th>emp_length</th>\n",
       "      <th>home_ownership</th>\n",
       "      <th>annual_inc</th>\n",
       "      <th>...</th>\n",
       "      <th>total_rec_late_fee</th>\n",
       "      <th>recoveries</th>\n",
       "      <th>collection_recovery_fee</th>\n",
       "      <th>last_pymnt_d</th>\n",
       "      <th>last_pymnt_amnt</th>\n",
       "      <th>last_credit_pull_d</th>\n",
       "      <th>collections_12_mths_ex_med</th>\n",
       "      <th>chargeoff_within_12_mths</th>\n",
       "      <th>pub_rec_bankruptcies</th>\n",
       "      <th>tax_liens</th>\n",
       "    </tr>\n",
       "  </thead>\n",
       "  <tbody>\n",
       "    <tr>\n",
       "      <th>1</th>\n",
       "      <td>2500</td>\n",
       "      <td>60 months</td>\n",
       "      <td>15.27%</td>\n",
       "      <td>59.83</td>\n",
       "      <td>C</td>\n",
       "      <td>C4</td>\n",
       "      <td>Ryder</td>\n",
       "      <td>&lt; 1 year</td>\n",
       "      <td>RENT</td>\n",
       "      <td>30000.0</td>\n",
       "      <td>...</td>\n",
       "      <td>0.00</td>\n",
       "      <td>117.08</td>\n",
       "      <td>1.11</td>\n",
       "      <td>Apr-13</td>\n",
       "      <td>119.66</td>\n",
       "      <td>Sep-13</td>\n",
       "      <td>0.0</td>\n",
       "      <td>0.0</td>\n",
       "      <td>0.0</td>\n",
       "      <td>0.0</td>\n",
       "    </tr>\n",
       "    <tr>\n",
       "      <th>3</th>\n",
       "      <td>10000</td>\n",
       "      <td>36 months</td>\n",
       "      <td>13.49%</td>\n",
       "      <td>339.31</td>\n",
       "      <td>C</td>\n",
       "      <td>C1</td>\n",
       "      <td>AIR RESOURCES BOARD</td>\n",
       "      <td>10+ years</td>\n",
       "      <td>RENT</td>\n",
       "      <td>49200.0</td>\n",
       "      <td>...</td>\n",
       "      <td>16.97</td>\n",
       "      <td>0.00</td>\n",
       "      <td>0.00</td>\n",
       "      <td>Jan-15</td>\n",
       "      <td>357.48</td>\n",
       "      <td>Apr-16</td>\n",
       "      <td>0.0</td>\n",
       "      <td>0.0</td>\n",
       "      <td>0.0</td>\n",
       "      <td>0.0</td>\n",
       "    </tr>\n",
       "    <tr>\n",
       "      <th>4</th>\n",
       "      <td>3000</td>\n",
       "      <td>60 months</td>\n",
       "      <td>12.69%</td>\n",
       "      <td>67.79</td>\n",
       "      <td>B</td>\n",
       "      <td>B5</td>\n",
       "      <td>University Medical Group</td>\n",
       "      <td>1 year</td>\n",
       "      <td>RENT</td>\n",
       "      <td>80000.0</td>\n",
       "      <td>...</td>\n",
       "      <td>0.00</td>\n",
       "      <td>0.00</td>\n",
       "      <td>0.00</td>\n",
       "      <td>May-16</td>\n",
       "      <td>67.79</td>\n",
       "      <td>May-16</td>\n",
       "      <td>0.0</td>\n",
       "      <td>0.0</td>\n",
       "      <td>0.0</td>\n",
       "      <td>0.0</td>\n",
       "    </tr>\n",
       "    <tr>\n",
       "      <th>5</th>\n",
       "      <td>5000</td>\n",
       "      <td>36 months</td>\n",
       "      <td>7.90%</td>\n",
       "      <td>156.46</td>\n",
       "      <td>A</td>\n",
       "      <td>A4</td>\n",
       "      <td>Veolia Transportaton</td>\n",
       "      <td>3 years</td>\n",
       "      <td>RENT</td>\n",
       "      <td>36000.0</td>\n",
       "      <td>...</td>\n",
       "      <td>0.00</td>\n",
       "      <td>0.00</td>\n",
       "      <td>0.00</td>\n",
       "      <td>Jan-15</td>\n",
       "      <td>161.03</td>\n",
       "      <td>Jan-16</td>\n",
       "      <td>0.0</td>\n",
       "      <td>0.0</td>\n",
       "      <td>0.0</td>\n",
       "      <td>0.0</td>\n",
       "    </tr>\n",
       "    <tr>\n",
       "      <th>6</th>\n",
       "      <td>7000</td>\n",
       "      <td>60 months</td>\n",
       "      <td>15.96%</td>\n",
       "      <td>170.08</td>\n",
       "      <td>C</td>\n",
       "      <td>C5</td>\n",
       "      <td>Southern Star Photography</td>\n",
       "      <td>8 years</td>\n",
       "      <td>RENT</td>\n",
       "      <td>47004.0</td>\n",
       "      <td>...</td>\n",
       "      <td>0.00</td>\n",
       "      <td>0.00</td>\n",
       "      <td>0.00</td>\n",
       "      <td>May-16</td>\n",
       "      <td>1313.76</td>\n",
       "      <td>May-16</td>\n",
       "      <td>0.0</td>\n",
       "      <td>0.0</td>\n",
       "      <td>0.0</td>\n",
       "      <td>0.0</td>\n",
       "    </tr>\n",
       "  </tbody>\n",
       "</table>\n",
       "<p>5 rows × 41 columns</p>\n",
       "</div>"
      ],
      "text/plain": [
       "   loan_amnt        term int_rate  installment grade sub_grade  \\\n",
       "1       2500   60 months   15.27%        59.83     C        C4   \n",
       "3      10000   36 months   13.49%       339.31     C        C1   \n",
       "4       3000   60 months   12.69%        67.79     B        B5   \n",
       "5       5000   36 months    7.90%       156.46     A        A4   \n",
       "6       7000   60 months   15.96%       170.08     C        C5   \n",
       "\n",
       "                   emp_title emp_length home_ownership  annual_inc  ...  \\\n",
       "1                      Ryder   < 1 year           RENT     30000.0  ...   \n",
       "3        AIR RESOURCES BOARD  10+ years           RENT     49200.0  ...   \n",
       "4   University Medical Group     1 year           RENT     80000.0  ...   \n",
       "5       Veolia Transportaton    3 years           RENT     36000.0  ...   \n",
       "6  Southern Star Photography    8 years           RENT     47004.0  ...   \n",
       "\n",
       "  total_rec_late_fee recoveries collection_recovery_fee last_pymnt_d  \\\n",
       "1               0.00     117.08                    1.11       Apr-13   \n",
       "3              16.97       0.00                    0.00       Jan-15   \n",
       "4               0.00       0.00                    0.00       May-16   \n",
       "5               0.00       0.00                    0.00       Jan-15   \n",
       "6               0.00       0.00                    0.00       May-16   \n",
       "\n",
       "  last_pymnt_amnt last_credit_pull_d  collections_12_mths_ex_med  \\\n",
       "1          119.66             Sep-13                         0.0   \n",
       "3          357.48             Apr-16                         0.0   \n",
       "4           67.79             May-16                         0.0   \n",
       "5          161.03             Jan-16                         0.0   \n",
       "6         1313.76             May-16                         0.0   \n",
       "\n",
       "   chargeoff_within_12_mths pub_rec_bankruptcies  tax_liens  \n",
       "1                       0.0                  0.0        0.0  \n",
       "3                       0.0                  0.0        0.0  \n",
       "4                       0.0                  0.0        0.0  \n",
       "5                       0.0                  0.0        0.0  \n",
       "6                       0.0                  0.0        0.0  \n",
       "\n",
       "[5 rows x 41 columns]"
      ]
     },
     "execution_count": 44,
     "metadata": {},
     "output_type": "execute_result"
    }
   ],
   "source": [
    "loan_df.head()"
   ]
  },
  {
   "cell_type": "code",
   "execution_count": 45,
   "metadata": {},
   "outputs": [
    {
     "name": "stdout",
     "output_type": "stream",
     "text": [
      "collections_12_mths_ex_med unique values:  [0.]\n",
      "chargeoff_within_12_mths unique values:  [0.]\n",
      "pub_rec_bankruptcies unique values:  [0. 1. 2.]\n",
      "tax_liens unique values:  [0.]\n"
     ]
    }
   ],
   "source": [
    "print(\"collections_12_mths_ex_med unique values: \",loan_df['collections_12_mths_ex_med'].unique())\n",
    "print(\"chargeoff_within_12_mths unique values: \",loan_df['chargeoff_within_12_mths'].unique())\n",
    "print(\"pub_rec_bankruptcies unique values: \",loan_df['pub_rec_bankruptcies'].unique())\n",
    "print(\"tax_liens unique values: \",loan_df['tax_liens'].unique())\n"
   ]
  },
  {
   "cell_type": "code",
   "execution_count": 46,
   "metadata": {},
   "outputs": [
    {
     "data": {
      "text/plain": [
       "(36431, 38)"
      ]
     },
     "execution_count": 46,
     "metadata": {},
     "output_type": "execute_result"
    }
   ],
   "source": [
    "#the collections_12_mths_ex_med, chargeoff_within_12_mths, tax_liens have 0 for all the records,\n",
    "#it will not add much to the analysis. hence dropping it.\n",
    "\n",
    "loan_df = loan_df.drop(['collections_12_mths_ex_med','chargeoff_within_12_mths','tax_liens'],axis = 1)\n",
    "loan_df.shape"
   ]
  },
  {
   "cell_type": "code",
   "execution_count": 47,
   "metadata": {},
   "outputs": [
    {
     "data": {
      "text/html": [
       "<div>\n",
       "<style scoped>\n",
       "    .dataframe tbody tr th:only-of-type {\n",
       "        vertical-align: middle;\n",
       "    }\n",
       "\n",
       "    .dataframe tbody tr th {\n",
       "        vertical-align: top;\n",
       "    }\n",
       "\n",
       "    .dataframe thead th {\n",
       "        text-align: right;\n",
       "    }\n",
       "</style>\n",
       "<table border=\"1\" class=\"dataframe\">\n",
       "  <thead>\n",
       "    <tr style=\"text-align: right;\">\n",
       "      <th></th>\n",
       "      <th>loan_amnt</th>\n",
       "      <th>term</th>\n",
       "      <th>int_rate</th>\n",
       "      <th>installment</th>\n",
       "      <th>grade</th>\n",
       "      <th>sub_grade</th>\n",
       "      <th>emp_title</th>\n",
       "      <th>emp_length</th>\n",
       "      <th>home_ownership</th>\n",
       "      <th>annual_inc</th>\n",
       "      <th>...</th>\n",
       "      <th>total_pymnt_inv</th>\n",
       "      <th>total_rec_prncp</th>\n",
       "      <th>total_rec_int</th>\n",
       "      <th>total_rec_late_fee</th>\n",
       "      <th>recoveries</th>\n",
       "      <th>collection_recovery_fee</th>\n",
       "      <th>last_pymnt_d</th>\n",
       "      <th>last_pymnt_amnt</th>\n",
       "      <th>last_credit_pull_d</th>\n",
       "      <th>pub_rec_bankruptcies</th>\n",
       "    </tr>\n",
       "  </thead>\n",
       "  <tbody>\n",
       "    <tr>\n",
       "      <th>1</th>\n",
       "      <td>2500</td>\n",
       "      <td>60 months</td>\n",
       "      <td>15.27%</td>\n",
       "      <td>59.83</td>\n",
       "      <td>C</td>\n",
       "      <td>C4</td>\n",
       "      <td>Ryder</td>\n",
       "      <td>&lt; 1 year</td>\n",
       "      <td>RENT</td>\n",
       "      <td>30000.0</td>\n",
       "      <td>...</td>\n",
       "      <td>1008.71</td>\n",
       "      <td>456.46</td>\n",
       "      <td>435.17</td>\n",
       "      <td>0.00</td>\n",
       "      <td>117.08</td>\n",
       "      <td>1.11</td>\n",
       "      <td>Apr-13</td>\n",
       "      <td>119.66</td>\n",
       "      <td>Sep-13</td>\n",
       "      <td>0.0</td>\n",
       "    </tr>\n",
       "    <tr>\n",
       "      <th>3</th>\n",
       "      <td>10000</td>\n",
       "      <td>36 months</td>\n",
       "      <td>13.49%</td>\n",
       "      <td>339.31</td>\n",
       "      <td>C</td>\n",
       "      <td>C1</td>\n",
       "      <td>AIR RESOURCES BOARD</td>\n",
       "      <td>10+ years</td>\n",
       "      <td>RENT</td>\n",
       "      <td>49200.0</td>\n",
       "      <td>...</td>\n",
       "      <td>12231.89</td>\n",
       "      <td>10000.00</td>\n",
       "      <td>2214.92</td>\n",
       "      <td>16.97</td>\n",
       "      <td>0.00</td>\n",
       "      <td>0.00</td>\n",
       "      <td>Jan-15</td>\n",
       "      <td>357.48</td>\n",
       "      <td>Apr-16</td>\n",
       "      <td>0.0</td>\n",
       "    </tr>\n",
       "    <tr>\n",
       "      <th>4</th>\n",
       "      <td>3000</td>\n",
       "      <td>60 months</td>\n",
       "      <td>12.69%</td>\n",
       "      <td>67.79</td>\n",
       "      <td>B</td>\n",
       "      <td>B5</td>\n",
       "      <td>University Medical Group</td>\n",
       "      <td>1 year</td>\n",
       "      <td>RENT</td>\n",
       "      <td>80000.0</td>\n",
       "      <td>...</td>\n",
       "      <td>3513.33</td>\n",
       "      <td>2475.94</td>\n",
       "      <td>1037.39</td>\n",
       "      <td>0.00</td>\n",
       "      <td>0.00</td>\n",
       "      <td>0.00</td>\n",
       "      <td>May-16</td>\n",
       "      <td>67.79</td>\n",
       "      <td>May-16</td>\n",
       "      <td>0.0</td>\n",
       "    </tr>\n",
       "    <tr>\n",
       "      <th>5</th>\n",
       "      <td>5000</td>\n",
       "      <td>36 months</td>\n",
       "      <td>7.90%</td>\n",
       "      <td>156.46</td>\n",
       "      <td>A</td>\n",
       "      <td>A4</td>\n",
       "      <td>Veolia Transportaton</td>\n",
       "      <td>3 years</td>\n",
       "      <td>RENT</td>\n",
       "      <td>36000.0</td>\n",
       "      <td>...</td>\n",
       "      <td>5632.21</td>\n",
       "      <td>5000.00</td>\n",
       "      <td>632.21</td>\n",
       "      <td>0.00</td>\n",
       "      <td>0.00</td>\n",
       "      <td>0.00</td>\n",
       "      <td>Jan-15</td>\n",
       "      <td>161.03</td>\n",
       "      <td>Jan-16</td>\n",
       "      <td>0.0</td>\n",
       "    </tr>\n",
       "    <tr>\n",
       "      <th>6</th>\n",
       "      <td>7000</td>\n",
       "      <td>60 months</td>\n",
       "      <td>15.96%</td>\n",
       "      <td>170.08</td>\n",
       "      <td>C</td>\n",
       "      <td>C5</td>\n",
       "      <td>Southern Star Photography</td>\n",
       "      <td>8 years</td>\n",
       "      <td>RENT</td>\n",
       "      <td>47004.0</td>\n",
       "      <td>...</td>\n",
       "      <td>10110.84</td>\n",
       "      <td>6985.61</td>\n",
       "      <td>3125.23</td>\n",
       "      <td>0.00</td>\n",
       "      <td>0.00</td>\n",
       "      <td>0.00</td>\n",
       "      <td>May-16</td>\n",
       "      <td>1313.76</td>\n",
       "      <td>May-16</td>\n",
       "      <td>0.0</td>\n",
       "    </tr>\n",
       "  </tbody>\n",
       "</table>\n",
       "<p>5 rows × 38 columns</p>\n",
       "</div>"
      ],
      "text/plain": [
       "   loan_amnt        term int_rate  installment grade sub_grade  \\\n",
       "1       2500   60 months   15.27%        59.83     C        C4   \n",
       "3      10000   36 months   13.49%       339.31     C        C1   \n",
       "4       3000   60 months   12.69%        67.79     B        B5   \n",
       "5       5000   36 months    7.90%       156.46     A        A4   \n",
       "6       7000   60 months   15.96%       170.08     C        C5   \n",
       "\n",
       "                   emp_title emp_length home_ownership  annual_inc  ...  \\\n",
       "1                      Ryder   < 1 year           RENT     30000.0  ...   \n",
       "3        AIR RESOURCES BOARD  10+ years           RENT     49200.0  ...   \n",
       "4   University Medical Group     1 year           RENT     80000.0  ...   \n",
       "5       Veolia Transportaton    3 years           RENT     36000.0  ...   \n",
       "6  Southern Star Photography    8 years           RENT     47004.0  ...   \n",
       "\n",
       "  total_pymnt_inv total_rec_prncp total_rec_int total_rec_late_fee recoveries  \\\n",
       "1         1008.71          456.46        435.17               0.00     117.08   \n",
       "3        12231.89        10000.00       2214.92              16.97       0.00   \n",
       "4         3513.33         2475.94       1037.39               0.00       0.00   \n",
       "5         5632.21         5000.00        632.21               0.00       0.00   \n",
       "6        10110.84         6985.61       3125.23               0.00       0.00   \n",
       "\n",
       "  collection_recovery_fee  last_pymnt_d  last_pymnt_amnt last_credit_pull_d  \\\n",
       "1                    1.11        Apr-13           119.66             Sep-13   \n",
       "3                    0.00        Jan-15           357.48             Apr-16   \n",
       "4                    0.00        May-16            67.79             May-16   \n",
       "5                    0.00        Jan-15           161.03             Jan-16   \n",
       "6                    0.00        May-16          1313.76             May-16   \n",
       "\n",
       "   pub_rec_bankruptcies  \n",
       "1                   0.0  \n",
       "3                   0.0  \n",
       "4                   0.0  \n",
       "5                   0.0  \n",
       "6                   0.0  \n",
       "\n",
       "[5 rows x 38 columns]"
      ]
     },
     "execution_count": 47,
     "metadata": {},
     "output_type": "execute_result"
    }
   ],
   "source": [
    "loan_df.head()"
   ]
  },
  {
   "cell_type": "code",
   "execution_count": 48,
   "metadata": {},
   "outputs": [
    {
     "data": {
      "text/plain": [
       "Index(['loan_amnt', 'term', 'int_rate', 'installment', 'grade', 'sub_grade',\n",
       "       'emp_title', 'emp_length', 'home_ownership', 'annual_inc',\n",
       "       'verification_status', 'issue_d', 'loan_status', 'purpose', 'title',\n",
       "       'addr_state', 'dti', 'delinq_2yrs', 'earliest_cr_line',\n",
       "       'inq_last_6mths', 'open_acc', 'pub_rec', 'revol_bal', 'revol_util',\n",
       "       'total_acc', 'out_prncp', 'out_prncp_inv', 'total_pymnt',\n",
       "       'total_pymnt_inv', 'total_rec_prncp', 'total_rec_int',\n",
       "       'total_rec_late_fee', 'recoveries', 'collection_recovery_fee',\n",
       "       'last_pymnt_d', 'last_pymnt_amnt', 'last_credit_pull_d',\n",
       "       'pub_rec_bankruptcies'],\n",
       "      dtype='object')"
      ]
     },
     "execution_count": 48,
     "metadata": {},
     "output_type": "execute_result"
    }
   ],
   "source": [
    "loan_df.columns"
   ]
  },
  {
   "cell_type": "code",
   "execution_count": 49,
   "metadata": {},
   "outputs": [
    {
     "name": "stdout",
     "output_type": "stream",
     "text": [
      "<class 'pandas.core.frame.DataFrame'>\n",
      "Int64Index: 36431 entries, 1 to 39623\n",
      "Data columns (total 38 columns):\n",
      " #   Column                   Non-Null Count  Dtype  \n",
      "---  ------                   --------------  -----  \n",
      " 0   loan_amnt                36431 non-null  int64  \n",
      " 1   term                     36431 non-null  object \n",
      " 2   int_rate                 36431 non-null  object \n",
      " 3   installment              36431 non-null  float64\n",
      " 4   grade                    36431 non-null  object \n",
      " 5   sub_grade                36431 non-null  object \n",
      " 6   emp_title                36431 non-null  object \n",
      " 7   emp_length               36431 non-null  object \n",
      " 8   home_ownership           36431 non-null  object \n",
      " 9   annual_inc               36431 non-null  float64\n",
      " 10  verification_status      36431 non-null  object \n",
      " 11  issue_d                  36431 non-null  object \n",
      " 12  loan_status              36431 non-null  object \n",
      " 13  purpose                  36431 non-null  object \n",
      " 14  title                    36431 non-null  object \n",
      " 15  addr_state               36431 non-null  object \n",
      " 16  dti                      36431 non-null  float64\n",
      " 17  delinq_2yrs              36431 non-null  int64  \n",
      " 18  earliest_cr_line         36431 non-null  object \n",
      " 19  inq_last_6mths           36431 non-null  int64  \n",
      " 20  open_acc                 36431 non-null  int64  \n",
      " 21  pub_rec                  36431 non-null  int64  \n",
      " 22  revol_bal                36431 non-null  int64  \n",
      " 23  revol_util               36431 non-null  object \n",
      " 24  total_acc                36431 non-null  int64  \n",
      " 25  out_prncp                36431 non-null  float64\n",
      " 26  out_prncp_inv            36431 non-null  float64\n",
      " 27  total_pymnt              36431 non-null  float64\n",
      " 28  total_pymnt_inv          36431 non-null  float64\n",
      " 29  total_rec_prncp          36431 non-null  float64\n",
      " 30  total_rec_int            36431 non-null  float64\n",
      " 31  total_rec_late_fee       36431 non-null  float64\n",
      " 32  recoveries               36431 non-null  float64\n",
      " 33  collection_recovery_fee  36431 non-null  float64\n",
      " 34  last_pymnt_d             36431 non-null  object \n",
      " 35  last_pymnt_amnt          36431 non-null  float64\n",
      " 36  last_credit_pull_d       36431 non-null  object \n",
      " 37  pub_rec_bankruptcies     36431 non-null  float64\n",
      "dtypes: float64(14), int64(7), object(17)\n",
      "memory usage: 10.8+ MB\n"
     ]
    }
   ],
   "source": [
    "loan_df.info()"
   ]
  },
  {
   "cell_type": "code",
   "execution_count": 50,
   "metadata": {},
   "outputs": [
    {
     "data": {
      "text/html": [
       "<div>\n",
       "<style scoped>\n",
       "    .dataframe tbody tr th:only-of-type {\n",
       "        vertical-align: middle;\n",
       "    }\n",
       "\n",
       "    .dataframe tbody tr th {\n",
       "        vertical-align: top;\n",
       "    }\n",
       "\n",
       "    .dataframe thead th {\n",
       "        text-align: right;\n",
       "    }\n",
       "</style>\n",
       "<table border=\"1\" class=\"dataframe\">\n",
       "  <thead>\n",
       "    <tr style=\"text-align: right;\">\n",
       "      <th></th>\n",
       "      <th>issue_d</th>\n",
       "      <th>earliest_cr_line</th>\n",
       "      <th>last_pymnt_d</th>\n",
       "      <th>last_credit_pull_d</th>\n",
       "    </tr>\n",
       "  </thead>\n",
       "  <tbody>\n",
       "    <tr>\n",
       "      <th>1</th>\n",
       "      <td>Dec-11</td>\n",
       "      <td>Apr-99</td>\n",
       "      <td>Apr-13</td>\n",
       "      <td>Sep-13</td>\n",
       "    </tr>\n",
       "    <tr>\n",
       "      <th>3</th>\n",
       "      <td>Dec-11</td>\n",
       "      <td>Feb-96</td>\n",
       "      <td>Jan-15</td>\n",
       "      <td>Apr-16</td>\n",
       "    </tr>\n",
       "    <tr>\n",
       "      <th>4</th>\n",
       "      <td>Dec-11</td>\n",
       "      <td>Jan-96</td>\n",
       "      <td>May-16</td>\n",
       "      <td>May-16</td>\n",
       "    </tr>\n",
       "    <tr>\n",
       "      <th>5</th>\n",
       "      <td>Dec-11</td>\n",
       "      <td>Nov-04</td>\n",
       "      <td>Jan-15</td>\n",
       "      <td>Jan-16</td>\n",
       "    </tr>\n",
       "    <tr>\n",
       "      <th>6</th>\n",
       "      <td>Dec-11</td>\n",
       "      <td>Jul-05</td>\n",
       "      <td>May-16</td>\n",
       "      <td>May-16</td>\n",
       "    </tr>\n",
       "    <tr>\n",
       "      <th>...</th>\n",
       "      <td>...</td>\n",
       "      <td>...</td>\n",
       "      <td>...</td>\n",
       "      <td>...</td>\n",
       "    </tr>\n",
       "    <tr>\n",
       "      <th>39433</th>\n",
       "      <td>Jan-08</td>\n",
       "      <td>Feb-95</td>\n",
       "      <td>Jan-11</td>\n",
       "      <td>May-16</td>\n",
       "    </tr>\n",
       "    <tr>\n",
       "      <th>39475</th>\n",
       "      <td>Dec-07</td>\n",
       "      <td>Oct-79</td>\n",
       "      <td>May-08</td>\n",
       "      <td>Oct-15</td>\n",
       "    </tr>\n",
       "    <tr>\n",
       "      <th>39551</th>\n",
       "      <td>Dec-07</td>\n",
       "      <td>Dec-00</td>\n",
       "      <td>Feb-10</td>\n",
       "      <td>May-14</td>\n",
       "    </tr>\n",
       "    <tr>\n",
       "      <th>39562</th>\n",
       "      <td>Nov-07</td>\n",
       "      <td>Mar-00</td>\n",
       "      <td>Aug-08</td>\n",
       "      <td>Aug-08</td>\n",
       "    </tr>\n",
       "    <tr>\n",
       "      <th>39623</th>\n",
       "      <td>Oct-07</td>\n",
       "      <td>Aug-97</td>\n",
       "      <td>May-08</td>\n",
       "      <td>May-16</td>\n",
       "    </tr>\n",
       "  </tbody>\n",
       "</table>\n",
       "<p>36431 rows × 4 columns</p>\n",
       "</div>"
      ],
      "text/plain": [
       "      issue_d earliest_cr_line last_pymnt_d last_credit_pull_d\n",
       "1      Dec-11           Apr-99       Apr-13             Sep-13\n",
       "3      Dec-11           Feb-96       Jan-15             Apr-16\n",
       "4      Dec-11           Jan-96       May-16             May-16\n",
       "5      Dec-11           Nov-04       Jan-15             Jan-16\n",
       "6      Dec-11           Jul-05       May-16             May-16\n",
       "...       ...              ...          ...                ...\n",
       "39433  Jan-08           Feb-95       Jan-11             May-16\n",
       "39475  Dec-07           Oct-79       May-08             Oct-15\n",
       "39551  Dec-07           Dec-00       Feb-10             May-14\n",
       "39562  Nov-07           Mar-00       Aug-08             Aug-08\n",
       "39623  Oct-07           Aug-97       May-08             May-16\n",
       "\n",
       "[36431 rows x 4 columns]"
      ]
     },
     "execution_count": 50,
     "metadata": {},
     "output_type": "execute_result"
    }
   ],
   "source": [
    "#the below columns are dates but they are of object type\n",
    "loan_df[['issue_d','earliest_cr_line','last_pymnt_d','last_credit_pull_d']]"
   ]
  },
  {
   "cell_type": "code",
   "execution_count": 51,
   "metadata": {},
   "outputs": [],
   "source": [
    "#Converting all the above column to datetime type for better analysis\n",
    "loan_df.issue_d = pd.to_datetime(loan_df.issue_d, format='%b-%y')\n",
    "loan_df.earliest_cr_line = pd.to_datetime(loan_df.earliest_cr_line, format='%b-%y')\n",
    "loan_df.last_pymnt_d = pd.to_datetime(loan_df.last_pymnt_d, format='%b-%y')\n",
    "loan_df.last_credit_pull_d = pd.to_datetime(loan_df.last_credit_pull_d, format='%b-%y')"
   ]
  },
  {
   "cell_type": "code",
   "execution_count": 52,
   "metadata": {},
   "outputs": [
    {
     "data": {
      "text/html": [
       "<div>\n",
       "<style scoped>\n",
       "    .dataframe tbody tr th:only-of-type {\n",
       "        vertical-align: middle;\n",
       "    }\n",
       "\n",
       "    .dataframe tbody tr th {\n",
       "        vertical-align: top;\n",
       "    }\n",
       "\n",
       "    .dataframe thead th {\n",
       "        text-align: right;\n",
       "    }\n",
       "</style>\n",
       "<table border=\"1\" class=\"dataframe\">\n",
       "  <thead>\n",
       "    <tr style=\"text-align: right;\">\n",
       "      <th></th>\n",
       "      <th>int_rate</th>\n",
       "      <th>revol_util</th>\n",
       "    </tr>\n",
       "  </thead>\n",
       "  <tbody>\n",
       "    <tr>\n",
       "      <th>1</th>\n",
       "      <td>15.27%</td>\n",
       "      <td>9.40%</td>\n",
       "    </tr>\n",
       "    <tr>\n",
       "      <th>3</th>\n",
       "      <td>13.49%</td>\n",
       "      <td>21%</td>\n",
       "    </tr>\n",
       "    <tr>\n",
       "      <th>4</th>\n",
       "      <td>12.69%</td>\n",
       "      <td>53.90%</td>\n",
       "    </tr>\n",
       "    <tr>\n",
       "      <th>5</th>\n",
       "      <td>7.90%</td>\n",
       "      <td>28.30%</td>\n",
       "    </tr>\n",
       "    <tr>\n",
       "      <th>6</th>\n",
       "      <td>15.96%</td>\n",
       "      <td>85.60%</td>\n",
       "    </tr>\n",
       "    <tr>\n",
       "      <th>...</th>\n",
       "      <td>...</td>\n",
       "      <td>...</td>\n",
       "    </tr>\n",
       "    <tr>\n",
       "      <th>39433</th>\n",
       "      <td>9.83%</td>\n",
       "      <td>47.40%</td>\n",
       "    </tr>\n",
       "    <tr>\n",
       "      <th>39475</th>\n",
       "      <td>9.01%</td>\n",
       "      <td>18.60%</td>\n",
       "    </tr>\n",
       "    <tr>\n",
       "      <th>39551</th>\n",
       "      <td>10.91%</td>\n",
       "      <td>96.50%</td>\n",
       "    </tr>\n",
       "    <tr>\n",
       "      <th>39562</th>\n",
       "      <td>10.28%</td>\n",
       "      <td>68.70%</td>\n",
       "    </tr>\n",
       "    <tr>\n",
       "      <th>39623</th>\n",
       "      <td>12.49%</td>\n",
       "      <td>62.90%</td>\n",
       "    </tr>\n",
       "  </tbody>\n",
       "</table>\n",
       "<p>36431 rows × 2 columns</p>\n",
       "</div>"
      ],
      "text/plain": [
       "      int_rate revol_util\n",
       "1       15.27%      9.40%\n",
       "3       13.49%        21%\n",
       "4       12.69%     53.90%\n",
       "5        7.90%     28.30%\n",
       "6       15.96%     85.60%\n",
       "...        ...        ...\n",
       "39433    9.83%     47.40%\n",
       "39475    9.01%     18.60%\n",
       "39551   10.91%     96.50%\n",
       "39562   10.28%     68.70%\n",
       "39623   12.49%     62.90%\n",
       "\n",
       "[36431 rows x 2 columns]"
      ]
     },
     "execution_count": 52,
     "metadata": {},
     "output_type": "execute_result"
    }
   ],
   "source": [
    "loan_df[['int_rate','revol_util']]"
   ]
  },
  {
   "cell_type": "code",
   "execution_count": 53,
   "metadata": {},
   "outputs": [],
   "source": [
    "#converting these int_rate and revol_util columns to float and deleting % from values\n",
    "loan_df['int_rate'] = loan_df['int_rate'].str.strip('%')\n",
    "loan_df['int_rate'] = loan_df['int_rate'].astype('float')"
   ]
  },
  {
   "cell_type": "code",
   "execution_count": 54,
   "metadata": {},
   "outputs": [],
   "source": [
    "loan_df['revol_util'] = loan_df['revol_util'].str.strip('%')\n",
    "loan_df['revol_util'] = loan_df['revol_util'].astype('float')"
   ]
  },
  {
   "cell_type": "code",
   "execution_count": 55,
   "metadata": {},
   "outputs": [
    {
     "data": {
      "text/html": [
       "<div>\n",
       "<style scoped>\n",
       "    .dataframe tbody tr th:only-of-type {\n",
       "        vertical-align: middle;\n",
       "    }\n",
       "\n",
       "    .dataframe tbody tr th {\n",
       "        vertical-align: top;\n",
       "    }\n",
       "\n",
       "    .dataframe thead th {\n",
       "        text-align: right;\n",
       "    }\n",
       "</style>\n",
       "<table border=\"1\" class=\"dataframe\">\n",
       "  <thead>\n",
       "    <tr style=\"text-align: right;\">\n",
       "      <th></th>\n",
       "      <th>int_rate</th>\n",
       "      <th>revol_util</th>\n",
       "    </tr>\n",
       "  </thead>\n",
       "  <tbody>\n",
       "    <tr>\n",
       "      <th>1</th>\n",
       "      <td>15.27</td>\n",
       "      <td>9.4</td>\n",
       "    </tr>\n",
       "    <tr>\n",
       "      <th>3</th>\n",
       "      <td>13.49</td>\n",
       "      <td>21.0</td>\n",
       "    </tr>\n",
       "    <tr>\n",
       "      <th>4</th>\n",
       "      <td>12.69</td>\n",
       "      <td>53.9</td>\n",
       "    </tr>\n",
       "    <tr>\n",
       "      <th>5</th>\n",
       "      <td>7.90</td>\n",
       "      <td>28.3</td>\n",
       "    </tr>\n",
       "    <tr>\n",
       "      <th>6</th>\n",
       "      <td>15.96</td>\n",
       "      <td>85.6</td>\n",
       "    </tr>\n",
       "    <tr>\n",
       "      <th>...</th>\n",
       "      <td>...</td>\n",
       "      <td>...</td>\n",
       "    </tr>\n",
       "    <tr>\n",
       "      <th>39433</th>\n",
       "      <td>9.83</td>\n",
       "      <td>47.4</td>\n",
       "    </tr>\n",
       "    <tr>\n",
       "      <th>39475</th>\n",
       "      <td>9.01</td>\n",
       "      <td>18.6</td>\n",
       "    </tr>\n",
       "    <tr>\n",
       "      <th>39551</th>\n",
       "      <td>10.91</td>\n",
       "      <td>96.5</td>\n",
       "    </tr>\n",
       "    <tr>\n",
       "      <th>39562</th>\n",
       "      <td>10.28</td>\n",
       "      <td>68.7</td>\n",
       "    </tr>\n",
       "    <tr>\n",
       "      <th>39623</th>\n",
       "      <td>12.49</td>\n",
       "      <td>62.9</td>\n",
       "    </tr>\n",
       "  </tbody>\n",
       "</table>\n",
       "<p>36431 rows × 2 columns</p>\n",
       "</div>"
      ],
      "text/plain": [
       "       int_rate  revol_util\n",
       "1         15.27         9.4\n",
       "3         13.49        21.0\n",
       "4         12.69        53.9\n",
       "5          7.90        28.3\n",
       "6         15.96        85.6\n",
       "...         ...         ...\n",
       "39433      9.83        47.4\n",
       "39475      9.01        18.6\n",
       "39551     10.91        96.5\n",
       "39562     10.28        68.7\n",
       "39623     12.49        62.9\n",
       "\n",
       "[36431 rows x 2 columns]"
      ]
     },
     "execution_count": 55,
     "metadata": {},
     "output_type": "execute_result"
    }
   ],
   "source": [
    "loan_df[['int_rate','revol_util']]"
   ]
  },
  {
   "cell_type": "code",
   "execution_count": 56,
   "metadata": {},
   "outputs": [
    {
     "data": {
      "text/html": [
       "<div>\n",
       "<style scoped>\n",
       "    .dataframe tbody tr th:only-of-type {\n",
       "        vertical-align: middle;\n",
       "    }\n",
       "\n",
       "    .dataframe tbody tr th {\n",
       "        vertical-align: top;\n",
       "    }\n",
       "\n",
       "    .dataframe thead th {\n",
       "        text-align: right;\n",
       "    }\n",
       "</style>\n",
       "<table border=\"1\" class=\"dataframe\">\n",
       "  <thead>\n",
       "    <tr style=\"text-align: right;\">\n",
       "      <th></th>\n",
       "      <th>emp_length</th>\n",
       "    </tr>\n",
       "  </thead>\n",
       "  <tbody>\n",
       "    <tr>\n",
       "      <th>1</th>\n",
       "      <td>&lt; 1 year</td>\n",
       "    </tr>\n",
       "    <tr>\n",
       "      <th>3</th>\n",
       "      <td>10+ years</td>\n",
       "    </tr>\n",
       "    <tr>\n",
       "      <th>4</th>\n",
       "      <td>1 year</td>\n",
       "    </tr>\n",
       "    <tr>\n",
       "      <th>5</th>\n",
       "      <td>3 years</td>\n",
       "    </tr>\n",
       "    <tr>\n",
       "      <th>6</th>\n",
       "      <td>8 years</td>\n",
       "    </tr>\n",
       "    <tr>\n",
       "      <th>...</th>\n",
       "      <td>...</td>\n",
       "    </tr>\n",
       "    <tr>\n",
       "      <th>39433</th>\n",
       "      <td>7 years</td>\n",
       "    </tr>\n",
       "    <tr>\n",
       "      <th>39475</th>\n",
       "      <td>6 years</td>\n",
       "    </tr>\n",
       "    <tr>\n",
       "      <th>39551</th>\n",
       "      <td>2 years</td>\n",
       "    </tr>\n",
       "    <tr>\n",
       "      <th>39562</th>\n",
       "      <td>1 year</td>\n",
       "    </tr>\n",
       "    <tr>\n",
       "      <th>39623</th>\n",
       "      <td>8 years</td>\n",
       "    </tr>\n",
       "  </tbody>\n",
       "</table>\n",
       "<p>36431 rows × 1 columns</p>\n",
       "</div>"
      ],
      "text/plain": [
       "      emp_length\n",
       "1       < 1 year\n",
       "3      10+ years\n",
       "4         1 year\n",
       "5        3 years\n",
       "6        8 years\n",
       "...          ...\n",
       "39433    7 years\n",
       "39475    6 years\n",
       "39551    2 years\n",
       "39562     1 year\n",
       "39623    8 years\n",
       "\n",
       "[36431 rows x 1 columns]"
      ]
     },
     "execution_count": 56,
     "metadata": {},
     "output_type": "execute_result"
    }
   ],
   "source": [
    "loan_df[['emp_length']]"
   ]
  },
  {
   "cell_type": "code",
   "execution_count": 57,
   "metadata": {},
   "outputs": [],
   "source": [
    "#converting these to values bwtween 0 and 10\n",
    "loan_df = loan_df.replace({'emp_length':\n",
    "                         {'< 1 year' : 0,\n",
    "                            '1 year' : 1,\n",
    "                            '2 years' : 2,\n",
    "                            '3 years' : 3,\n",
    "                            '4 years' : 4,\n",
    "                            '5 years' : 5,\n",
    "                            '6 years' : 6,\n",
    "                            '7 years' : 7,\n",
    "                            '8 years' : 8,\n",
    "                            '9 years' : 9,\n",
    "                            '10+ years' : 10\n",
    "                         }})"
   ]
  },
  {
   "cell_type": "code",
   "execution_count": 58,
   "metadata": {},
   "outputs": [
    {
     "data": {
      "text/html": [
       "<div>\n",
       "<style scoped>\n",
       "    .dataframe tbody tr th:only-of-type {\n",
       "        vertical-align: middle;\n",
       "    }\n",
       "\n",
       "    .dataframe tbody tr th {\n",
       "        vertical-align: top;\n",
       "    }\n",
       "\n",
       "    .dataframe thead th {\n",
       "        text-align: right;\n",
       "    }\n",
       "</style>\n",
       "<table border=\"1\" class=\"dataframe\">\n",
       "  <thead>\n",
       "    <tr style=\"text-align: right;\">\n",
       "      <th></th>\n",
       "      <th>emp_length</th>\n",
       "    </tr>\n",
       "  </thead>\n",
       "  <tbody>\n",
       "    <tr>\n",
       "      <th>1</th>\n",
       "      <td>0</td>\n",
       "    </tr>\n",
       "    <tr>\n",
       "      <th>3</th>\n",
       "      <td>10</td>\n",
       "    </tr>\n",
       "    <tr>\n",
       "      <th>4</th>\n",
       "      <td>1</td>\n",
       "    </tr>\n",
       "    <tr>\n",
       "      <th>5</th>\n",
       "      <td>3</td>\n",
       "    </tr>\n",
       "    <tr>\n",
       "      <th>6</th>\n",
       "      <td>8</td>\n",
       "    </tr>\n",
       "    <tr>\n",
       "      <th>...</th>\n",
       "      <td>...</td>\n",
       "    </tr>\n",
       "    <tr>\n",
       "      <th>39433</th>\n",
       "      <td>7</td>\n",
       "    </tr>\n",
       "    <tr>\n",
       "      <th>39475</th>\n",
       "      <td>6</td>\n",
       "    </tr>\n",
       "    <tr>\n",
       "      <th>39551</th>\n",
       "      <td>2</td>\n",
       "    </tr>\n",
       "    <tr>\n",
       "      <th>39562</th>\n",
       "      <td>1</td>\n",
       "    </tr>\n",
       "    <tr>\n",
       "      <th>39623</th>\n",
       "      <td>8</td>\n",
       "    </tr>\n",
       "  </tbody>\n",
       "</table>\n",
       "<p>36431 rows × 1 columns</p>\n",
       "</div>"
      ],
      "text/plain": [
       "       emp_length\n",
       "1               0\n",
       "3              10\n",
       "4               1\n",
       "5               3\n",
       "6               8\n",
       "...           ...\n",
       "39433           7\n",
       "39475           6\n",
       "39551           2\n",
       "39562           1\n",
       "39623           8\n",
       "\n",
       "[36431 rows x 1 columns]"
      ]
     },
     "execution_count": 58,
     "metadata": {},
     "output_type": "execute_result"
    }
   ],
   "source": [
    "loan_df[['emp_length']]"
   ]
  },
  {
   "cell_type": "code",
   "execution_count": 59,
   "metadata": {},
   "outputs": [
    {
     "data": {
      "text/html": [
       "<div>\n",
       "<style scoped>\n",
       "    .dataframe tbody tr th:only-of-type {\n",
       "        vertical-align: middle;\n",
       "    }\n",
       "\n",
       "    .dataframe tbody tr th {\n",
       "        vertical-align: top;\n",
       "    }\n",
       "\n",
       "    .dataframe thead th {\n",
       "        text-align: right;\n",
       "    }\n",
       "</style>\n",
       "<table border=\"1\" class=\"dataframe\">\n",
       "  <thead>\n",
       "    <tr style=\"text-align: right;\">\n",
       "      <th></th>\n",
       "      <th>term</th>\n",
       "    </tr>\n",
       "  </thead>\n",
       "  <tbody>\n",
       "    <tr>\n",
       "      <th>1</th>\n",
       "      <td>60 months</td>\n",
       "    </tr>\n",
       "    <tr>\n",
       "      <th>3</th>\n",
       "      <td>36 months</td>\n",
       "    </tr>\n",
       "    <tr>\n",
       "      <th>4</th>\n",
       "      <td>60 months</td>\n",
       "    </tr>\n",
       "    <tr>\n",
       "      <th>5</th>\n",
       "      <td>36 months</td>\n",
       "    </tr>\n",
       "    <tr>\n",
       "      <th>6</th>\n",
       "      <td>60 months</td>\n",
       "    </tr>\n",
       "    <tr>\n",
       "      <th>...</th>\n",
       "      <td>...</td>\n",
       "    </tr>\n",
       "    <tr>\n",
       "      <th>39433</th>\n",
       "      <td>36 months</td>\n",
       "    </tr>\n",
       "    <tr>\n",
       "      <th>39475</th>\n",
       "      <td>36 months</td>\n",
       "    </tr>\n",
       "    <tr>\n",
       "      <th>39551</th>\n",
       "      <td>36 months</td>\n",
       "    </tr>\n",
       "    <tr>\n",
       "      <th>39562</th>\n",
       "      <td>36 months</td>\n",
       "    </tr>\n",
       "    <tr>\n",
       "      <th>39623</th>\n",
       "      <td>36 months</td>\n",
       "    </tr>\n",
       "  </tbody>\n",
       "</table>\n",
       "<p>36431 rows × 1 columns</p>\n",
       "</div>"
      ],
      "text/plain": [
       "             term\n",
       "1       60 months\n",
       "3       36 months\n",
       "4       60 months\n",
       "5       36 months\n",
       "6       60 months\n",
       "...           ...\n",
       "39433   36 months\n",
       "39475   36 months\n",
       "39551   36 months\n",
       "39562   36 months\n",
       "39623   36 months\n",
       "\n",
       "[36431 rows x 1 columns]"
      ]
     },
     "execution_count": 59,
     "metadata": {},
     "output_type": "execute_result"
    }
   ],
   "source": [
    "#term column has months\n",
    "\n",
    "loan_df[['term']]"
   ]
  },
  {
   "cell_type": "code",
   "execution_count": 60,
   "metadata": {},
   "outputs": [
    {
     "data": {
      "text/plain": [
       " 36 months    26375\n",
       " 60 months    10056\n",
       "Name: term, dtype: int64"
      ]
     },
     "execution_count": 60,
     "metadata": {},
     "output_type": "execute_result"
    }
   ],
   "source": [
    "loan_df['term'].value_counts()"
   ]
  },
  {
   "cell_type": "code",
   "execution_count": 61,
   "metadata": {},
   "outputs": [
    {
     "data": {
      "text/plain": [
       "36    26375\n",
       "60    10056\n",
       "Name: term, dtype: int64"
      ]
     },
     "execution_count": 61,
     "metadata": {},
     "output_type": "execute_result"
    }
   ],
   "source": [
    "#converting this to number (stripping off 'months' from the column)\n",
    "loan_df['term'] = loan_df['term'].apply(lambda x: x.split()[0])\n",
    "loan_df['term'].value_counts()"
   ]
  },
  {
   "cell_type": "code",
   "execution_count": 62,
   "metadata": {},
   "outputs": [
    {
     "data": {
      "text/html": [
       "<div>\n",
       "<style scoped>\n",
       "    .dataframe tbody tr th:only-of-type {\n",
       "        vertical-align: middle;\n",
       "    }\n",
       "\n",
       "    .dataframe tbody tr th {\n",
       "        vertical-align: top;\n",
       "    }\n",
       "\n",
       "    .dataframe thead th {\n",
       "        text-align: right;\n",
       "    }\n",
       "</style>\n",
       "<table border=\"1\" class=\"dataframe\">\n",
       "  <thead>\n",
       "    <tr style=\"text-align: right;\">\n",
       "      <th></th>\n",
       "      <th>issue_d</th>\n",
       "      <th>earliest_cr_line</th>\n",
       "      <th>last_pymnt_d</th>\n",
       "      <th>last_credit_pull_d</th>\n",
       "    </tr>\n",
       "  </thead>\n",
       "  <tbody>\n",
       "    <tr>\n",
       "      <th>1</th>\n",
       "      <td>2011-12-01</td>\n",
       "      <td>1999-04-01</td>\n",
       "      <td>2013-04-01</td>\n",
       "      <td>2013-09-01</td>\n",
       "    </tr>\n",
       "    <tr>\n",
       "      <th>3</th>\n",
       "      <td>2011-12-01</td>\n",
       "      <td>1996-02-01</td>\n",
       "      <td>2015-01-01</td>\n",
       "      <td>2016-04-01</td>\n",
       "    </tr>\n",
       "    <tr>\n",
       "      <th>4</th>\n",
       "      <td>2011-12-01</td>\n",
       "      <td>1996-01-01</td>\n",
       "      <td>2016-05-01</td>\n",
       "      <td>2016-05-01</td>\n",
       "    </tr>\n",
       "    <tr>\n",
       "      <th>5</th>\n",
       "      <td>2011-12-01</td>\n",
       "      <td>2004-11-01</td>\n",
       "      <td>2015-01-01</td>\n",
       "      <td>2016-01-01</td>\n",
       "    </tr>\n",
       "    <tr>\n",
       "      <th>6</th>\n",
       "      <td>2011-12-01</td>\n",
       "      <td>2005-07-01</td>\n",
       "      <td>2016-05-01</td>\n",
       "      <td>2016-05-01</td>\n",
       "    </tr>\n",
       "    <tr>\n",
       "      <th>...</th>\n",
       "      <td>...</td>\n",
       "      <td>...</td>\n",
       "      <td>...</td>\n",
       "      <td>...</td>\n",
       "    </tr>\n",
       "    <tr>\n",
       "      <th>39433</th>\n",
       "      <td>2008-01-01</td>\n",
       "      <td>1995-02-01</td>\n",
       "      <td>2011-01-01</td>\n",
       "      <td>2016-05-01</td>\n",
       "    </tr>\n",
       "    <tr>\n",
       "      <th>39475</th>\n",
       "      <td>2007-12-01</td>\n",
       "      <td>1979-10-01</td>\n",
       "      <td>2008-05-01</td>\n",
       "      <td>2015-10-01</td>\n",
       "    </tr>\n",
       "    <tr>\n",
       "      <th>39551</th>\n",
       "      <td>2007-12-01</td>\n",
       "      <td>2000-12-01</td>\n",
       "      <td>2010-02-01</td>\n",
       "      <td>2014-05-01</td>\n",
       "    </tr>\n",
       "    <tr>\n",
       "      <th>39562</th>\n",
       "      <td>2007-11-01</td>\n",
       "      <td>2000-03-01</td>\n",
       "      <td>2008-08-01</td>\n",
       "      <td>2008-08-01</td>\n",
       "    </tr>\n",
       "    <tr>\n",
       "      <th>39623</th>\n",
       "      <td>2007-10-01</td>\n",
       "      <td>1997-08-01</td>\n",
       "      <td>2008-05-01</td>\n",
       "      <td>2016-05-01</td>\n",
       "    </tr>\n",
       "  </tbody>\n",
       "</table>\n",
       "<p>36431 rows × 4 columns</p>\n",
       "</div>"
      ],
      "text/plain": [
       "         issue_d earliest_cr_line last_pymnt_d last_credit_pull_d\n",
       "1     2011-12-01       1999-04-01   2013-04-01         2013-09-01\n",
       "3     2011-12-01       1996-02-01   2015-01-01         2016-04-01\n",
       "4     2011-12-01       1996-01-01   2016-05-01         2016-05-01\n",
       "5     2011-12-01       2004-11-01   2015-01-01         2016-01-01\n",
       "6     2011-12-01       2005-07-01   2016-05-01         2016-05-01\n",
       "...          ...              ...          ...                ...\n",
       "39433 2008-01-01       1995-02-01   2011-01-01         2016-05-01\n",
       "39475 2007-12-01       1979-10-01   2008-05-01         2015-10-01\n",
       "39551 2007-12-01       2000-12-01   2010-02-01         2014-05-01\n",
       "39562 2007-11-01       2000-03-01   2008-08-01         2008-08-01\n",
       "39623 2007-10-01       1997-08-01   2008-05-01         2016-05-01\n",
       "\n",
       "[36431 rows x 4 columns]"
      ]
     },
     "execution_count": 62,
     "metadata": {},
     "output_type": "execute_result"
    }
   ],
   "source": [
    "loan_df[['issue_d','earliest_cr_line','last_pymnt_d','last_credit_pull_d']]"
   ]
  },
  {
   "cell_type": "code",
   "execution_count": 63,
   "metadata": {},
   "outputs": [
    {
     "data": {
      "text/html": [
       "<div>\n",
       "<style scoped>\n",
       "    .dataframe tbody tr th:only-of-type {\n",
       "        vertical-align: middle;\n",
       "    }\n",
       "\n",
       "    .dataframe tbody tr th {\n",
       "        vertical-align: top;\n",
       "    }\n",
       "\n",
       "    .dataframe thead th {\n",
       "        text-align: right;\n",
       "    }\n",
       "</style>\n",
       "<table border=\"1\" class=\"dataframe\">\n",
       "  <thead>\n",
       "    <tr style=\"text-align: right;\">\n",
       "      <th></th>\n",
       "      <th>loan_amnt</th>\n",
       "      <th>term</th>\n",
       "      <th>int_rate</th>\n",
       "      <th>installment</th>\n",
       "      <th>grade</th>\n",
       "      <th>sub_grade</th>\n",
       "      <th>emp_title</th>\n",
       "      <th>emp_length</th>\n",
       "      <th>home_ownership</th>\n",
       "      <th>annual_inc</th>\n",
       "      <th>...</th>\n",
       "      <th>total_pymnt_inv</th>\n",
       "      <th>total_rec_prncp</th>\n",
       "      <th>total_rec_int</th>\n",
       "      <th>total_rec_late_fee</th>\n",
       "      <th>recoveries</th>\n",
       "      <th>collection_recovery_fee</th>\n",
       "      <th>last_pymnt_d</th>\n",
       "      <th>last_pymnt_amnt</th>\n",
       "      <th>last_credit_pull_d</th>\n",
       "      <th>pub_rec_bankruptcies</th>\n",
       "    </tr>\n",
       "  </thead>\n",
       "  <tbody>\n",
       "  </tbody>\n",
       "</table>\n",
       "<p>0 rows × 38 columns</p>\n",
       "</div>"
      ],
      "text/plain": [
       "Empty DataFrame\n",
       "Columns: [loan_amnt, term, int_rate, installment, grade, sub_grade, emp_title, emp_length, home_ownership, annual_inc, verification_status, issue_d, loan_status, purpose, title, addr_state, dti, delinq_2yrs, earliest_cr_line, inq_last_6mths, open_acc, pub_rec, revol_bal, revol_util, total_acc, out_prncp, out_prncp_inv, total_pymnt, total_pymnt_inv, total_rec_prncp, total_rec_int, total_rec_late_fee, recoveries, collection_recovery_fee, last_pymnt_d, last_pymnt_amnt, last_credit_pull_d, pub_rec_bankruptcies]\n",
       "Index: []\n",
       "\n",
       "[0 rows x 38 columns]"
      ]
     },
     "execution_count": 63,
     "metadata": {},
     "output_type": "execute_result"
    }
   ],
   "source": [
    "#checking for invalid data in issue_d\n",
    "loan_df[(loan_df['issue_d'].dt.year > 2019)]"
   ]
  },
  {
   "cell_type": "code",
   "execution_count": 64,
   "metadata": {},
   "outputs": [
    {
     "data": {
      "text/html": [
       "<div>\n",
       "<style scoped>\n",
       "    .dataframe tbody tr th:only-of-type {\n",
       "        vertical-align: middle;\n",
       "    }\n",
       "\n",
       "    .dataframe tbody tr th {\n",
       "        vertical-align: top;\n",
       "    }\n",
       "\n",
       "    .dataframe thead th {\n",
       "        text-align: right;\n",
       "    }\n",
       "</style>\n",
       "<table border=\"1\" class=\"dataframe\">\n",
       "  <thead>\n",
       "    <tr style=\"text-align: right;\">\n",
       "      <th></th>\n",
       "      <th>loan_amnt</th>\n",
       "      <th>term</th>\n",
       "      <th>int_rate</th>\n",
       "      <th>installment</th>\n",
       "      <th>grade</th>\n",
       "      <th>sub_grade</th>\n",
       "      <th>emp_title</th>\n",
       "      <th>emp_length</th>\n",
       "      <th>home_ownership</th>\n",
       "      <th>annual_inc</th>\n",
       "      <th>...</th>\n",
       "      <th>total_pymnt_inv</th>\n",
       "      <th>total_rec_prncp</th>\n",
       "      <th>total_rec_int</th>\n",
       "      <th>total_rec_late_fee</th>\n",
       "      <th>recoveries</th>\n",
       "      <th>collection_recovery_fee</th>\n",
       "      <th>last_pymnt_d</th>\n",
       "      <th>last_pymnt_amnt</th>\n",
       "      <th>last_credit_pull_d</th>\n",
       "      <th>pub_rec_bankruptcies</th>\n",
       "    </tr>\n",
       "  </thead>\n",
       "  <tbody>\n",
       "    <tr>\n",
       "      <th>1764</th>\n",
       "      <td>5500</td>\n",
       "      <td>36</td>\n",
       "      <td>7.51</td>\n",
       "      <td>171.11</td>\n",
       "      <td>A</td>\n",
       "      <td>A3</td>\n",
       "      <td>AstroMotive Auto Service</td>\n",
       "      <td>4</td>\n",
       "      <td>RENT</td>\n",
       "      <td>63000.0</td>\n",
       "      <td>...</td>\n",
       "      <td>5538.32</td>\n",
       "      <td>5500.00</td>\n",
       "      <td>38.32</td>\n",
       "      <td>0.00000</td>\n",
       "      <td>0.000000</td>\n",
       "      <td>0.0000</td>\n",
       "      <td>2012-02-01</td>\n",
       "      <td>539.21</td>\n",
       "      <td>2015-09-01</td>\n",
       "      <td>0.0</td>\n",
       "    </tr>\n",
       "    <tr>\n",
       "      <th>3274</th>\n",
       "      <td>5000</td>\n",
       "      <td>36</td>\n",
       "      <td>12.69</td>\n",
       "      <td>167.73</td>\n",
       "      <td>B</td>\n",
       "      <td>B5</td>\n",
       "      <td>Pittsburgh Public Schools</td>\n",
       "      <td>10</td>\n",
       "      <td>MORTGAGE</td>\n",
       "      <td>72000.0</td>\n",
       "      <td>...</td>\n",
       "      <td>6039.33</td>\n",
       "      <td>5000.00</td>\n",
       "      <td>1039.33</td>\n",
       "      <td>0.00000</td>\n",
       "      <td>0.000000</td>\n",
       "      <td>0.0000</td>\n",
       "      <td>2014-12-01</td>\n",
       "      <td>187.76</td>\n",
       "      <td>2015-05-01</td>\n",
       "      <td>0.0</td>\n",
       "    </tr>\n",
       "    <tr>\n",
       "      <th>3349</th>\n",
       "      <td>21000</td>\n",
       "      <td>36</td>\n",
       "      <td>12.69</td>\n",
       "      <td>704.45</td>\n",
       "      <td>B</td>\n",
       "      <td>B5</td>\n",
       "      <td>MAJR Financial</td>\n",
       "      <td>10</td>\n",
       "      <td>MORTGAGE</td>\n",
       "      <td>267000.0</td>\n",
       "      <td>...</td>\n",
       "      <td>25359.83</td>\n",
       "      <td>21000.00</td>\n",
       "      <td>4359.83</td>\n",
       "      <td>0.00000</td>\n",
       "      <td>0.000000</td>\n",
       "      <td>0.0000</td>\n",
       "      <td>2014-12-01</td>\n",
       "      <td>725.56</td>\n",
       "      <td>2014-11-01</td>\n",
       "      <td>0.0</td>\n",
       "    </tr>\n",
       "    <tr>\n",
       "      <th>3403</th>\n",
       "      <td>15000</td>\n",
       "      <td>60</td>\n",
       "      <td>16.77</td>\n",
       "      <td>370.94</td>\n",
       "      <td>D</td>\n",
       "      <td>D2</td>\n",
       "      <td>Harvard Vanguard Medical Associates</td>\n",
       "      <td>0</td>\n",
       "      <td>MORTGAGE</td>\n",
       "      <td>58000.0</td>\n",
       "      <td>...</td>\n",
       "      <td>10180.30</td>\n",
       "      <td>2077.68</td>\n",
       "      <td>2370.40</td>\n",
       "      <td>0.00000</td>\n",
       "      <td>5800.590000</td>\n",
       "      <td>472.3020</td>\n",
       "      <td>2012-12-01</td>\n",
       "      <td>29.88</td>\n",
       "      <td>2013-04-01</td>\n",
       "      <td>0.0</td>\n",
       "    </tr>\n",
       "    <tr>\n",
       "      <th>4478</th>\n",
       "      <td>6000</td>\n",
       "      <td>36</td>\n",
       "      <td>6.03</td>\n",
       "      <td>182.62</td>\n",
       "      <td>A</td>\n",
       "      <td>A1</td>\n",
       "      <td>BASF Corporation</td>\n",
       "      <td>10</td>\n",
       "      <td>MORTGAGE</td>\n",
       "      <td>96000.0</td>\n",
       "      <td>...</td>\n",
       "      <td>6493.05</td>\n",
       "      <td>6000.00</td>\n",
       "      <td>493.05</td>\n",
       "      <td>0.00000</td>\n",
       "      <td>0.000000</td>\n",
       "      <td>0.0000</td>\n",
       "      <td>2013-10-01</td>\n",
       "      <td>2476.98</td>\n",
       "      <td>2016-05-01</td>\n",
       "      <td>0.0</td>\n",
       "    </tr>\n",
       "    <tr>\n",
       "      <th>5092</th>\n",
       "      <td>27400</td>\n",
       "      <td>60</td>\n",
       "      <td>17.27</td>\n",
       "      <td>684.95</td>\n",
       "      <td>D</td>\n",
       "      <td>D3</td>\n",
       "      <td>Los Angeles Junior College District</td>\n",
       "      <td>10</td>\n",
       "      <td>MORTGAGE</td>\n",
       "      <td>143500.0</td>\n",
       "      <td>...</td>\n",
       "      <td>13668.52</td>\n",
       "      <td>2763.94</td>\n",
       "      <td>3384.23</td>\n",
       "      <td>0.00000</td>\n",
       "      <td>7646.370000</td>\n",
       "      <td>1005.7482</td>\n",
       "      <td>2012-08-01</td>\n",
       "      <td>684.95</td>\n",
       "      <td>2013-02-01</td>\n",
       "      <td>0.0</td>\n",
       "    </tr>\n",
       "    <tr>\n",
       "      <th>5673</th>\n",
       "      <td>16200</td>\n",
       "      <td>60</td>\n",
       "      <td>18.25</td>\n",
       "      <td>413.58</td>\n",
       "      <td>D</td>\n",
       "      <td>D5</td>\n",
       "      <td>Claiborne Farm</td>\n",
       "      <td>5</td>\n",
       "      <td>OWN</td>\n",
       "      <td>47052.0</td>\n",
       "      <td>...</td>\n",
       "      <td>20464.48</td>\n",
       "      <td>16200.00</td>\n",
       "      <td>4585.24</td>\n",
       "      <td>0.00000</td>\n",
       "      <td>0.000000</td>\n",
       "      <td>0.0000</td>\n",
       "      <td>2013-07-01</td>\n",
       "      <td>12524.15</td>\n",
       "      <td>2013-07-01</td>\n",
       "      <td>0.0</td>\n",
       "    </tr>\n",
       "    <tr>\n",
       "      <th>6416</th>\n",
       "      <td>16400</td>\n",
       "      <td>60</td>\n",
       "      <td>22.35</td>\n",
       "      <td>456.22</td>\n",
       "      <td>F</td>\n",
       "      <td>F5</td>\n",
       "      <td>The Paradies Shops</td>\n",
       "      <td>2</td>\n",
       "      <td>RENT</td>\n",
       "      <td>80000.0</td>\n",
       "      <td>...</td>\n",
       "      <td>25470.89</td>\n",
       "      <td>16400.00</td>\n",
       "      <td>9109.77</td>\n",
       "      <td>0.00000</td>\n",
       "      <td>0.000000</td>\n",
       "      <td>0.0000</td>\n",
       "      <td>2014-12-01</td>\n",
       "      <td>8640.79</td>\n",
       "      <td>2016-05-01</td>\n",
       "      <td>1.0</td>\n",
       "    </tr>\n",
       "    <tr>\n",
       "      <th>7424</th>\n",
       "      <td>35000</td>\n",
       "      <td>60</td>\n",
       "      <td>13.49</td>\n",
       "      <td>805.17</td>\n",
       "      <td>C</td>\n",
       "      <td>C1</td>\n",
       "      <td>OfficeMax</td>\n",
       "      <td>10</td>\n",
       "      <td>RENT</td>\n",
       "      <td>62000.0</td>\n",
       "      <td>...</td>\n",
       "      <td>46779.62</td>\n",
       "      <td>35000.00</td>\n",
       "      <td>12606.63</td>\n",
       "      <td>0.00000</td>\n",
       "      <td>0.000000</td>\n",
       "      <td>0.0000</td>\n",
       "      <td>2015-09-01</td>\n",
       "      <td>10594.41</td>\n",
       "      <td>2016-03-01</td>\n",
       "      <td>0.0</td>\n",
       "    </tr>\n",
       "    <tr>\n",
       "      <th>7460</th>\n",
       "      <td>30000</td>\n",
       "      <td>36</td>\n",
       "      <td>18.64</td>\n",
       "      <td>1094.23</td>\n",
       "      <td>E</td>\n",
       "      <td>E1</td>\n",
       "      <td>Technical Fibre Products, Inc</td>\n",
       "      <td>10</td>\n",
       "      <td>MORTGAGE</td>\n",
       "      <td>166000.0</td>\n",
       "      <td>...</td>\n",
       "      <td>39392.18</td>\n",
       "      <td>30000.00</td>\n",
       "      <td>9392.18</td>\n",
       "      <td>0.00000</td>\n",
       "      <td>0.000000</td>\n",
       "      <td>0.0000</td>\n",
       "      <td>2014-10-01</td>\n",
       "      <td>1113.30</td>\n",
       "      <td>2016-04-01</td>\n",
       "      <td>0.0</td>\n",
       "    </tr>\n",
       "    <tr>\n",
       "      <th>7562</th>\n",
       "      <td>7200</td>\n",
       "      <td>36</td>\n",
       "      <td>6.62</td>\n",
       "      <td>221.07</td>\n",
       "      <td>A</td>\n",
       "      <td>A2</td>\n",
       "      <td>Michigan State University</td>\n",
       "      <td>2</td>\n",
       "      <td>MORTGAGE</td>\n",
       "      <td>182004.0</td>\n",
       "      <td>...</td>\n",
       "      <td>7958.37</td>\n",
       "      <td>7200.00</td>\n",
       "      <td>758.37</td>\n",
       "      <td>0.00000</td>\n",
       "      <td>0.000000</td>\n",
       "      <td>0.0000</td>\n",
       "      <td>2014-10-01</td>\n",
       "      <td>240.98</td>\n",
       "      <td>2016-03-01</td>\n",
       "      <td>0.0</td>\n",
       "    </tr>\n",
       "    <tr>\n",
       "      <th>8462</th>\n",
       "      <td>14000</td>\n",
       "      <td>36</td>\n",
       "      <td>5.42</td>\n",
       "      <td>422.24</td>\n",
       "      <td>A</td>\n",
       "      <td>A1</td>\n",
       "      <td>FlightSafety Internation Inc</td>\n",
       "      <td>4</td>\n",
       "      <td>RENT</td>\n",
       "      <td>80000.0</td>\n",
       "      <td>...</td>\n",
       "      <td>15062.91</td>\n",
       "      <td>14000.00</td>\n",
       "      <td>1116.90</td>\n",
       "      <td>0.00000</td>\n",
       "      <td>0.000000</td>\n",
       "      <td>0.0000</td>\n",
       "      <td>2013-12-01</td>\n",
       "      <td>4150.84</td>\n",
       "      <td>2014-02-01</td>\n",
       "      <td>0.0</td>\n",
       "    </tr>\n",
       "    <tr>\n",
       "      <th>8883</th>\n",
       "      <td>19000</td>\n",
       "      <td>36</td>\n",
       "      <td>10.99</td>\n",
       "      <td>621.95</td>\n",
       "      <td>B</td>\n",
       "      <td>B3</td>\n",
       "      <td>Lansingburgh Central School District</td>\n",
       "      <td>6</td>\n",
       "      <td>OWN</td>\n",
       "      <td>49000.0</td>\n",
       "      <td>...</td>\n",
       "      <td>21913.15</td>\n",
       "      <td>19000.00</td>\n",
       "      <td>3029.09</td>\n",
       "      <td>0.00000</td>\n",
       "      <td>0.000000</td>\n",
       "      <td>0.0000</td>\n",
       "      <td>2013-10-01</td>\n",
       "      <td>7120.87</td>\n",
       "      <td>2013-09-01</td>\n",
       "      <td>0.0</td>\n",
       "    </tr>\n",
       "    <tr>\n",
       "      <th>9139</th>\n",
       "      <td>1000</td>\n",
       "      <td>36</td>\n",
       "      <td>5.42</td>\n",
       "      <td>30.16</td>\n",
       "      <td>A</td>\n",
       "      <td>A1</td>\n",
       "      <td>Georgia Pacific</td>\n",
       "      <td>10</td>\n",
       "      <td>MORTGAGE</td>\n",
       "      <td>62400.0</td>\n",
       "      <td>...</td>\n",
       "      <td>1085.75</td>\n",
       "      <td>1000.00</td>\n",
       "      <td>85.75</td>\n",
       "      <td>0.00000</td>\n",
       "      <td>0.000000</td>\n",
       "      <td>0.0000</td>\n",
       "      <td>2014-09-01</td>\n",
       "      <td>33.31</td>\n",
       "      <td>2014-07-01</td>\n",
       "      <td>0.0</td>\n",
       "    </tr>\n",
       "    <tr>\n",
       "      <th>11303</th>\n",
       "      <td>15000</td>\n",
       "      <td>36</td>\n",
       "      <td>17.49</td>\n",
       "      <td>538.46</td>\n",
       "      <td>D</td>\n",
       "      <td>D5</td>\n",
       "      <td>Federal Bureau of Prisons</td>\n",
       "      <td>6</td>\n",
       "      <td>OWN</td>\n",
       "      <td>64000.0</td>\n",
       "      <td>...</td>\n",
       "      <td>16430.07</td>\n",
       "      <td>15000.00</td>\n",
       "      <td>1430.07</td>\n",
       "      <td>0.00000</td>\n",
       "      <td>0.000000</td>\n",
       "      <td>0.0000</td>\n",
       "      <td>2012-03-01</td>\n",
       "      <td>13209.34</td>\n",
       "      <td>2014-09-01</td>\n",
       "      <td>0.0</td>\n",
       "    </tr>\n",
       "    <tr>\n",
       "      <th>12025</th>\n",
       "      <td>7500</td>\n",
       "      <td>36</td>\n",
       "      <td>11.49</td>\n",
       "      <td>247.29</td>\n",
       "      <td>B</td>\n",
       "      <td>B4</td>\n",
       "      <td>Totlcom Inc</td>\n",
       "      <td>10</td>\n",
       "      <td>MORTGAGE</td>\n",
       "      <td>102000.0</td>\n",
       "      <td>...</td>\n",
       "      <td>8902.20</td>\n",
       "      <td>7500.00</td>\n",
       "      <td>1402.20</td>\n",
       "      <td>0.00000</td>\n",
       "      <td>0.000000</td>\n",
       "      <td>0.0000</td>\n",
       "      <td>2014-08-01</td>\n",
       "      <td>261.57</td>\n",
       "      <td>2016-05-01</td>\n",
       "      <td>1.0</td>\n",
       "    </tr>\n",
       "    <tr>\n",
       "      <th>12869</th>\n",
       "      <td>18000</td>\n",
       "      <td>60</td>\n",
       "      <td>13.99</td>\n",
       "      <td>418.74</td>\n",
       "      <td>C</td>\n",
       "      <td>C3</td>\n",
       "      <td>State of Colorado</td>\n",
       "      <td>10</td>\n",
       "      <td>MORTGAGE</td>\n",
       "      <td>110000.0</td>\n",
       "      <td>...</td>\n",
       "      <td>24274.21</td>\n",
       "      <td>17169.76</td>\n",
       "      <td>7104.45</td>\n",
       "      <td>0.00000</td>\n",
       "      <td>0.000000</td>\n",
       "      <td>0.0000</td>\n",
       "      <td>2016-05-01</td>\n",
       "      <td>418.74</td>\n",
       "      <td>2016-05-01</td>\n",
       "      <td>0.0</td>\n",
       "    </tr>\n",
       "    <tr>\n",
       "      <th>13975</th>\n",
       "      <td>15000</td>\n",
       "      <td>36</td>\n",
       "      <td>10.99</td>\n",
       "      <td>491.01</td>\n",
       "      <td>B</td>\n",
       "      <td>B3</td>\n",
       "      <td>Hiwin Corporation</td>\n",
       "      <td>7</td>\n",
       "      <td>MORTGAGE</td>\n",
       "      <td>87000.0</td>\n",
       "      <td>...</td>\n",
       "      <td>17611.53</td>\n",
       "      <td>15000.00</td>\n",
       "      <td>2611.53</td>\n",
       "      <td>0.00000</td>\n",
       "      <td>0.000000</td>\n",
       "      <td>0.0000</td>\n",
       "      <td>2014-01-01</td>\n",
       "      <td>2913.86</td>\n",
       "      <td>2016-05-01</td>\n",
       "      <td>1.0</td>\n",
       "    </tr>\n",
       "    <tr>\n",
       "      <th>14077</th>\n",
       "      <td>6000</td>\n",
       "      <td>36</td>\n",
       "      <td>10.59</td>\n",
       "      <td>195.27</td>\n",
       "      <td>B</td>\n",
       "      <td>B2</td>\n",
       "      <td>Americold</td>\n",
       "      <td>6</td>\n",
       "      <td>MORTGAGE</td>\n",
       "      <td>33360.0</td>\n",
       "      <td>...</td>\n",
       "      <td>7029.69</td>\n",
       "      <td>6000.00</td>\n",
       "      <td>1029.69</td>\n",
       "      <td>0.00000</td>\n",
       "      <td>0.000000</td>\n",
       "      <td>0.0000</td>\n",
       "      <td>2014-06-01</td>\n",
       "      <td>207.04</td>\n",
       "      <td>2014-09-01</td>\n",
       "      <td>0.0</td>\n",
       "    </tr>\n",
       "    <tr>\n",
       "      <th>15269</th>\n",
       "      <td>22500</td>\n",
       "      <td>60</td>\n",
       "      <td>10.37</td>\n",
       "      <td>310.20</td>\n",
       "      <td>B</td>\n",
       "      <td>B3</td>\n",
       "      <td>Peabody press</td>\n",
       "      <td>2</td>\n",
       "      <td>MORTGAGE</td>\n",
       "      <td>45000.0</td>\n",
       "      <td>...</td>\n",
       "      <td>12785.67</td>\n",
       "      <td>14475.00</td>\n",
       "      <td>126.24</td>\n",
       "      <td>0.00000</td>\n",
       "      <td>0.000000</td>\n",
       "      <td>0.0000</td>\n",
       "      <td>2011-06-01</td>\n",
       "      <td>14602.51</td>\n",
       "      <td>2011-06-01</td>\n",
       "      <td>0.0</td>\n",
       "    </tr>\n",
       "    <tr>\n",
       "      <th>15480</th>\n",
       "      <td>17000</td>\n",
       "      <td>60</td>\n",
       "      <td>11.99</td>\n",
       "      <td>378.07</td>\n",
       "      <td>B</td>\n",
       "      <td>B5</td>\n",
       "      <td>Advanced Entertainment Technology</td>\n",
       "      <td>10</td>\n",
       "      <td>MORTGAGE</td>\n",
       "      <td>58000.0</td>\n",
       "      <td>...</td>\n",
       "      <td>9147.15</td>\n",
       "      <td>8156.44</td>\n",
       "      <td>1155.07</td>\n",
       "      <td>0.00000</td>\n",
       "      <td>0.000000</td>\n",
       "      <td>0.0000</td>\n",
       "      <td>2012-01-01</td>\n",
       "      <td>8184.05</td>\n",
       "      <td>2011-08-01</td>\n",
       "      <td>0.0</td>\n",
       "    </tr>\n",
       "    <tr>\n",
       "      <th>16933</th>\n",
       "      <td>9700</td>\n",
       "      <td>36</td>\n",
       "      <td>9.63</td>\n",
       "      <td>311.31</td>\n",
       "      <td>B</td>\n",
       "      <td>B1</td>\n",
       "      <td>downingtown area school district</td>\n",
       "      <td>10</td>\n",
       "      <td>MORTGAGE</td>\n",
       "      <td>40800.0</td>\n",
       "      <td>...</td>\n",
       "      <td>11207.14</td>\n",
       "      <td>9700.00</td>\n",
       "      <td>1507.14</td>\n",
       "      <td>0.00000</td>\n",
       "      <td>0.000000</td>\n",
       "      <td>0.0000</td>\n",
       "      <td>2014-04-01</td>\n",
       "      <td>325.58</td>\n",
       "      <td>2014-04-01</td>\n",
       "      <td>0.0</td>\n",
       "    </tr>\n",
       "    <tr>\n",
       "      <th>17559</th>\n",
       "      <td>25000</td>\n",
       "      <td>60</td>\n",
       "      <td>17.51</td>\n",
       "      <td>628.20</td>\n",
       "      <td>E</td>\n",
       "      <td>E4</td>\n",
       "      <td>vista community clinic</td>\n",
       "      <td>5</td>\n",
       "      <td>RENT</td>\n",
       "      <td>180000.0</td>\n",
       "      <td>...</td>\n",
       "      <td>28812.48</td>\n",
       "      <td>25000.00</td>\n",
       "      <td>12526.85</td>\n",
       "      <td>0.00000</td>\n",
       "      <td>0.000000</td>\n",
       "      <td>0.0000</td>\n",
       "      <td>2015-10-01</td>\n",
       "      <td>4232.25</td>\n",
       "      <td>2015-10-01</td>\n",
       "      <td>0.0</td>\n",
       "    </tr>\n",
       "    <tr>\n",
       "      <th>18754</th>\n",
       "      <td>5000</td>\n",
       "      <td>36</td>\n",
       "      <td>9.63</td>\n",
       "      <td>160.47</td>\n",
       "      <td>B</td>\n",
       "      <td>B1</td>\n",
       "      <td>us postal service</td>\n",
       "      <td>10</td>\n",
       "      <td>RENT</td>\n",
       "      <td>53995.0</td>\n",
       "      <td>...</td>\n",
       "      <td>5383.74</td>\n",
       "      <td>5000.00</td>\n",
       "      <td>521.79</td>\n",
       "      <td>0.00000</td>\n",
       "      <td>0.000000</td>\n",
       "      <td>0.0000</td>\n",
       "      <td>2012-07-01</td>\n",
       "      <td>3120.30</td>\n",
       "      <td>2012-07-01</td>\n",
       "      <td>1.0</td>\n",
       "    </tr>\n",
       "    <tr>\n",
       "      <th>18782</th>\n",
       "      <td>10000</td>\n",
       "      <td>36</td>\n",
       "      <td>5.42</td>\n",
       "      <td>301.60</td>\n",
       "      <td>A</td>\n",
       "      <td>A1</td>\n",
       "      <td>Solano Community College</td>\n",
       "      <td>9</td>\n",
       "      <td>MORTGAGE</td>\n",
       "      <td>175000.0</td>\n",
       "      <td>...</td>\n",
       "      <td>10857.53</td>\n",
       "      <td>10000.00</td>\n",
       "      <td>857.53</td>\n",
       "      <td>0.00000</td>\n",
       "      <td>0.000000</td>\n",
       "      <td>0.0000</td>\n",
       "      <td>2014-03-01</td>\n",
       "      <td>326.62</td>\n",
       "      <td>2014-03-01</td>\n",
       "      <td>0.0</td>\n",
       "    </tr>\n",
       "    <tr>\n",
       "      <th>19370</th>\n",
       "      <td>24000</td>\n",
       "      <td>36</td>\n",
       "      <td>13.80</td>\n",
       "      <td>817.94</td>\n",
       "      <td>C</td>\n",
       "      <td>C4</td>\n",
       "      <td>DeVry University</td>\n",
       "      <td>5</td>\n",
       "      <td>MORTGAGE</td>\n",
       "      <td>106000.0</td>\n",
       "      <td>...</td>\n",
       "      <td>29445.56</td>\n",
       "      <td>24000.00</td>\n",
       "      <td>5445.56</td>\n",
       "      <td>0.00000</td>\n",
       "      <td>0.000000</td>\n",
       "      <td>0.0000</td>\n",
       "      <td>2014-03-01</td>\n",
       "      <td>848.67</td>\n",
       "      <td>2016-05-01</td>\n",
       "      <td>0.0</td>\n",
       "    </tr>\n",
       "    <tr>\n",
       "      <th>19838</th>\n",
       "      <td>30000</td>\n",
       "      <td>60</td>\n",
       "      <td>17.88</td>\n",
       "      <td>759.85</td>\n",
       "      <td>E</td>\n",
       "      <td>E5</td>\n",
       "      <td>park dental care of astoria</td>\n",
       "      <td>10</td>\n",
       "      <td>MORTGAGE</td>\n",
       "      <td>360000.0</td>\n",
       "      <td>...</td>\n",
       "      <td>45590.59</td>\n",
       "      <td>29999.99</td>\n",
       "      <td>15590.60</td>\n",
       "      <td>0.00000</td>\n",
       "      <td>0.000000</td>\n",
       "      <td>0.0000</td>\n",
       "      <td>2016-02-01</td>\n",
       "      <td>759.45</td>\n",
       "      <td>2016-04-01</td>\n",
       "      <td>0.0</td>\n",
       "    </tr>\n",
       "    <tr>\n",
       "      <th>20709</th>\n",
       "      <td>16000</td>\n",
       "      <td>36</td>\n",
       "      <td>13.06</td>\n",
       "      <td>539.57</td>\n",
       "      <td>C</td>\n",
       "      <td>C2</td>\n",
       "      <td>ADESA AUTO AUCTION</td>\n",
       "      <td>10</td>\n",
       "      <td>RENT</td>\n",
       "      <td>72000.0</td>\n",
       "      <td>...</td>\n",
       "      <td>19171.30</td>\n",
       "      <td>16000.00</td>\n",
       "      <td>3171.30</td>\n",
       "      <td>0.00000</td>\n",
       "      <td>0.000000</td>\n",
       "      <td>0.0000</td>\n",
       "      <td>2013-05-01</td>\n",
       "      <td>5158.71</td>\n",
       "      <td>2013-05-01</td>\n",
       "      <td>0.0</td>\n",
       "    </tr>\n",
       "    <tr>\n",
       "      <th>21059</th>\n",
       "      <td>25000</td>\n",
       "      <td>60</td>\n",
       "      <td>13.72</td>\n",
       "      <td>578.09</td>\n",
       "      <td>C</td>\n",
       "      <td>C5</td>\n",
       "      <td>Los Angeles Community District</td>\n",
       "      <td>10</td>\n",
       "      <td>MORTGAGE</td>\n",
       "      <td>144000.0</td>\n",
       "      <td>...</td>\n",
       "      <td>16942.93</td>\n",
       "      <td>6135.75</td>\n",
       "      <td>4845.15</td>\n",
       "      <td>0.00000</td>\n",
       "      <td>5995.720000</td>\n",
       "      <td>761.0256</td>\n",
       "      <td>2012-09-01</td>\n",
       "      <td>48.64</td>\n",
       "      <td>2013-02-01</td>\n",
       "      <td>0.0</td>\n",
       "    </tr>\n",
       "    <tr>\n",
       "      <th>21086</th>\n",
       "      <td>6000</td>\n",
       "      <td>36</td>\n",
       "      <td>6.54</td>\n",
       "      <td>184.01</td>\n",
       "      <td>A</td>\n",
       "      <td>A4</td>\n",
       "      <td>Joyce Engineering, Incorporated</td>\n",
       "      <td>8</td>\n",
       "      <td>OWN</td>\n",
       "      <td>68400.0</td>\n",
       "      <td>...</td>\n",
       "      <td>6578.64</td>\n",
       "      <td>6000.00</td>\n",
       "      <td>624.48</td>\n",
       "      <td>0.00000</td>\n",
       "      <td>0.000000</td>\n",
       "      <td>0.0000</td>\n",
       "      <td>2014-01-01</td>\n",
       "      <td>211.29</td>\n",
       "      <td>2014-01-01</td>\n",
       "      <td>1.0</td>\n",
       "    </tr>\n",
       "    <tr>\n",
       "      <th>22031</th>\n",
       "      <td>15000</td>\n",
       "      <td>36</td>\n",
       "      <td>14.83</td>\n",
       "      <td>518.74</td>\n",
       "      <td>D</td>\n",
       "      <td>D3</td>\n",
       "      <td>Performance Food Equipment Group</td>\n",
       "      <td>10</td>\n",
       "      <td>RENT</td>\n",
       "      <td>88000.0</td>\n",
       "      <td>...</td>\n",
       "      <td>18676.18</td>\n",
       "      <td>15000.00</td>\n",
       "      <td>3676.18</td>\n",
       "      <td>0.00000</td>\n",
       "      <td>0.000000</td>\n",
       "      <td>0.0000</td>\n",
       "      <td>2014-01-01</td>\n",
       "      <td>560.01</td>\n",
       "      <td>2014-01-01</td>\n",
       "      <td>0.0</td>\n",
       "    </tr>\n",
       "    <tr>\n",
       "      <th>24701</th>\n",
       "      <td>16400</td>\n",
       "      <td>36</td>\n",
       "      <td>13.98</td>\n",
       "      <td>560.36</td>\n",
       "      <td>C</td>\n",
       "      <td>C3</td>\n",
       "      <td>WELLS FARGO</td>\n",
       "      <td>5</td>\n",
       "      <td>OWN</td>\n",
       "      <td>54996.0</td>\n",
       "      <td>...</td>\n",
       "      <td>2782.05</td>\n",
       "      <td>1885.31</td>\n",
       "      <td>909.49</td>\n",
       "      <td>0.00000</td>\n",
       "      <td>0.000000</td>\n",
       "      <td>0.0000</td>\n",
       "      <td>2011-04-01</td>\n",
       "      <td>560.36</td>\n",
       "      <td>2016-05-01</td>\n",
       "      <td>0.0</td>\n",
       "    </tr>\n",
       "    <tr>\n",
       "      <th>25117</th>\n",
       "      <td>4000</td>\n",
       "      <td>60</td>\n",
       "      <td>13.23</td>\n",
       "      <td>91.49</td>\n",
       "      <td>C</td>\n",
       "      <td>C1</td>\n",
       "      <td>U S Dept of Commerce</td>\n",
       "      <td>2</td>\n",
       "      <td>OWN</td>\n",
       "      <td>35000.0</td>\n",
       "      <td>...</td>\n",
       "      <td>2939.93</td>\n",
       "      <td>1735.49</td>\n",
       "      <td>1093.26</td>\n",
       "      <td>0.00000</td>\n",
       "      <td>129.660000</td>\n",
       "      <td>1.4400</td>\n",
       "      <td>2013-05-01</td>\n",
       "      <td>91.49</td>\n",
       "      <td>2013-10-01</td>\n",
       "      <td>1.0</td>\n",
       "    </tr>\n",
       "    <tr>\n",
       "      <th>25451</th>\n",
       "      <td>18000</td>\n",
       "      <td>60</td>\n",
       "      <td>13.61</td>\n",
       "      <td>415.20</td>\n",
       "      <td>C</td>\n",
       "      <td>C2</td>\n",
       "      <td>Prudential</td>\n",
       "      <td>2</td>\n",
       "      <td>MORTGAGE</td>\n",
       "      <td>235000.0</td>\n",
       "      <td>...</td>\n",
       "      <td>23637.55</td>\n",
       "      <td>18000.00</td>\n",
       "      <td>6615.74</td>\n",
       "      <td>0.00000</td>\n",
       "      <td>0.000000</td>\n",
       "      <td>0.0000</td>\n",
       "      <td>2014-11-01</td>\n",
       "      <td>4708.55</td>\n",
       "      <td>2016-04-01</td>\n",
       "      <td>0.0</td>\n",
       "    </tr>\n",
       "    <tr>\n",
       "      <th>25769</th>\n",
       "      <td>13000</td>\n",
       "      <td>60</td>\n",
       "      <td>11.12</td>\n",
       "      <td>283.44</td>\n",
       "      <td>B</td>\n",
       "      <td>B3</td>\n",
       "      <td>Lawrence Public Schools</td>\n",
       "      <td>10</td>\n",
       "      <td>MORTGAGE</td>\n",
       "      <td>90000.0</td>\n",
       "      <td>...</td>\n",
       "      <td>11489.30</td>\n",
       "      <td>4752.41</td>\n",
       "      <td>2595.19</td>\n",
       "      <td>0.00000</td>\n",
       "      <td>4871.290000</td>\n",
       "      <td>284.8446</td>\n",
       "      <td>2012-11-01</td>\n",
       "      <td>283.44</td>\n",
       "      <td>2013-02-01</td>\n",
       "      <td>0.0</td>\n",
       "    </tr>\n",
       "    <tr>\n",
       "      <th>26238</th>\n",
       "      <td>9225</td>\n",
       "      <td>36</td>\n",
       "      <td>7.14</td>\n",
       "      <td>285.44</td>\n",
       "      <td>A</td>\n",
       "      <td>A3</td>\n",
       "      <td>American Electric Power</td>\n",
       "      <td>5</td>\n",
       "      <td>OWN</td>\n",
       "      <td>45996.0</td>\n",
       "      <td>...</td>\n",
       "      <td>10216.47</td>\n",
       "      <td>9225.00</td>\n",
       "      <td>991.47</td>\n",
       "      <td>0.00000</td>\n",
       "      <td>0.000000</td>\n",
       "      <td>0.0000</td>\n",
       "      <td>2013-01-01</td>\n",
       "      <td>2522.38</td>\n",
       "      <td>2016-01-01</td>\n",
       "      <td>0.0</td>\n",
       "    </tr>\n",
       "    <tr>\n",
       "      <th>26381</th>\n",
       "      <td>5000</td>\n",
       "      <td>36</td>\n",
       "      <td>11.86</td>\n",
       "      <td>165.74</td>\n",
       "      <td>B</td>\n",
       "      <td>B5</td>\n",
       "      <td>mid-stste inc.</td>\n",
       "      <td>0</td>\n",
       "      <td>RENT</td>\n",
       "      <td>24000.0</td>\n",
       "      <td>...</td>\n",
       "      <td>5907.56</td>\n",
       "      <td>5000.00</td>\n",
       "      <td>967.23</td>\n",
       "      <td>0.00000</td>\n",
       "      <td>0.000000</td>\n",
       "      <td>0.0000</td>\n",
       "      <td>2013-09-01</td>\n",
       "      <td>187.66</td>\n",
       "      <td>2013-09-01</td>\n",
       "      <td>0.0</td>\n",
       "    </tr>\n",
       "    <tr>\n",
       "      <th>26911</th>\n",
       "      <td>24250</td>\n",
       "      <td>60</td>\n",
       "      <td>16.45</td>\n",
       "      <td>514.49</td>\n",
       "      <td>E</td>\n",
       "      <td>E1</td>\n",
       "      <td>Lake Superior State U</td>\n",
       "      <td>4</td>\n",
       "      <td>MORTGAGE</td>\n",
       "      <td>107496.0</td>\n",
       "      <td>...</td>\n",
       "      <td>29434.60</td>\n",
       "      <td>20950.00</td>\n",
       "      <td>9033.94</td>\n",
       "      <td>0.00000</td>\n",
       "      <td>0.000000</td>\n",
       "      <td>0.0000</td>\n",
       "      <td>2014-04-01</td>\n",
       "      <td>7898.17</td>\n",
       "      <td>2014-04-01</td>\n",
       "      <td>0.0</td>\n",
       "    </tr>\n",
       "    <tr>\n",
       "      <th>29464</th>\n",
       "      <td>8000</td>\n",
       "      <td>36</td>\n",
       "      <td>13.61</td>\n",
       "      <td>271.91</td>\n",
       "      <td>C</td>\n",
       "      <td>C2</td>\n",
       "      <td>TSL Seed Co.</td>\n",
       "      <td>4</td>\n",
       "      <td>MORTGAGE</td>\n",
       "      <td>91500.0</td>\n",
       "      <td>...</td>\n",
       "      <td>9651.29</td>\n",
       "      <td>8000.00</td>\n",
       "      <td>1744.17</td>\n",
       "      <td>0.00000</td>\n",
       "      <td>0.000000</td>\n",
       "      <td>0.0000</td>\n",
       "      <td>2013-01-01</td>\n",
       "      <td>1626.85</td>\n",
       "      <td>2016-05-01</td>\n",
       "      <td>0.0</td>\n",
       "    </tr>\n",
       "    <tr>\n",
       "      <th>30663</th>\n",
       "      <td>13000</td>\n",
       "      <td>36</td>\n",
       "      <td>7.88</td>\n",
       "      <td>406.65</td>\n",
       "      <td>A</td>\n",
       "      <td>A5</td>\n",
       "      <td>Erie County Sheriffs Office</td>\n",
       "      <td>3</td>\n",
       "      <td>MORTGAGE</td>\n",
       "      <td>60000.0</td>\n",
       "      <td>...</td>\n",
       "      <td>13701.55</td>\n",
       "      <td>13000.00</td>\n",
       "      <td>1639.98</td>\n",
       "      <td>0.00000</td>\n",
       "      <td>0.000000</td>\n",
       "      <td>0.0000</td>\n",
       "      <td>2013-05-01</td>\n",
       "      <td>425.63</td>\n",
       "      <td>2013-04-01</td>\n",
       "      <td>0.0</td>\n",
       "    </tr>\n",
       "    <tr>\n",
       "      <th>31938</th>\n",
       "      <td>1000</td>\n",
       "      <td>36</td>\n",
       "      <td>6.76</td>\n",
       "      <td>30.77</td>\n",
       "      <td>A</td>\n",
       "      <td>A2</td>\n",
       "      <td>North Florida Community College</td>\n",
       "      <td>6</td>\n",
       "      <td>OWN</td>\n",
       "      <td>42900.0</td>\n",
       "      <td>...</td>\n",
       "      <td>1011.18</td>\n",
       "      <td>1000.00</td>\n",
       "      <td>11.18</td>\n",
       "      <td>0.00000</td>\n",
       "      <td>0.000000</td>\n",
       "      <td>0.0000</td>\n",
       "      <td>2010-05-01</td>\n",
       "      <td>980.71</td>\n",
       "      <td>2010-05-01</td>\n",
       "      <td>0.0</td>\n",
       "    </tr>\n",
       "    <tr>\n",
       "      <th>32775</th>\n",
       "      <td>5000</td>\n",
       "      <td>36</td>\n",
       "      <td>11.48</td>\n",
       "      <td>164.85</td>\n",
       "      <td>B</td>\n",
       "      <td>B2</td>\n",
       "      <td>north ga dentention center</td>\n",
       "      <td>0</td>\n",
       "      <td>MORTGAGE</td>\n",
       "      <td>30000.0</td>\n",
       "      <td>...</td>\n",
       "      <td>884.37</td>\n",
       "      <td>433.33</td>\n",
       "      <td>229.81</td>\n",
       "      <td>14.90508</td>\n",
       "      <td>206.320000</td>\n",
       "      <td>2.0200</td>\n",
       "      <td>2010-07-01</td>\n",
       "      <td>185.00</td>\n",
       "      <td>2010-11-01</td>\n",
       "      <td>0.0</td>\n",
       "    </tr>\n",
       "    <tr>\n",
       "      <th>33028</th>\n",
       "      <td>2800</td>\n",
       "      <td>36</td>\n",
       "      <td>14.61</td>\n",
       "      <td>96.54</td>\n",
       "      <td>D</td>\n",
       "      <td>D1</td>\n",
       "      <td>Outdoor Designs LLC</td>\n",
       "      <td>0</td>\n",
       "      <td>RENT</td>\n",
       "      <td>13380.0</td>\n",
       "      <td>...</td>\n",
       "      <td>3338.68</td>\n",
       "      <td>2800.00</td>\n",
       "      <td>508.68</td>\n",
       "      <td>30.00000</td>\n",
       "      <td>0.000000</td>\n",
       "      <td>0.0000</td>\n",
       "      <td>2011-08-01</td>\n",
       "      <td>1574.41</td>\n",
       "      <td>2011-08-01</td>\n",
       "      <td>0.0</td>\n",
       "    </tr>\n",
       "    <tr>\n",
       "      <th>35783</th>\n",
       "      <td>3500</td>\n",
       "      <td>36</td>\n",
       "      <td>7.68</td>\n",
       "      <td>109.17</td>\n",
       "      <td>A</td>\n",
       "      <td>A2</td>\n",
       "      <td>Retired</td>\n",
       "      <td>0</td>\n",
       "      <td>MORTGAGE</td>\n",
       "      <td>58000.0</td>\n",
       "      <td>...</td>\n",
       "      <td>3873.86</td>\n",
       "      <td>3500.00</td>\n",
       "      <td>430.00</td>\n",
       "      <td>0.00000</td>\n",
       "      <td>0.000000</td>\n",
       "      <td>0.0000</td>\n",
       "      <td>2012-08-01</td>\n",
       "      <td>132.14</td>\n",
       "      <td>2012-08-01</td>\n",
       "      <td>0.0</td>\n",
       "    </tr>\n",
       "    <tr>\n",
       "      <th>35792</th>\n",
       "      <td>14000</td>\n",
       "      <td>36</td>\n",
       "      <td>9.63</td>\n",
       "      <td>449.32</td>\n",
       "      <td>A</td>\n",
       "      <td>A5</td>\n",
       "      <td>Lockheed Martin Corp.</td>\n",
       "      <td>3</td>\n",
       "      <td>RENT</td>\n",
       "      <td>69575.0</td>\n",
       "      <td>...</td>\n",
       "      <td>15921.47</td>\n",
       "      <td>14000.00</td>\n",
       "      <td>2140.02</td>\n",
       "      <td>0.00000</td>\n",
       "      <td>0.000000</td>\n",
       "      <td>0.0000</td>\n",
       "      <td>2012-04-01</td>\n",
       "      <td>2238.66</td>\n",
       "      <td>2012-04-01</td>\n",
       "      <td>0.0</td>\n",
       "    </tr>\n",
       "    <tr>\n",
       "      <th>35899</th>\n",
       "      <td>2650</td>\n",
       "      <td>36</td>\n",
       "      <td>11.26</td>\n",
       "      <td>87.09</td>\n",
       "      <td>B</td>\n",
       "      <td>B2</td>\n",
       "      <td>Manpower</td>\n",
       "      <td>1</td>\n",
       "      <td>RENT</td>\n",
       "      <td>48000.0</td>\n",
       "      <td>...</td>\n",
       "      <td>3130.32</td>\n",
       "      <td>2650.00</td>\n",
       "      <td>480.32</td>\n",
       "      <td>0.00000</td>\n",
       "      <td>0.000000</td>\n",
       "      <td>0.0000</td>\n",
       "      <td>2012-05-01</td>\n",
       "      <td>347.59</td>\n",
       "      <td>2016-05-01</td>\n",
       "      <td>0.0</td>\n",
       "    </tr>\n",
       "    <tr>\n",
       "      <th>36694</th>\n",
       "      <td>15000</td>\n",
       "      <td>36</td>\n",
       "      <td>9.63</td>\n",
       "      <td>481.42</td>\n",
       "      <td>A</td>\n",
       "      <td>A5</td>\n",
       "      <td>Allstate Insurance</td>\n",
       "      <td>0</td>\n",
       "      <td>RENT</td>\n",
       "      <td>140000.0</td>\n",
       "      <td>...</td>\n",
       "      <td>16595.76</td>\n",
       "      <td>7365.33</td>\n",
       "      <td>1765.50</td>\n",
       "      <td>0.00000</td>\n",
       "      <td>7890.391844</td>\n",
       "      <td>2787.2500</td>\n",
       "      <td>2010-12-01</td>\n",
       "      <td>481.42</td>\n",
       "      <td>2016-05-01</td>\n",
       "      <td>0.0</td>\n",
       "    </tr>\n",
       "    <tr>\n",
       "      <th>37288</th>\n",
       "      <td>9000</td>\n",
       "      <td>36</td>\n",
       "      <td>12.53</td>\n",
       "      <td>301.20</td>\n",
       "      <td>C</td>\n",
       "      <td>C1</td>\n",
       "      <td>Owens-Illinois</td>\n",
       "      <td>1</td>\n",
       "      <td>RENT</td>\n",
       "      <td>40000.0</td>\n",
       "      <td>...</td>\n",
       "      <td>10715.84</td>\n",
       "      <td>8999.98</td>\n",
       "      <td>1715.86</td>\n",
       "      <td>0.00000</td>\n",
       "      <td>0.000000</td>\n",
       "      <td>0.0000</td>\n",
       "      <td>2012-03-01</td>\n",
       "      <td>186.01</td>\n",
       "      <td>2012-02-01</td>\n",
       "      <td>0.0</td>\n",
       "    </tr>\n",
       "    <tr>\n",
       "      <th>37328</th>\n",
       "      <td>14000</td>\n",
       "      <td>36</td>\n",
       "      <td>13.16</td>\n",
       "      <td>472.79</td>\n",
       "      <td>C</td>\n",
       "      <td>C3</td>\n",
       "      <td>The Judge Group</td>\n",
       "      <td>10</td>\n",
       "      <td>RENT</td>\n",
       "      <td>93000.0</td>\n",
       "      <td>...</td>\n",
       "      <td>16928.80</td>\n",
       "      <td>13999.94</td>\n",
       "      <td>3020.04</td>\n",
       "      <td>0.00000</td>\n",
       "      <td>0.000000</td>\n",
       "      <td>0.0000</td>\n",
       "      <td>2012-03-01</td>\n",
       "      <td>484.86</td>\n",
       "      <td>2016-05-01</td>\n",
       "      <td>0.0</td>\n",
       "    </tr>\n",
       "    <tr>\n",
       "      <th>37442</th>\n",
       "      <td>6000</td>\n",
       "      <td>36</td>\n",
       "      <td>12.21</td>\n",
       "      <td>199.89</td>\n",
       "      <td>B</td>\n",
       "      <td>B5</td>\n",
       "      <td>Daniel Ripley Catering</td>\n",
       "      <td>4</td>\n",
       "      <td>OTHER</td>\n",
       "      <td>21000.0</td>\n",
       "      <td>...</td>\n",
       "      <td>6992.86</td>\n",
       "      <td>6000.00</td>\n",
       "      <td>1196.01</td>\n",
       "      <td>0.00000</td>\n",
       "      <td>0.000000</td>\n",
       "      <td>0.0000</td>\n",
       "      <td>2012-03-01</td>\n",
       "      <td>205.16</td>\n",
       "      <td>2013-08-01</td>\n",
       "      <td>1.0</td>\n",
       "    </tr>\n",
       "  </tbody>\n",
       "</table>\n",
       "<p>50 rows × 38 columns</p>\n",
       "</div>"
      ],
      "text/plain": [
       "       loan_amnt term  int_rate  installment grade sub_grade  \\\n",
       "1764        5500   36      7.51       171.11     A        A3   \n",
       "3274        5000   36     12.69       167.73     B        B5   \n",
       "3349       21000   36     12.69       704.45     B        B5   \n",
       "3403       15000   60     16.77       370.94     D        D2   \n",
       "4478        6000   36      6.03       182.62     A        A1   \n",
       "5092       27400   60     17.27       684.95     D        D3   \n",
       "5673       16200   60     18.25       413.58     D        D5   \n",
       "6416       16400   60     22.35       456.22     F        F5   \n",
       "7424       35000   60     13.49       805.17     C        C1   \n",
       "7460       30000   36     18.64      1094.23     E        E1   \n",
       "7562        7200   36      6.62       221.07     A        A2   \n",
       "8462       14000   36      5.42       422.24     A        A1   \n",
       "8883       19000   36     10.99       621.95     B        B3   \n",
       "9139        1000   36      5.42        30.16     A        A1   \n",
       "11303      15000   36     17.49       538.46     D        D5   \n",
       "12025       7500   36     11.49       247.29     B        B4   \n",
       "12869      18000   60     13.99       418.74     C        C3   \n",
       "13975      15000   36     10.99       491.01     B        B3   \n",
       "14077       6000   36     10.59       195.27     B        B2   \n",
       "15269      22500   60     10.37       310.20     B        B3   \n",
       "15480      17000   60     11.99       378.07     B        B5   \n",
       "16933       9700   36      9.63       311.31     B        B1   \n",
       "17559      25000   60     17.51       628.20     E        E4   \n",
       "18754       5000   36      9.63       160.47     B        B1   \n",
       "18782      10000   36      5.42       301.60     A        A1   \n",
       "19370      24000   36     13.80       817.94     C        C4   \n",
       "19838      30000   60     17.88       759.85     E        E5   \n",
       "20709      16000   36     13.06       539.57     C        C2   \n",
       "21059      25000   60     13.72       578.09     C        C5   \n",
       "21086       6000   36      6.54       184.01     A        A4   \n",
       "22031      15000   36     14.83       518.74     D        D3   \n",
       "24701      16400   36     13.98       560.36     C        C3   \n",
       "25117       4000   60     13.23        91.49     C        C1   \n",
       "25451      18000   60     13.61       415.20     C        C2   \n",
       "25769      13000   60     11.12       283.44     B        B3   \n",
       "26238       9225   36      7.14       285.44     A        A3   \n",
       "26381       5000   36     11.86       165.74     B        B5   \n",
       "26911      24250   60     16.45       514.49     E        E1   \n",
       "29464       8000   36     13.61       271.91     C        C2   \n",
       "30663      13000   36      7.88       406.65     A        A5   \n",
       "31938       1000   36      6.76        30.77     A        A2   \n",
       "32775       5000   36     11.48       164.85     B        B2   \n",
       "33028       2800   36     14.61        96.54     D        D1   \n",
       "35783       3500   36      7.68       109.17     A        A2   \n",
       "35792      14000   36      9.63       449.32     A        A5   \n",
       "35899       2650   36     11.26        87.09     B        B2   \n",
       "36694      15000   36      9.63       481.42     A        A5   \n",
       "37288       9000   36     12.53       301.20     C        C1   \n",
       "37328      14000   36     13.16       472.79     C        C3   \n",
       "37442       6000   36     12.21       199.89     B        B5   \n",
       "\n",
       "                                  emp_title  emp_length home_ownership  \\\n",
       "1764               AstroMotive Auto Service           4           RENT   \n",
       "3274              Pittsburgh Public Schools          10       MORTGAGE   \n",
       "3349                         MAJR Financial          10       MORTGAGE   \n",
       "3403    Harvard Vanguard Medical Associates           0       MORTGAGE   \n",
       "4478                       BASF Corporation          10       MORTGAGE   \n",
       "5092    Los Angeles Junior College District          10       MORTGAGE   \n",
       "5673                         Claiborne Farm           5            OWN   \n",
       "6416                     The Paradies Shops           2           RENT   \n",
       "7424                              OfficeMax          10           RENT   \n",
       "7460          Technical Fibre Products, Inc          10       MORTGAGE   \n",
       "7562              Michigan State University           2       MORTGAGE   \n",
       "8462           FlightSafety Internation Inc           4           RENT   \n",
       "8883   Lansingburgh Central School District           6            OWN   \n",
       "9139                        Georgia Pacific          10       MORTGAGE   \n",
       "11303             Federal Bureau of Prisons           6            OWN   \n",
       "12025                           Totlcom Inc          10       MORTGAGE   \n",
       "12869                     State of Colorado          10       MORTGAGE   \n",
       "13975                     Hiwin Corporation           7       MORTGAGE   \n",
       "14077                             Americold           6       MORTGAGE   \n",
       "15269                         Peabody press           2       MORTGAGE   \n",
       "15480     Advanced Entertainment Technology          10       MORTGAGE   \n",
       "16933      downingtown area school district          10       MORTGAGE   \n",
       "17559                vista community clinic           5           RENT   \n",
       "18754                     us postal service          10           RENT   \n",
       "18782              Solano Community College           9       MORTGAGE   \n",
       "19370                      DeVry University           5       MORTGAGE   \n",
       "19838           park dental care of astoria          10       MORTGAGE   \n",
       "20709                    ADESA AUTO AUCTION          10           RENT   \n",
       "21059        Los Angeles Community District          10       MORTGAGE   \n",
       "21086       Joyce Engineering, Incorporated           8            OWN   \n",
       "22031      Performance Food Equipment Group          10           RENT   \n",
       "24701                           WELLS FARGO           5            OWN   \n",
       "25117                  U S Dept of Commerce           2            OWN   \n",
       "25451                            Prudential           2       MORTGAGE   \n",
       "25769               Lawrence Public Schools          10       MORTGAGE   \n",
       "26238               American Electric Power           5            OWN   \n",
       "26381                        mid-stste inc.           0           RENT   \n",
       "26911                 Lake Superior State U           4       MORTGAGE   \n",
       "29464                          TSL Seed Co.           4       MORTGAGE   \n",
       "30663           Erie County Sheriffs Office           3       MORTGAGE   \n",
       "31938       North Florida Community College           6            OWN   \n",
       "32775            north ga dentention center           0       MORTGAGE   \n",
       "33028                   Outdoor Designs LLC           0           RENT   \n",
       "35783                               Retired           0       MORTGAGE   \n",
       "35792                 Lockheed Martin Corp.           3           RENT   \n",
       "35899                              Manpower           1           RENT   \n",
       "36694                    Allstate Insurance           0           RENT   \n",
       "37288                        Owens-Illinois           1           RENT   \n",
       "37328                       The Judge Group          10           RENT   \n",
       "37442                Daniel Ripley Catering           4          OTHER   \n",
       "\n",
       "       annual_inc  ... total_pymnt_inv total_rec_prncp total_rec_int  \\\n",
       "1764      63000.0  ...         5538.32         5500.00         38.32   \n",
       "3274      72000.0  ...         6039.33         5000.00       1039.33   \n",
       "3349     267000.0  ...        25359.83        21000.00       4359.83   \n",
       "3403      58000.0  ...        10180.30         2077.68       2370.40   \n",
       "4478      96000.0  ...         6493.05         6000.00        493.05   \n",
       "5092     143500.0  ...        13668.52         2763.94       3384.23   \n",
       "5673      47052.0  ...        20464.48        16200.00       4585.24   \n",
       "6416      80000.0  ...        25470.89        16400.00       9109.77   \n",
       "7424      62000.0  ...        46779.62        35000.00      12606.63   \n",
       "7460     166000.0  ...        39392.18        30000.00       9392.18   \n",
       "7562     182004.0  ...         7958.37         7200.00        758.37   \n",
       "8462      80000.0  ...        15062.91        14000.00       1116.90   \n",
       "8883      49000.0  ...        21913.15        19000.00       3029.09   \n",
       "9139      62400.0  ...         1085.75         1000.00         85.75   \n",
       "11303     64000.0  ...        16430.07        15000.00       1430.07   \n",
       "12025    102000.0  ...         8902.20         7500.00       1402.20   \n",
       "12869    110000.0  ...        24274.21        17169.76       7104.45   \n",
       "13975     87000.0  ...        17611.53        15000.00       2611.53   \n",
       "14077     33360.0  ...         7029.69         6000.00       1029.69   \n",
       "15269     45000.0  ...        12785.67        14475.00        126.24   \n",
       "15480     58000.0  ...         9147.15         8156.44       1155.07   \n",
       "16933     40800.0  ...        11207.14         9700.00       1507.14   \n",
       "17559    180000.0  ...        28812.48        25000.00      12526.85   \n",
       "18754     53995.0  ...         5383.74         5000.00        521.79   \n",
       "18782    175000.0  ...        10857.53        10000.00        857.53   \n",
       "19370    106000.0  ...        29445.56        24000.00       5445.56   \n",
       "19838    360000.0  ...        45590.59        29999.99      15590.60   \n",
       "20709     72000.0  ...        19171.30        16000.00       3171.30   \n",
       "21059    144000.0  ...        16942.93         6135.75       4845.15   \n",
       "21086     68400.0  ...         6578.64         6000.00        624.48   \n",
       "22031     88000.0  ...        18676.18        15000.00       3676.18   \n",
       "24701     54996.0  ...         2782.05         1885.31        909.49   \n",
       "25117     35000.0  ...         2939.93         1735.49       1093.26   \n",
       "25451    235000.0  ...        23637.55        18000.00       6615.74   \n",
       "25769     90000.0  ...        11489.30         4752.41       2595.19   \n",
       "26238     45996.0  ...        10216.47         9225.00        991.47   \n",
       "26381     24000.0  ...         5907.56         5000.00        967.23   \n",
       "26911    107496.0  ...        29434.60        20950.00       9033.94   \n",
       "29464     91500.0  ...         9651.29         8000.00       1744.17   \n",
       "30663     60000.0  ...        13701.55        13000.00       1639.98   \n",
       "31938     42900.0  ...         1011.18         1000.00         11.18   \n",
       "32775     30000.0  ...          884.37          433.33        229.81   \n",
       "33028     13380.0  ...         3338.68         2800.00        508.68   \n",
       "35783     58000.0  ...         3873.86         3500.00        430.00   \n",
       "35792     69575.0  ...        15921.47        14000.00       2140.02   \n",
       "35899     48000.0  ...         3130.32         2650.00        480.32   \n",
       "36694    140000.0  ...        16595.76         7365.33       1765.50   \n",
       "37288     40000.0  ...        10715.84         8999.98       1715.86   \n",
       "37328     93000.0  ...        16928.80        13999.94       3020.04   \n",
       "37442     21000.0  ...         6992.86         6000.00       1196.01   \n",
       "\n",
       "      total_rec_late_fee   recoveries collection_recovery_fee  last_pymnt_d  \\\n",
       "1764             0.00000     0.000000                  0.0000    2012-02-01   \n",
       "3274             0.00000     0.000000                  0.0000    2014-12-01   \n",
       "3349             0.00000     0.000000                  0.0000    2014-12-01   \n",
       "3403             0.00000  5800.590000                472.3020    2012-12-01   \n",
       "4478             0.00000     0.000000                  0.0000    2013-10-01   \n",
       "5092             0.00000  7646.370000               1005.7482    2012-08-01   \n",
       "5673             0.00000     0.000000                  0.0000    2013-07-01   \n",
       "6416             0.00000     0.000000                  0.0000    2014-12-01   \n",
       "7424             0.00000     0.000000                  0.0000    2015-09-01   \n",
       "7460             0.00000     0.000000                  0.0000    2014-10-01   \n",
       "7562             0.00000     0.000000                  0.0000    2014-10-01   \n",
       "8462             0.00000     0.000000                  0.0000    2013-12-01   \n",
       "8883             0.00000     0.000000                  0.0000    2013-10-01   \n",
       "9139             0.00000     0.000000                  0.0000    2014-09-01   \n",
       "11303            0.00000     0.000000                  0.0000    2012-03-01   \n",
       "12025            0.00000     0.000000                  0.0000    2014-08-01   \n",
       "12869            0.00000     0.000000                  0.0000    2016-05-01   \n",
       "13975            0.00000     0.000000                  0.0000    2014-01-01   \n",
       "14077            0.00000     0.000000                  0.0000    2014-06-01   \n",
       "15269            0.00000     0.000000                  0.0000    2011-06-01   \n",
       "15480            0.00000     0.000000                  0.0000    2012-01-01   \n",
       "16933            0.00000     0.000000                  0.0000    2014-04-01   \n",
       "17559            0.00000     0.000000                  0.0000    2015-10-01   \n",
       "18754            0.00000     0.000000                  0.0000    2012-07-01   \n",
       "18782            0.00000     0.000000                  0.0000    2014-03-01   \n",
       "19370            0.00000     0.000000                  0.0000    2014-03-01   \n",
       "19838            0.00000     0.000000                  0.0000    2016-02-01   \n",
       "20709            0.00000     0.000000                  0.0000    2013-05-01   \n",
       "21059            0.00000  5995.720000                761.0256    2012-09-01   \n",
       "21086            0.00000     0.000000                  0.0000    2014-01-01   \n",
       "22031            0.00000     0.000000                  0.0000    2014-01-01   \n",
       "24701            0.00000     0.000000                  0.0000    2011-04-01   \n",
       "25117            0.00000   129.660000                  1.4400    2013-05-01   \n",
       "25451            0.00000     0.000000                  0.0000    2014-11-01   \n",
       "25769            0.00000  4871.290000                284.8446    2012-11-01   \n",
       "26238            0.00000     0.000000                  0.0000    2013-01-01   \n",
       "26381            0.00000     0.000000                  0.0000    2013-09-01   \n",
       "26911            0.00000     0.000000                  0.0000    2014-04-01   \n",
       "29464            0.00000     0.000000                  0.0000    2013-01-01   \n",
       "30663            0.00000     0.000000                  0.0000    2013-05-01   \n",
       "31938            0.00000     0.000000                  0.0000    2010-05-01   \n",
       "32775           14.90508   206.320000                  2.0200    2010-07-01   \n",
       "33028           30.00000     0.000000                  0.0000    2011-08-01   \n",
       "35783            0.00000     0.000000                  0.0000    2012-08-01   \n",
       "35792            0.00000     0.000000                  0.0000    2012-04-01   \n",
       "35899            0.00000     0.000000                  0.0000    2012-05-01   \n",
       "36694            0.00000  7890.391844               2787.2500    2010-12-01   \n",
       "37288            0.00000     0.000000                  0.0000    2012-03-01   \n",
       "37328            0.00000     0.000000                  0.0000    2012-03-01   \n",
       "37442            0.00000     0.000000                  0.0000    2012-03-01   \n",
       "\n",
       "       last_pymnt_amnt last_credit_pull_d  pub_rec_bankruptcies  \n",
       "1764            539.21         2015-09-01                   0.0  \n",
       "3274            187.76         2015-05-01                   0.0  \n",
       "3349            725.56         2014-11-01                   0.0  \n",
       "3403             29.88         2013-04-01                   0.0  \n",
       "4478           2476.98         2016-05-01                   0.0  \n",
       "5092            684.95         2013-02-01                   0.0  \n",
       "5673          12524.15         2013-07-01                   0.0  \n",
       "6416           8640.79         2016-05-01                   1.0  \n",
       "7424          10594.41         2016-03-01                   0.0  \n",
       "7460           1113.30         2016-04-01                   0.0  \n",
       "7562            240.98         2016-03-01                   0.0  \n",
       "8462           4150.84         2014-02-01                   0.0  \n",
       "8883           7120.87         2013-09-01                   0.0  \n",
       "9139             33.31         2014-07-01                   0.0  \n",
       "11303         13209.34         2014-09-01                   0.0  \n",
       "12025           261.57         2016-05-01                   1.0  \n",
       "12869           418.74         2016-05-01                   0.0  \n",
       "13975          2913.86         2016-05-01                   1.0  \n",
       "14077           207.04         2014-09-01                   0.0  \n",
       "15269         14602.51         2011-06-01                   0.0  \n",
       "15480          8184.05         2011-08-01                   0.0  \n",
       "16933           325.58         2014-04-01                   0.0  \n",
       "17559          4232.25         2015-10-01                   0.0  \n",
       "18754          3120.30         2012-07-01                   1.0  \n",
       "18782           326.62         2014-03-01                   0.0  \n",
       "19370           848.67         2016-05-01                   0.0  \n",
       "19838           759.45         2016-04-01                   0.0  \n",
       "20709          5158.71         2013-05-01                   0.0  \n",
       "21059            48.64         2013-02-01                   0.0  \n",
       "21086           211.29         2014-01-01                   1.0  \n",
       "22031           560.01         2014-01-01                   0.0  \n",
       "24701           560.36         2016-05-01                   0.0  \n",
       "25117            91.49         2013-10-01                   1.0  \n",
       "25451          4708.55         2016-04-01                   0.0  \n",
       "25769           283.44         2013-02-01                   0.0  \n",
       "26238          2522.38         2016-01-01                   0.0  \n",
       "26381           187.66         2013-09-01                   0.0  \n",
       "26911          7898.17         2014-04-01                   0.0  \n",
       "29464          1626.85         2016-05-01                   0.0  \n",
       "30663           425.63         2013-04-01                   0.0  \n",
       "31938           980.71         2010-05-01                   0.0  \n",
       "32775           185.00         2010-11-01                   0.0  \n",
       "33028          1574.41         2011-08-01                   0.0  \n",
       "35783           132.14         2012-08-01                   0.0  \n",
       "35792          2238.66         2012-04-01                   0.0  \n",
       "35899           347.59         2016-05-01                   0.0  \n",
       "36694           481.42         2016-05-01                   0.0  \n",
       "37288           186.01         2012-02-01                   0.0  \n",
       "37328           484.86         2016-05-01                   0.0  \n",
       "37442           205.16         2013-08-01                   1.0  \n",
       "\n",
       "[50 rows x 38 columns]"
      ]
     },
     "execution_count": 64,
     "metadata": {},
     "output_type": "execute_result"
    }
   ],
   "source": [
    "#checking for invalid data in earliest_cr_line\n",
    "loan_df[(loan_df['earliest_cr_line'].dt.year > 2019)]"
   ]
  },
  {
   "cell_type": "code",
   "execution_count": 65,
   "metadata": {},
   "outputs": [],
   "source": [
    "wrong = loan_df[(loan_df['earliest_cr_line'].dt.year > 2019)]"
   ]
  },
  {
   "cell_type": "code",
   "execution_count": 66,
   "metadata": {
    "scrolled": true
   },
   "outputs": [
    {
     "data": {
      "text/html": [
       "<div>\n",
       "<style scoped>\n",
       "    .dataframe tbody tr th:only-of-type {\n",
       "        vertical-align: middle;\n",
       "    }\n",
       "\n",
       "    .dataframe tbody tr th {\n",
       "        vertical-align: top;\n",
       "    }\n",
       "\n",
       "    .dataframe thead th {\n",
       "        text-align: right;\n",
       "    }\n",
       "</style>\n",
       "<table border=\"1\" class=\"dataframe\">\n",
       "  <thead>\n",
       "    <tr style=\"text-align: right;\">\n",
       "      <th></th>\n",
       "      <th>earliest_cr_line</th>\n",
       "    </tr>\n",
       "  </thead>\n",
       "  <tbody>\n",
       "    <tr>\n",
       "      <th>1764</th>\n",
       "      <td>2068-09-01</td>\n",
       "    </tr>\n",
       "    <tr>\n",
       "      <th>3274</th>\n",
       "      <td>2067-09-01</td>\n",
       "    </tr>\n",
       "    <tr>\n",
       "      <th>3349</th>\n",
       "      <td>2065-02-01</td>\n",
       "    </tr>\n",
       "    <tr>\n",
       "      <th>3403</th>\n",
       "      <td>2067-06-01</td>\n",
       "    </tr>\n",
       "    <tr>\n",
       "      <th>4478</th>\n",
       "      <td>2063-03-01</td>\n",
       "    </tr>\n",
       "    <tr>\n",
       "      <th>5092</th>\n",
       "      <td>2068-08-01</td>\n",
       "    </tr>\n",
       "    <tr>\n",
       "      <th>5673</th>\n",
       "      <td>2065-05-01</td>\n",
       "    </tr>\n",
       "    <tr>\n",
       "      <th>6416</th>\n",
       "      <td>2068-06-01</td>\n",
       "    </tr>\n",
       "    <tr>\n",
       "      <th>7424</th>\n",
       "      <td>2065-10-01</td>\n",
       "    </tr>\n",
       "    <tr>\n",
       "      <th>7460</th>\n",
       "      <td>2066-04-01</td>\n",
       "    </tr>\n",
       "    <tr>\n",
       "      <th>7562</th>\n",
       "      <td>2068-09-01</td>\n",
       "    </tr>\n",
       "    <tr>\n",
       "      <th>8462</th>\n",
       "      <td>2067-04-01</td>\n",
       "    </tr>\n",
       "    <tr>\n",
       "      <th>8883</th>\n",
       "      <td>2067-04-01</td>\n",
       "    </tr>\n",
       "    <tr>\n",
       "      <th>9139</th>\n",
       "      <td>2063-10-01</td>\n",
       "    </tr>\n",
       "    <tr>\n",
       "      <th>11303</th>\n",
       "      <td>2062-09-01</td>\n",
       "    </tr>\n",
       "    <tr>\n",
       "      <th>12025</th>\n",
       "      <td>2066-11-01</td>\n",
       "    </tr>\n",
       "    <tr>\n",
       "      <th>12869</th>\n",
       "      <td>2065-05-01</td>\n",
       "    </tr>\n",
       "    <tr>\n",
       "      <th>13975</th>\n",
       "      <td>2056-09-01</td>\n",
       "    </tr>\n",
       "    <tr>\n",
       "      <th>14077</th>\n",
       "      <td>2046-01-01</td>\n",
       "    </tr>\n",
       "    <tr>\n",
       "      <th>15269</th>\n",
       "      <td>2050-12-01</td>\n",
       "    </tr>\n",
       "    <tr>\n",
       "      <th>15480</th>\n",
       "      <td>2068-01-01</td>\n",
       "    </tr>\n",
       "    <tr>\n",
       "      <th>16933</th>\n",
       "      <td>2068-02-01</td>\n",
       "    </tr>\n",
       "    <tr>\n",
       "      <th>17559</th>\n",
       "      <td>2066-02-01</td>\n",
       "    </tr>\n",
       "    <tr>\n",
       "      <th>18754</th>\n",
       "      <td>2064-09-01</td>\n",
       "    </tr>\n",
       "    <tr>\n",
       "      <th>18782</th>\n",
       "      <td>2065-10-01</td>\n",
       "    </tr>\n",
       "    <tr>\n",
       "      <th>19370</th>\n",
       "      <td>2066-11-01</td>\n",
       "    </tr>\n",
       "    <tr>\n",
       "      <th>19838</th>\n",
       "      <td>2067-04-01</td>\n",
       "    </tr>\n",
       "    <tr>\n",
       "      <th>20709</th>\n",
       "      <td>2068-08-01</td>\n",
       "    </tr>\n",
       "    <tr>\n",
       "      <th>21059</th>\n",
       "      <td>2068-08-01</td>\n",
       "    </tr>\n",
       "    <tr>\n",
       "      <th>21086</th>\n",
       "      <td>2068-12-01</td>\n",
       "    </tr>\n",
       "    <tr>\n",
       "      <th>22031</th>\n",
       "      <td>2054-11-01</td>\n",
       "    </tr>\n",
       "    <tr>\n",
       "      <th>24701</th>\n",
       "      <td>2062-09-01</td>\n",
       "    </tr>\n",
       "    <tr>\n",
       "      <th>25117</th>\n",
       "      <td>2065-12-01</td>\n",
       "    </tr>\n",
       "    <tr>\n",
       "      <th>25451</th>\n",
       "      <td>2064-09-01</td>\n",
       "    </tr>\n",
       "    <tr>\n",
       "      <th>25769</th>\n",
       "      <td>2067-11-01</td>\n",
       "    </tr>\n",
       "    <tr>\n",
       "      <th>26238</th>\n",
       "      <td>2066-11-01</td>\n",
       "    </tr>\n",
       "    <tr>\n",
       "      <th>26381</th>\n",
       "      <td>2063-09-01</td>\n",
       "    </tr>\n",
       "    <tr>\n",
       "      <th>26911</th>\n",
       "      <td>2062-11-01</td>\n",
       "    </tr>\n",
       "    <tr>\n",
       "      <th>29464</th>\n",
       "      <td>2063-01-01</td>\n",
       "    </tr>\n",
       "    <tr>\n",
       "      <th>30663</th>\n",
       "      <td>2067-10-01</td>\n",
       "    </tr>\n",
       "    <tr>\n",
       "      <th>31938</th>\n",
       "      <td>2067-05-01</td>\n",
       "    </tr>\n",
       "    <tr>\n",
       "      <th>32775</th>\n",
       "      <td>2067-02-01</td>\n",
       "    </tr>\n",
       "    <tr>\n",
       "      <th>33028</th>\n",
       "      <td>2066-03-01</td>\n",
       "    </tr>\n",
       "    <tr>\n",
       "      <th>35783</th>\n",
       "      <td>2067-07-01</td>\n",
       "    </tr>\n",
       "    <tr>\n",
       "      <th>35792</th>\n",
       "      <td>2068-02-01</td>\n",
       "    </tr>\n",
       "    <tr>\n",
       "      <th>35899</th>\n",
       "      <td>2067-04-01</td>\n",
       "    </tr>\n",
       "    <tr>\n",
       "      <th>36694</th>\n",
       "      <td>2068-01-01</td>\n",
       "    </tr>\n",
       "    <tr>\n",
       "      <th>37288</th>\n",
       "      <td>2066-12-01</td>\n",
       "    </tr>\n",
       "    <tr>\n",
       "      <th>37328</th>\n",
       "      <td>2068-10-01</td>\n",
       "    </tr>\n",
       "    <tr>\n",
       "      <th>37442</th>\n",
       "      <td>2067-09-01</td>\n",
       "    </tr>\n",
       "  </tbody>\n",
       "</table>\n",
       "</div>"
      ],
      "text/plain": [
       "      earliest_cr_line\n",
       "1764        2068-09-01\n",
       "3274        2067-09-01\n",
       "3349        2065-02-01\n",
       "3403        2067-06-01\n",
       "4478        2063-03-01\n",
       "5092        2068-08-01\n",
       "5673        2065-05-01\n",
       "6416        2068-06-01\n",
       "7424        2065-10-01\n",
       "7460        2066-04-01\n",
       "7562        2068-09-01\n",
       "8462        2067-04-01\n",
       "8883        2067-04-01\n",
       "9139        2063-10-01\n",
       "11303       2062-09-01\n",
       "12025       2066-11-01\n",
       "12869       2065-05-01\n",
       "13975       2056-09-01\n",
       "14077       2046-01-01\n",
       "15269       2050-12-01\n",
       "15480       2068-01-01\n",
       "16933       2068-02-01\n",
       "17559       2066-02-01\n",
       "18754       2064-09-01\n",
       "18782       2065-10-01\n",
       "19370       2066-11-01\n",
       "19838       2067-04-01\n",
       "20709       2068-08-01\n",
       "21059       2068-08-01\n",
       "21086       2068-12-01\n",
       "22031       2054-11-01\n",
       "24701       2062-09-01\n",
       "25117       2065-12-01\n",
       "25451       2064-09-01\n",
       "25769       2067-11-01\n",
       "26238       2066-11-01\n",
       "26381       2063-09-01\n",
       "26911       2062-11-01\n",
       "29464       2063-01-01\n",
       "30663       2067-10-01\n",
       "31938       2067-05-01\n",
       "32775       2067-02-01\n",
       "33028       2066-03-01\n",
       "35783       2067-07-01\n",
       "35792       2068-02-01\n",
       "35899       2067-04-01\n",
       "36694       2068-01-01\n",
       "37288       2066-12-01\n",
       "37328       2068-10-01\n",
       "37442       2067-09-01"
      ]
     },
     "execution_count": 66,
     "metadata": {},
     "output_type": "execute_result"
    }
   ],
   "source": [
    "wrong[['earliest_cr_line']]\n",
    "#this is because when we converted to datetime, by default the years are converted to 21st century years. \n",
    "#hence these values are invalid. "
   ]
  },
  {
   "cell_type": "code",
   "execution_count": 67,
   "metadata": {},
   "outputs": [],
   "source": [
    "#splitting the earliest_cr_line_month to month and year,\n",
    "loan_df['earliest_cr_line_month'] = loan_df['earliest_cr_line'].dt.month\n",
    "loan_df['earliest_cr_line_year'] = loan_df['earliest_cr_line'].dt.year"
   ]
  },
  {
   "cell_type": "code",
   "execution_count": 68,
   "metadata": {},
   "outputs": [],
   "source": [
    "#correcting the value of year by -100\n",
    "loan_df['earliest_cr_line_year'] = loan_df['earliest_cr_line_year'] - 100"
   ]
  },
  {
   "cell_type": "code",
   "execution_count": 69,
   "metadata": {},
   "outputs": [
    {
     "data": {
      "text/html": [
       "<div>\n",
       "<style scoped>\n",
       "    .dataframe tbody tr th:only-of-type {\n",
       "        vertical-align: middle;\n",
       "    }\n",
       "\n",
       "    .dataframe tbody tr th {\n",
       "        vertical-align: top;\n",
       "    }\n",
       "\n",
       "    .dataframe thead th {\n",
       "        text-align: right;\n",
       "    }\n",
       "</style>\n",
       "<table border=\"1\" class=\"dataframe\">\n",
       "  <thead>\n",
       "    <tr style=\"text-align: right;\">\n",
       "      <th></th>\n",
       "      <th>loan_amnt</th>\n",
       "      <th>term</th>\n",
       "      <th>int_rate</th>\n",
       "      <th>installment</th>\n",
       "      <th>grade</th>\n",
       "      <th>sub_grade</th>\n",
       "      <th>emp_title</th>\n",
       "      <th>emp_length</th>\n",
       "      <th>home_ownership</th>\n",
       "      <th>annual_inc</th>\n",
       "      <th>...</th>\n",
       "      <th>total_rec_int</th>\n",
       "      <th>total_rec_late_fee</th>\n",
       "      <th>recoveries</th>\n",
       "      <th>collection_recovery_fee</th>\n",
       "      <th>last_pymnt_d</th>\n",
       "      <th>last_pymnt_amnt</th>\n",
       "      <th>last_credit_pull_d</th>\n",
       "      <th>pub_rec_bankruptcies</th>\n",
       "      <th>earliest_cr_line_month</th>\n",
       "      <th>earliest_cr_line_year</th>\n",
       "    </tr>\n",
       "  </thead>\n",
       "  <tbody>\n",
       "  </tbody>\n",
       "</table>\n",
       "<p>0 rows × 40 columns</p>\n",
       "</div>"
      ],
      "text/plain": [
       "Empty DataFrame\n",
       "Columns: [loan_amnt, term, int_rate, installment, grade, sub_grade, emp_title, emp_length, home_ownership, annual_inc, verification_status, issue_d, loan_status, purpose, title, addr_state, dti, delinq_2yrs, earliest_cr_line, inq_last_6mths, open_acc, pub_rec, revol_bal, revol_util, total_acc, out_prncp, out_prncp_inv, total_pymnt, total_pymnt_inv, total_rec_prncp, total_rec_int, total_rec_late_fee, recoveries, collection_recovery_fee, last_pymnt_d, last_pymnt_amnt, last_credit_pull_d, pub_rec_bankruptcies, earliest_cr_line_month, earliest_cr_line_year]\n",
       "Index: []\n",
       "\n",
       "[0 rows x 40 columns]"
      ]
     },
     "execution_count": 69,
     "metadata": {},
     "output_type": "execute_result"
    }
   ],
   "source": [
    "#checking for invalid data in last_pymnt_d\n",
    "loan_df[(loan_df['last_pymnt_d'].dt.year > 2019)]"
   ]
  },
  {
   "cell_type": "code",
   "execution_count": 70,
   "metadata": {},
   "outputs": [
    {
     "data": {
      "text/html": [
       "<div>\n",
       "<style scoped>\n",
       "    .dataframe tbody tr th:only-of-type {\n",
       "        vertical-align: middle;\n",
       "    }\n",
       "\n",
       "    .dataframe tbody tr th {\n",
       "        vertical-align: top;\n",
       "    }\n",
       "\n",
       "    .dataframe thead th {\n",
       "        text-align: right;\n",
       "    }\n",
       "</style>\n",
       "<table border=\"1\" class=\"dataframe\">\n",
       "  <thead>\n",
       "    <tr style=\"text-align: right;\">\n",
       "      <th></th>\n",
       "      <th>loan_amnt</th>\n",
       "      <th>term</th>\n",
       "      <th>int_rate</th>\n",
       "      <th>installment</th>\n",
       "      <th>grade</th>\n",
       "      <th>sub_grade</th>\n",
       "      <th>emp_title</th>\n",
       "      <th>emp_length</th>\n",
       "      <th>home_ownership</th>\n",
       "      <th>annual_inc</th>\n",
       "      <th>...</th>\n",
       "      <th>total_rec_int</th>\n",
       "      <th>total_rec_late_fee</th>\n",
       "      <th>recoveries</th>\n",
       "      <th>collection_recovery_fee</th>\n",
       "      <th>last_pymnt_d</th>\n",
       "      <th>last_pymnt_amnt</th>\n",
       "      <th>last_credit_pull_d</th>\n",
       "      <th>pub_rec_bankruptcies</th>\n",
       "      <th>earliest_cr_line_month</th>\n",
       "      <th>earliest_cr_line_year</th>\n",
       "    </tr>\n",
       "  </thead>\n",
       "  <tbody>\n",
       "  </tbody>\n",
       "</table>\n",
       "<p>0 rows × 40 columns</p>\n",
       "</div>"
      ],
      "text/plain": [
       "Empty DataFrame\n",
       "Columns: [loan_amnt, term, int_rate, installment, grade, sub_grade, emp_title, emp_length, home_ownership, annual_inc, verification_status, issue_d, loan_status, purpose, title, addr_state, dti, delinq_2yrs, earliest_cr_line, inq_last_6mths, open_acc, pub_rec, revol_bal, revol_util, total_acc, out_prncp, out_prncp_inv, total_pymnt, total_pymnt_inv, total_rec_prncp, total_rec_int, total_rec_late_fee, recoveries, collection_recovery_fee, last_pymnt_d, last_pymnt_amnt, last_credit_pull_d, pub_rec_bankruptcies, earliest_cr_line_month, earliest_cr_line_year]\n",
       "Index: []\n",
       "\n",
       "[0 rows x 40 columns]"
      ]
     },
     "execution_count": 70,
     "metadata": {},
     "output_type": "execute_result"
    }
   ],
   "source": [
    "#checking for invalid data in last_credit_pull_d\n",
    "loan_df[(loan_df['last_credit_pull_d'].dt.year > 2019)]"
   ]
  },
  {
   "cell_type": "code",
   "execution_count": 71,
   "metadata": {},
   "outputs": [
    {
     "data": {
      "text/html": [
       "<div>\n",
       "<style scoped>\n",
       "    .dataframe tbody tr th:only-of-type {\n",
       "        vertical-align: middle;\n",
       "    }\n",
       "\n",
       "    .dataframe tbody tr th {\n",
       "        vertical-align: top;\n",
       "    }\n",
       "\n",
       "    .dataframe thead th {\n",
       "        text-align: right;\n",
       "    }\n",
       "</style>\n",
       "<table border=\"1\" class=\"dataframe\">\n",
       "  <thead>\n",
       "    <tr style=\"text-align: right;\">\n",
       "      <th></th>\n",
       "      <th>loan_amnt</th>\n",
       "      <th>term</th>\n",
       "      <th>int_rate</th>\n",
       "      <th>installment</th>\n",
       "      <th>grade</th>\n",
       "      <th>sub_grade</th>\n",
       "      <th>emp_title</th>\n",
       "      <th>emp_length</th>\n",
       "      <th>home_ownership</th>\n",
       "      <th>annual_inc</th>\n",
       "      <th>...</th>\n",
       "      <th>total_rec_int</th>\n",
       "      <th>total_rec_late_fee</th>\n",
       "      <th>recoveries</th>\n",
       "      <th>collection_recovery_fee</th>\n",
       "      <th>last_pymnt_d</th>\n",
       "      <th>last_pymnt_amnt</th>\n",
       "      <th>last_credit_pull_d</th>\n",
       "      <th>pub_rec_bankruptcies</th>\n",
       "      <th>earliest_cr_line_month</th>\n",
       "      <th>earliest_cr_line_year</th>\n",
       "    </tr>\n",
       "  </thead>\n",
       "  <tbody>\n",
       "    <tr>\n",
       "      <th>1</th>\n",
       "      <td>2500</td>\n",
       "      <td>60</td>\n",
       "      <td>15.27</td>\n",
       "      <td>59.83</td>\n",
       "      <td>C</td>\n",
       "      <td>C4</td>\n",
       "      <td>Ryder</td>\n",
       "      <td>0</td>\n",
       "      <td>RENT</td>\n",
       "      <td>30000.0</td>\n",
       "      <td>...</td>\n",
       "      <td>435.17</td>\n",
       "      <td>0.00</td>\n",
       "      <td>117.08</td>\n",
       "      <td>1.11</td>\n",
       "      <td>2013-04-01</td>\n",
       "      <td>119.66</td>\n",
       "      <td>2013-09-01</td>\n",
       "      <td>0.0</td>\n",
       "      <td>4</td>\n",
       "      <td>1899</td>\n",
       "    </tr>\n",
       "    <tr>\n",
       "      <th>3</th>\n",
       "      <td>10000</td>\n",
       "      <td>36</td>\n",
       "      <td>13.49</td>\n",
       "      <td>339.31</td>\n",
       "      <td>C</td>\n",
       "      <td>C1</td>\n",
       "      <td>AIR RESOURCES BOARD</td>\n",
       "      <td>10</td>\n",
       "      <td>RENT</td>\n",
       "      <td>49200.0</td>\n",
       "      <td>...</td>\n",
       "      <td>2214.92</td>\n",
       "      <td>16.97</td>\n",
       "      <td>0.00</td>\n",
       "      <td>0.00</td>\n",
       "      <td>2015-01-01</td>\n",
       "      <td>357.48</td>\n",
       "      <td>2016-04-01</td>\n",
       "      <td>0.0</td>\n",
       "      <td>2</td>\n",
       "      <td>1896</td>\n",
       "    </tr>\n",
       "    <tr>\n",
       "      <th>4</th>\n",
       "      <td>3000</td>\n",
       "      <td>60</td>\n",
       "      <td>12.69</td>\n",
       "      <td>67.79</td>\n",
       "      <td>B</td>\n",
       "      <td>B5</td>\n",
       "      <td>University Medical Group</td>\n",
       "      <td>1</td>\n",
       "      <td>RENT</td>\n",
       "      <td>80000.0</td>\n",
       "      <td>...</td>\n",
       "      <td>1037.39</td>\n",
       "      <td>0.00</td>\n",
       "      <td>0.00</td>\n",
       "      <td>0.00</td>\n",
       "      <td>2016-05-01</td>\n",
       "      <td>67.79</td>\n",
       "      <td>2016-05-01</td>\n",
       "      <td>0.0</td>\n",
       "      <td>1</td>\n",
       "      <td>1896</td>\n",
       "    </tr>\n",
       "    <tr>\n",
       "      <th>5</th>\n",
       "      <td>5000</td>\n",
       "      <td>36</td>\n",
       "      <td>7.90</td>\n",
       "      <td>156.46</td>\n",
       "      <td>A</td>\n",
       "      <td>A4</td>\n",
       "      <td>Veolia Transportaton</td>\n",
       "      <td>3</td>\n",
       "      <td>RENT</td>\n",
       "      <td>36000.0</td>\n",
       "      <td>...</td>\n",
       "      <td>632.21</td>\n",
       "      <td>0.00</td>\n",
       "      <td>0.00</td>\n",
       "      <td>0.00</td>\n",
       "      <td>2015-01-01</td>\n",
       "      <td>161.03</td>\n",
       "      <td>2016-01-01</td>\n",
       "      <td>0.0</td>\n",
       "      <td>11</td>\n",
       "      <td>1904</td>\n",
       "    </tr>\n",
       "    <tr>\n",
       "      <th>6</th>\n",
       "      <td>7000</td>\n",
       "      <td>60</td>\n",
       "      <td>15.96</td>\n",
       "      <td>170.08</td>\n",
       "      <td>C</td>\n",
       "      <td>C5</td>\n",
       "      <td>Southern Star Photography</td>\n",
       "      <td>8</td>\n",
       "      <td>RENT</td>\n",
       "      <td>47004.0</td>\n",
       "      <td>...</td>\n",
       "      <td>3125.23</td>\n",
       "      <td>0.00</td>\n",
       "      <td>0.00</td>\n",
       "      <td>0.00</td>\n",
       "      <td>2016-05-01</td>\n",
       "      <td>1313.76</td>\n",
       "      <td>2016-05-01</td>\n",
       "      <td>0.0</td>\n",
       "      <td>7</td>\n",
       "      <td>1905</td>\n",
       "    </tr>\n",
       "  </tbody>\n",
       "</table>\n",
       "<p>5 rows × 40 columns</p>\n",
       "</div>"
      ],
      "text/plain": [
       "   loan_amnt term  int_rate  installment grade sub_grade  \\\n",
       "1       2500   60     15.27        59.83     C        C4   \n",
       "3      10000   36     13.49       339.31     C        C1   \n",
       "4       3000   60     12.69        67.79     B        B5   \n",
       "5       5000   36      7.90       156.46     A        A4   \n",
       "6       7000   60     15.96       170.08     C        C5   \n",
       "\n",
       "                   emp_title  emp_length home_ownership  annual_inc  ...  \\\n",
       "1                      Ryder           0           RENT     30000.0  ...   \n",
       "3        AIR RESOURCES BOARD          10           RENT     49200.0  ...   \n",
       "4   University Medical Group           1           RENT     80000.0  ...   \n",
       "5       Veolia Transportaton           3           RENT     36000.0  ...   \n",
       "6  Southern Star Photography           8           RENT     47004.0  ...   \n",
       "\n",
       "  total_rec_int total_rec_late_fee recoveries collection_recovery_fee  \\\n",
       "1        435.17               0.00     117.08                    1.11   \n",
       "3       2214.92              16.97       0.00                    0.00   \n",
       "4       1037.39               0.00       0.00                    0.00   \n",
       "5        632.21               0.00       0.00                    0.00   \n",
       "6       3125.23               0.00       0.00                    0.00   \n",
       "\n",
       "  last_pymnt_d last_pymnt_amnt  last_credit_pull_d  pub_rec_bankruptcies  \\\n",
       "1   2013-04-01          119.66          2013-09-01                   0.0   \n",
       "3   2015-01-01          357.48          2016-04-01                   0.0   \n",
       "4   2016-05-01           67.79          2016-05-01                   0.0   \n",
       "5   2015-01-01          161.03          2016-01-01                   0.0   \n",
       "6   2016-05-01         1313.76          2016-05-01                   0.0   \n",
       "\n",
       "  earliest_cr_line_month  earliest_cr_line_year  \n",
       "1                      4                   1899  \n",
       "3                      2                   1896  \n",
       "4                      1                   1896  \n",
       "5                     11                   1904  \n",
       "6                      7                   1905  \n",
       "\n",
       "[5 rows x 40 columns]"
      ]
     },
     "execution_count": 71,
     "metadata": {},
     "output_type": "execute_result"
    }
   ],
   "source": [
    "loan_df.head()"
   ]
  },
  {
   "cell_type": "code",
   "execution_count": 72,
   "metadata": {
    "scrolled": true
   },
   "outputs": [
    {
     "name": "stdout",
     "output_type": "stream",
     "text": [
      "<class 'pandas.core.frame.DataFrame'>\n",
      "Int64Index: 36431 entries, 1 to 39623\n",
      "Data columns (total 40 columns):\n",
      " #   Column                   Non-Null Count  Dtype         \n",
      "---  ------                   --------------  -----         \n",
      " 0   loan_amnt                36431 non-null  int64         \n",
      " 1   term                     36431 non-null  object        \n",
      " 2   int_rate                 36431 non-null  float64       \n",
      " 3   installment              36431 non-null  float64       \n",
      " 4   grade                    36431 non-null  object        \n",
      " 5   sub_grade                36431 non-null  object        \n",
      " 6   emp_title                36431 non-null  object        \n",
      " 7   emp_length               36431 non-null  int64         \n",
      " 8   home_ownership           36431 non-null  object        \n",
      " 9   annual_inc               36431 non-null  float64       \n",
      " 10  verification_status      36431 non-null  object        \n",
      " 11  issue_d                  36431 non-null  datetime64[ns]\n",
      " 12  loan_status              36431 non-null  object        \n",
      " 13  purpose                  36431 non-null  object        \n",
      " 14  title                    36431 non-null  object        \n",
      " 15  addr_state               36431 non-null  object        \n",
      " 16  dti                      36431 non-null  float64       \n",
      " 17  delinq_2yrs              36431 non-null  int64         \n",
      " 18  earliest_cr_line         36431 non-null  datetime64[ns]\n",
      " 19  inq_last_6mths           36431 non-null  int64         \n",
      " 20  open_acc                 36431 non-null  int64         \n",
      " 21  pub_rec                  36431 non-null  int64         \n",
      " 22  revol_bal                36431 non-null  int64         \n",
      " 23  revol_util               36431 non-null  float64       \n",
      " 24  total_acc                36431 non-null  int64         \n",
      " 25  out_prncp                36431 non-null  float64       \n",
      " 26  out_prncp_inv            36431 non-null  float64       \n",
      " 27  total_pymnt              36431 non-null  float64       \n",
      " 28  total_pymnt_inv          36431 non-null  float64       \n",
      " 29  total_rec_prncp          36431 non-null  float64       \n",
      " 30  total_rec_int            36431 non-null  float64       \n",
      " 31  total_rec_late_fee       36431 non-null  float64       \n",
      " 32  recoveries               36431 non-null  float64       \n",
      " 33  collection_recovery_fee  36431 non-null  float64       \n",
      " 34  last_pymnt_d             36431 non-null  datetime64[ns]\n",
      " 35  last_pymnt_amnt          36431 non-null  float64       \n",
      " 36  last_credit_pull_d       36431 non-null  datetime64[ns]\n",
      " 37  pub_rec_bankruptcies     36431 non-null  float64       \n",
      " 38  earliest_cr_line_month   36431 non-null  int64         \n",
      " 39  earliest_cr_line_year    36431 non-null  int64         \n",
      "dtypes: datetime64[ns](4), float64(16), int64(10), object(10)\n",
      "memory usage: 11.4+ MB\n"
     ]
    }
   ],
   "source": [
    "loan_df.info()"
   ]
  },
  {
   "cell_type": "code",
   "execution_count": 134,
   "metadata": {},
   "outputs": [
    {
     "data": {
      "text/plain": [
       "(36431, 40)"
      ]
     },
     "execution_count": 134,
     "metadata": {},
     "output_type": "execute_result"
    }
   ],
   "source": [
    "loan_df.shape"
   ]
  },
  {
   "cell_type": "markdown",
   "metadata": {},
   "source": [
    "Our cleaned data now has 36431 records and 40 features. The further analysis is done on this data. "
   ]
  },
  {
   "cell_type": "markdown",
   "metadata": {},
   "source": [
    "# Exploratory Data Analysis"
   ]
  },
  {
   "cell_type": "code",
   "execution_count": 73,
   "metadata": {},
   "outputs": [
    {
     "data": {
      "text/plain": [
       "<matplotlib.axes._subplots.AxesSubplot at 0x19caec6dd48>"
      ]
     },
     "execution_count": 73,
     "metadata": {},
     "output_type": "execute_result"
    },
    {
     "data": {
      "image/png": "[encoded data removed]",
      "text/plain": [
       "<Figure size 432x288 with 1 Axes>"
      ]
     },
     "metadata": {
      "needs_background": "light"
     },
     "output_type": "display_data"
    }
   ],
   "source": [
    "# Bar plot for annual income of applicants base on loan stauts and type of home ownership\n",
    "sns.barplot(x=\"loan_status\",y='annual_inc',hue='home_ownership',estimator=np.mean,data = loan_df)"
   ]
  },
  {
   "cell_type": "code",
   "execution_count": 74,
   "metadata": {},
   "outputs": [
    {
     "data": {
      "text/plain": [
       "<matplotlib.axes._subplots.AxesSubplot at 0x19caf883808>"
      ]
     },
     "execution_count": 74,
     "metadata": {},
     "output_type": "execute_result"
    },
    {
     "data": {
      "image/png": "[encoded data removed]",
      "text/plain": [
       "<Figure size 432x288 with 1 Axes>"
      ]
     },
     "metadata": {
      "needs_background": "light"
     },
     "output_type": "display_data"
    }
   ],
   "source": [
    "# Count of applicants for each LC grade\n",
    "sns.countplot(x=\"grade\",data = loan_df)"
   ]
  },
  {
   "cell_type": "code",
   "execution_count": 75,
   "metadata": {},
   "outputs": [
    {
     "data": {
      "text/plain": [
       "<matplotlib.axes._subplots.AxesSubplot at 0x19caf951508>"
      ]
     },
     "execution_count": 75,
     "metadata": {},
     "output_type": "execute_result"
    },
    {
     "data": {
      "image/png": "[encoded data removed]",
      "text/plain": [
       "<Figure size 432x288 with 1 Axes>"
      ]
     },
     "metadata": {
      "needs_background": "light"
     },
     "output_type": "display_data"
    }
   ],
   "source": [
    "# Distribution of loan amount of applicants\n",
    "sns.kdeplot(loan_df['loan_amnt'])"
   ]
  },
  {
   "cell_type": "code",
   "execution_count": 76,
   "metadata": {},
   "outputs": [
    {
     "data": {
      "text/plain": [
       "<matplotlib.axes._subplots.AxesSubplot at 0x19cb4f4ce08>"
      ]
     },
     "execution_count": 76,
     "metadata": {},
     "output_type": "execute_result"
    },
    {
     "data": {
      "image/png": "[encoded data removed]",
      "text/plain": [
       "<Figure size 432x288 with 1 Axes>"
      ]
     },
     "metadata": {
      "needs_background": "light"
     },
     "output_type": "display_data"
    }
   ],
   "source": [
    "# Mean of each type of loan status\n",
    "sns.barplot(x=\"loan_status\",y='loan_amnt',data = loan_df,estimator=np.mean)"
   ]
  },
  {
   "cell_type": "code",
   "execution_count": 77,
   "metadata": {},
   "outputs": [
    {
     "data": {
      "text/plain": [
       "<matplotlib.axes._subplots.AxesSubplot at 0x19cb5c94d88>"
      ]
     },
     "execution_count": 77,
     "metadata": {},
     "output_type": "execute_result"
    },
    {
     "data": {
      "image/png": "[encoded data removed]",
      "text/plain": [
       "<Figure size 432x288 with 1 Axes>"
      ]
     },
     "metadata": {
      "needs_background": "light"
     },
     "output_type": "display_data"
    }
   ],
   "source": [
    "# The loan amount distribution based on employment length\n",
    "sns.barplot(x='emp_length',y='loan_amnt',data = loan_df, estimator=np.median)"
   ]
  },
  {
   "cell_type": "code",
   "execution_count": 78,
   "metadata": {},
   "outputs": [
    {
     "data": {
      "text/plain": [
       "<matplotlib.axes._subplots.AxesSubplot at 0x19cb5d35a48>"
      ]
     },
     "execution_count": 78,
     "metadata": {},
     "output_type": "execute_result"
    },
    {
     "data": {
      "image/png": "[encoded data removed]",
      "text/plain": [
       "<Figure size 432x288 with 1 Axes>"
      ]
     },
     "metadata": {
      "needs_background": "light"
     },
     "output_type": "display_data"
    }
   ],
   "source": [
    "# Count of applicants for each type of home ownership\n",
    "sns.countplot(x='home_ownership',data=loan_df)"
   ]
  },
  {
   "cell_type": "markdown",
   "metadata": {},
   "source": [
    "## Risk Analysis "
   ]
  },
  {
   "cell_type": "markdown",
   "metadata": {},
   "source": [
    "There are two types of risks are associated with the bank’s decision:\n",
    "\n",
    "**1. If the applicant is likely to repay the loan, then not approving the loan results in a loss of business to the company**\n",
    "\n",
    "**2. If the applicant is not likely to repay the loan, i.e. he/she is likely to default, then approving the loan may lead to a financial loss for the company**\n"
   ]
  },
  {
   "cell_type": "markdown",
   "metadata": {},
   "source": [
    "First, we shall analyse the resons for which an applicant, who is likely to default, gets approved which may lead to financial loss of company. "
   ]
  },
  {
   "cell_type": "markdown",
   "metadata": {},
   "source": [
    "# Analysis - Applicant who is likely to default\n",
    "\n",
    "Analysing the reasons for people to default their loan. \n"
   ]
  },
  {
   "cell_type": "code",
   "execution_count": 79,
   "metadata": {},
   "outputs": [],
   "source": [
    "# Creating a separate dataframe containing the Charged off applicants data \n",
    "loan_df_default = loan_df[loan_df['loan_status']=='Charged Off']"
   ]
  },
  {
   "cell_type": "code",
   "execution_count": 80,
   "metadata": {},
   "outputs": [
    {
     "data": {
      "text/plain": [
       "count    4.942000e+03\n",
       "mean     6.302414e+04\n",
       "std      4.741452e+04\n",
       "min      4.080000e+03\n",
       "25%      3.840000e+04\n",
       "50%      5.400000e+04\n",
       "75%      7.500000e+04\n",
       "max      1.250000e+06\n",
       "Name: annual_inc, dtype: float64"
      ]
     },
     "execution_count": 80,
     "metadata": {},
     "output_type": "execute_result"
    }
   ],
   "source": [
    "loan_df_default['annual_inc'].describe()"
   ]
  },
  {
   "cell_type": "markdown",
   "metadata": {},
   "source": [
    "As you could see, the difference between the 50th percentile and mean of the data is not very large. Hence we can consider either the mean or median of the data to be the representative value of the column. Its better to take median as it is not impacted by the outliers. \n",
    "\n",
    "\n",
    "So, we take median to be the most representative value of the column - 54000."
   ]
  },
  {
   "cell_type": "markdown",
   "metadata": {},
   "source": [
    "# Hypothesis Testing - 1 (Criteria - Annual Income)\n",
    "\n",
    "We are considering the annual income of applicants of charged off applications and to find the estimate of annual income for which he/she will default the loan\n",
    "\n",
    "\n",
    "**Population : All Charged off applicants**\n",
    "\n",
    "**Null Hypothesis :** The applicant defaults the loan when income <= 54,000 (Median)\n",
    "\n",
    "**Alternate Hypothesis :** The applicant defaults the loan when income > 54,000 (Median)\n",
    "\n",
    "**Data** \n",
    "\n",
    "Mean - 63,024\n",
    "\n",
    "Std - 47415\n",
    "\n",
    "Median - 54000\n",
    "\n",
    "Confidence Level - 0.05"
   ]
  },
  {
   "cell_type": "code",
   "execution_count": 81,
   "metadata": {},
   "outputs": [
    {
     "data": {
      "text/plain": [
       "<matplotlib.axes._subplots.AxesSubplot at 0x19cb644a1c8>"
      ]
     },
     "execution_count": 81,
     "metadata": {},
     "output_type": "execute_result"
    },
    {
     "data": {
      "image/png": "[encoded data removed]",
      "text/plain": [
       "<Figure size 432x288 with 1 Axes>"
      ]
     },
     "metadata": {
      "needs_background": "light"
     },
     "output_type": "display_data"
    }
   ],
   "source": [
    "# Histogram for annual income of charged off applicants\n",
    "loan_df_default['annual_inc'].plot.hist()"
   ]
  },
  {
   "cell_type": "code",
   "execution_count": 82,
   "metadata": {},
   "outputs": [
    {
     "data": {
      "text/plain": [
       "(63024.14461554027, 47414.52164828942, 54000.0, 4942, -0.19032448924570838)"
      ]
     },
     "execution_count": 82,
     "metadata": {},
     "output_type": "execute_result"
    }
   ],
   "source": [
    "# Calculating the mean,standard deviation,median,z-score of the annual income column of the load_df_default dataset\n",
    "mean = loan_df_default['annual_inc'].mean()\n",
    "std  = loan_df_default['annual_inc'].std()\n",
    "X = loan_df_default['annual_inc'].median()\n",
    "n = len(loan_df_default['annual_inc'])\n",
    "\n",
    "z = (X-mean)/std\n",
    "\n",
    "(mean,std,X,n,z)"
   ]
  },
  {
   "cell_type": "code",
   "execution_count": 83,
   "metadata": {},
   "outputs": [
    {
     "name": "stderr",
     "output_type": "stream",
     "text": [
      "C:\\Users\\deept\\anaconda3\\lib\\site-packages\\ipykernel_launcher.py:2: SettingWithCopyWarning: \n",
      "A value is trying to be set on a copy of a slice from a DataFrame.\n",
      "Try using .loc[row_indexer,col_indexer] = value instead\n",
      "\n",
      "See the caveats in the documentation: https://pandas.pydata.org/pandas-docs/stable/user_guide/indexing.html#returning-a-view-versus-a-copy\n",
      "  \n"
     ]
    }
   ],
   "source": [
    "# Converting the distribution of annual income into a normal distribution\n",
    "loan_df_default['annual_inc'] = loan_df_default['annual_inc'].apply(lambda x: np.log(x))"
   ]
  },
  {
   "cell_type": "code",
   "execution_count": 84,
   "metadata": {},
   "outputs": [
    {
     "data": {
      "text/plain": [
       "<matplotlib.axes._subplots.AxesSubplot at 0x19cb67448c8>"
      ]
     },
     "execution_count": 84,
     "metadata": {},
     "output_type": "execute_result"
    },
    {
     "data": {
      "image/png": "[encoded data removed]",
      "text/plain": [
       "<Figure size 432x288 with 1 Axes>"
      ]
     },
     "metadata": {
      "needs_background": "light"
     },
     "output_type": "display_data"
    }
   ],
   "source": [
    "# Histogram for annual income of charged off applicants\n",
    "loan_df_default['annual_inc'].plot.hist()"
   ]
  },
  {
   "cell_type": "code",
   "execution_count": 85,
   "metadata": {},
   "outputs": [
    {
     "data": {
      "text/plain": [
       "count    4942.000000\n",
       "mean       10.894663\n",
       "std         0.540752\n",
       "min         8.313852\n",
       "25%        10.555813\n",
       "50%        10.896739\n",
       "75%        11.225243\n",
       "max        14.038654\n",
       "Name: annual_inc, dtype: float64"
      ]
     },
     "execution_count": 85,
     "metadata": {},
     "output_type": "execute_result"
    }
   ],
   "source": [
    "loan_df_default['annual_inc'].describe()"
   ]
  },
  {
   "cell_type": "code",
   "execution_count": 86,
   "metadata": {},
   "outputs": [
    {
     "data": {
      "text/plain": [
       "(-0.2698675441920613, 0.39363107851648704)"
      ]
     },
     "execution_count": 86,
     "metadata": {},
     "output_type": "execute_result"
    }
   ],
   "source": [
    "# Calculting the p-value for the annual income column according to defined hypothesis\n",
    "sm.stats.ztest(loan_df_default['annual_inc'], value = loan_df_default['annual_inc'].median(), alternative = \"smaller\")"
   ]
  },
  {
   "cell_type": "markdown",
   "metadata": {},
   "source": [
    "## Conclusion of the hypothesis test\n",
    "Since the p-value (0.39) is higher than the standard confidence level 0.05, we fail to reject the Null hypothesis that the mean annual income for applicants to default the loan is less than 54000.\n",
    "\n",
    "There is no strong evidence in support for the alternatine hypothesis that the mean annual income for applicants to default the loan is greater than 54000.\n",
    "\n",
    "**So, it is observed that if the applicant has an annual income of 54000 or less, they are more likely to default the loan.**"
   ]
  },
  {
   "cell_type": "code",
   "execution_count": 87,
   "metadata": {},
   "outputs": [],
   "source": [
    "loan_df_default = loan_df[loan_df['loan_status']=='Charged Off']"
   ]
  },
  {
   "cell_type": "code",
   "execution_count": 88,
   "metadata": {},
   "outputs": [
    {
     "data": {
      "text/plain": [
       "count     4942.000000\n",
       "mean     12285.506880\n",
       "std       8064.946352\n",
       "min       1000.000000\n",
       "25%       6000.000000\n",
       "50%      10000.000000\n",
       "75%      17000.000000\n",
       "max      35000.000000\n",
       "Name: loan_amnt, dtype: float64"
      ]
     },
     "execution_count": 88,
     "metadata": {},
     "output_type": "execute_result"
    }
   ],
   "source": [
    "loan_df_default['loan_amnt'].describe()"
   ]
  },
  {
   "cell_type": "markdown",
   "metadata": {},
   "source": [
    "As you could see, the difference between the 75th percentile and maximum of the data is very large and hence we cant consider the mean of the data to be the representative value of the column. \n",
    "\n",
    "\n",
    "So, we take median to be the most representative value of the column - 10000."
   ]
  },
  {
   "cell_type": "markdown",
   "metadata": {},
   "source": [
    "# Hypothesis Testing - 2 (Criteria - Loan Amount)\n",
    "\n",
    "We are considering the loan amount of applicants of charged off applications and to find the estimate of loan amount for which he/she will default the loan.\n",
    "\n",
    "**Population : All Charged off applicants**\n",
    "\n",
    "**Null Hypothesis :** The applicant defaults the loan when loan amount <= 10,000 (Median)\n",
    "\n",
    "**Alternate Hypothesis :** The applicant defaults the loan when loan amount > 10,000 (Median)\n",
    "\n",
    "**Data** \n",
    "\n",
    "Mean - 12285\n",
    "\n",
    "Std - 8064\n",
    "\n",
    "Median - 10000\n",
    "\n",
    "Confidence Level - 0.05"
   ]
  },
  {
   "cell_type": "code",
   "execution_count": 89,
   "metadata": {},
   "outputs": [
    {
     "data": {
      "text/plain": [
       "<matplotlib.axes._subplots.AxesSubplot at 0x19cb67b0688>"
      ]
     },
     "execution_count": 89,
     "metadata": {},
     "output_type": "execute_result"
    },
    {
     "data": {
      "image/png": "[encoded data removed]",
      "text/plain": [
       "<Figure size 432x288 with 1 Axes>"
      ]
     },
     "metadata": {
      "needs_background": "light"
     },
     "output_type": "display_data"
    }
   ],
   "source": [
    "# Histogram for loan amount column \n",
    "loan_df_default['loan_amnt'].plot.hist()"
   ]
  },
  {
   "cell_type": "code",
   "execution_count": 90,
   "metadata": {},
   "outputs": [
    {
     "data": {
      "text/plain": [
       "(12285.506879805747, 8064.94635164928, 10000.0, 4942, -0.28338773503910064)"
      ]
     },
     "execution_count": 90,
     "metadata": {},
     "output_type": "execute_result"
    }
   ],
   "source": [
    "# Calculating the mean, S.D, median, z-score, length of the loan amount column of load_df_default dataset\n",
    "mean2 = loan_df_default['loan_amnt'].mean()\n",
    "std2  = loan_df_default['loan_amnt'].std()\n",
    "X2 = loan_df_default['loan_amnt'].median()\n",
    "n2 = len(loan_df_default['loan_amnt'])\n",
    "\n",
    "z2 = (X2-mean2)/std2\n",
    "\n",
    "(mean2,std2,X2,n2,z2)"
   ]
  },
  {
   "cell_type": "code",
   "execution_count": 91,
   "metadata": {},
   "outputs": [
    {
     "name": "stderr",
     "output_type": "stream",
     "text": [
      "C:\\Users\\deept\\anaconda3\\lib\\site-packages\\ipykernel_launcher.py:2: SettingWithCopyWarning: \n",
      "A value is trying to be set on a copy of a slice from a DataFrame.\n",
      "Try using .loc[row_indexer,col_indexer] = value instead\n",
      "\n",
      "See the caveats in the documentation: https://pandas.pydata.org/pandas-docs/stable/user_guide/indexing.html#returning-a-view-versus-a-copy\n",
      "  \n"
     ]
    }
   ],
   "source": [
    "# Converting the distribution of annual income into a normal distribution\n",
    "loan_df_default['loan_amnt'] = loan_df_default['loan_amnt'].apply(lambda x: np.log(x))"
   ]
  },
  {
   "cell_type": "code",
   "execution_count": 92,
   "metadata": {},
   "outputs": [
    {
     "data": {
      "text/plain": [
       "<matplotlib.axes._subplots.AxesSubplot at 0x19cb6838908>"
      ]
     },
     "execution_count": 92,
     "metadata": {},
     "output_type": "execute_result"
    },
    {
     "data": {
      "image/png": "[encoded data removed]",
      "text/plain": [
       "<Figure size 432x288 with 1 Axes>"
      ]
     },
     "metadata": {
      "needs_background": "light"
     },
     "output_type": "display_data"
    }
   ],
   "source": [
    "loan_df_default['loan_amnt'].plot.hist()"
   ]
  },
  {
   "cell_type": "code",
   "execution_count": 93,
   "metadata": {},
   "outputs": [
    {
     "data": {
      "text/plain": [
       "count    4942.000000\n",
       "mean        9.171581\n",
       "std         0.751290\n",
       "min         6.907755\n",
       "25%         8.699515\n",
       "50%         9.210340\n",
       "75%         9.740969\n",
       "max        10.463103\n",
       "Name: loan_amnt, dtype: float64"
      ]
     },
     "execution_count": 93,
     "metadata": {},
     "output_type": "execute_result"
    }
   ],
   "source": [
    "loan_df_default['loan_amnt'].describe()"
   ]
  },
  {
   "cell_type": "code",
   "execution_count": 94,
   "metadata": {},
   "outputs": [
    {
     "data": {
      "text/plain": [
       "(-3.626746649687933, 0.00014350732658549651)"
      ]
     },
     "execution_count": 94,
     "metadata": {},
     "output_type": "execute_result"
    }
   ],
   "source": [
    "# Calculting the p-value for the loan amount column according to defined hypothesis\n",
    "sm.stats.ztest(loan_df_default['loan_amnt'], value = loan_df_default['loan_amnt'].median(), alternative = \"smaller\")"
   ]
  },
  {
   "cell_type": "markdown",
   "metadata": {},
   "source": [
    "## Conclusion of the hypothesis test\n",
    "Since the p-value (0.0001) is lower than the standard confidence level 0.05, we reject the Null hypothesis that the loan amount for applicants to default the loan is less than 10000.\n",
    "\n",
    "There is strong evidence in support for the alternatine hypothesis that the loan amount for applicants to default the loan is greater than 10000.\n",
    "\n",
    "**So, it is observed that if the applicant gets a loan amount of 10000 or more, they are more likely to default the loan.**"
   ]
  },
  {
   "cell_type": "markdown",
   "metadata": {},
   "source": [
    "# Analysis based on criteria - Home Ownership\n",
    "\n",
    "The data contains four types of home ownership of applicants - Rent, Mortage, Others, Own"
   ]
  },
  {
   "cell_type": "code",
   "execution_count": 95,
   "metadata": {},
   "outputs": [],
   "source": [
    "loan_df_default = loan_df[loan_df['loan_status']=='Charged Off']"
   ]
  },
  {
   "cell_type": "code",
   "execution_count": 96,
   "metadata": {},
   "outputs": [
    {
     "data": {
      "text/plain": [
       "<matplotlib.axes._subplots.AxesSubplot at 0x19cb68ba208>"
      ]
     },
     "execution_count": 96,
     "metadata": {},
     "output_type": "execute_result"
    },
    {
     "data": {
      "image/png": "[encoded data removed]",
      "text/plain": [
       "<Figure size 432x288 with 1 Axes>"
      ]
     },
     "metadata": {
      "needs_background": "light"
     },
     "output_type": "display_data"
    }
   ],
   "source": [
    "# Count of charged-off applicants based on typ of home ownership\n",
    "sns.countplot(x='home_ownership',data=loan_df_default)"
   ]
  },
  {
   "cell_type": "markdown",
   "metadata": {},
   "source": [
    "**As you could see from the plot, the applicants that have a rented house are most likely to default the loan.**"
   ]
  },
  {
   "cell_type": "markdown",
   "metadata": {},
   "source": [
    "# Analysis based on criteria -  Number of Credit lines\n",
    "\n",
    "Now, the count of default based on the number of open credit lines in the borrower's credit file."
   ]
  },
  {
   "cell_type": "code",
   "execution_count": 97,
   "metadata": {},
   "outputs": [
    {
     "data": {
      "text/plain": [
       "<matplotlib.axes._subplots.AxesSubplot at 0x19cb68a1548>"
      ]
     },
     "execution_count": 97,
     "metadata": {},
     "output_type": "execute_result"
    },
    {
     "data": {
      "image/png": "[encoded data removed]",
      "text/plain": [
       "<Figure size 864x360 with 1 Axes>"
      ]
     },
     "metadata": {
      "needs_background": "light"
     },
     "output_type": "display_data"
    }
   ],
   "source": [
    "# Count of charged-off applicants based on the number of open credit lines in the borrower's credit file.\n",
    "plt.figure(figsize = (12,5))\n",
    "sns.countplot(x='open_acc',data = loan_df_default)"
   ]
  },
  {
   "cell_type": "markdown",
   "metadata": {},
   "source": [
    "**From the plot, it is observed that the number of credit lines in a borrower's credit line has some impact but it cannot be considered to be a major driving factor for loan approval.**"
   ]
  },
  {
   "cell_type": "markdown",
   "metadata": {},
   "source": [
    "# Analysis based on criteria - Purpose\n",
    "\n",
    "Now, the count of default based on the purpose of loan is analysed."
   ]
  },
  {
   "cell_type": "code",
   "execution_count": 98,
   "metadata": {},
   "outputs": [
    {
     "data": {
      "text/plain": [
       "<matplotlib.axes._subplots.AxesSubplot at 0x19cb68104c8>"
      ]
     },
     "execution_count": 98,
     "metadata": {},
     "output_type": "execute_result"
    },
    {
     "data": {
      "image/png": "[encoded data removed]",
      "text/plain": [
       "<Figure size 1584x360 with 1 Axes>"
      ]
     },
     "metadata": {
      "needs_background": "light"
     },
     "output_type": "display_data"
    }
   ],
   "source": [
    "# Count of charged-off applicants based on the purpose of loan\n",
    "plt.figure(figsize = (22,5))\n",
    "sns.countplot(x='purpose',data=loan_df_default)"
   ]
  },
  {
   "cell_type": "markdown",
   "metadata": {},
   "source": [
    "**The plot depicts the major amount of people default their loan when they approach for loan for debt consolidation.**"
   ]
  },
  {
   "cell_type": "markdown",
   "metadata": {},
   "source": [
    "# Analysis based on criteria - Term of Loan \n",
    "Now, the count of default based on the term of loan is analysed."
   ]
  },
  {
   "cell_type": "code",
   "execution_count": 99,
   "metadata": {},
   "outputs": [
    {
     "data": {
      "text/plain": [
       "<matplotlib.axes._subplots.AxesSubplot at 0x19cb6a78a88>"
      ]
     },
     "execution_count": 99,
     "metadata": {},
     "output_type": "execute_result"
    },
    {
     "data": {
      "image/png": "[encoded data removed]",
      "text/plain": [
       "<Figure size 432x288 with 1 Axes>"
      ]
     },
     "metadata": {
      "needs_background": "light"
     },
     "output_type": "display_data"
    }
   ],
   "source": [
    "# Count of charged-off applicants based on the term of loan\n",
    "sns.countplot(x='term',data=loan_df_default)"
   ]
  },
  {
   "cell_type": "markdown",
   "metadata": {},
   "source": [
    "**The plot shows that people who apply for a loan with term = 36 months are more likely to default the loan. This can be because applying for high loan amount but having the term low can force the applicants to default the loan.** "
   ]
  },
  {
   "cell_type": "markdown",
   "metadata": {},
   "source": [
    "# Analysis based on criteria - Number of incidences of delinquency\n",
    "Now, the count of default based on the number of 30+ days past-due incidences of delinquency in the borrower's credit file for the past 2 years is analysed."
   ]
  },
  {
   "cell_type": "code",
   "execution_count": 100,
   "metadata": {},
   "outputs": [
    {
     "data": {
      "text/plain": [
       "<matplotlib.axes._subplots.AxesSubplot at 0x19cb6ad7648>"
      ]
     },
     "execution_count": 100,
     "metadata": {},
     "output_type": "execute_result"
    },
    {
     "data": {
      "image/png": "[encoded data removed]",
      "text/plain": [
       "<Figure size 432x288 with 1 Axes>"
      ]
     },
     "metadata": {
      "needs_background": "light"
     },
     "output_type": "display_data"
    }
   ],
   "source": [
    "# Count of charged-off applicants based on the number of incidences of delinquency\n",
    "sns.countplot(x='delinq_2yrs',data=loan_df_default)"
   ]
  },
  {
   "cell_type": "markdown",
   "metadata": {},
   "source": [
    "**The number of incidences of delinquency is not a major driving factor for an applicant defaulting the loan. As you could see, majority of the applicants who has defaulted the loan hasn't had any 30+ days past due incidences of delinquency**\n",
    "\n",
    "So, this does not give you an insight about why an applicant defaults the loan."
   ]
  },
  {
   "cell_type": "markdown",
   "metadata": {},
   "source": [
    "# Analysis based on criteria - Number of public record bankruptcies\n",
    "Now, the count of default based on the Number of public record bankruptcies is analysed."
   ]
  },
  {
   "cell_type": "code",
   "execution_count": 101,
   "metadata": {},
   "outputs": [
    {
     "data": {
      "text/plain": [
       "<matplotlib.axes._subplots.AxesSubplot at 0x19cb6b3d6c8>"
      ]
     },
     "execution_count": 101,
     "metadata": {},
     "output_type": "execute_result"
    },
    {
     "data": {
      "image/png": "[encoded data removed]",
      "text/plain": [
       "<Figure size 432x288 with 1 Axes>"
      ]
     },
     "metadata": {
      "needs_background": "light"
     },
     "output_type": "display_data"
    }
   ],
   "source": [
    "# Count of charged-off applicants based on the number of public record bankruptcies\n",
    "sns.countplot(x='pub_rec_bankruptcies',data=loan_df_default)"
   ]
  },
  {
   "cell_type": "markdown",
   "metadata": {},
   "source": [
    "**Similar to the last analysis, no. of public record bankruptcies is not a major driving force for an applicant to default the loan.**"
   ]
  },
  {
   "cell_type": "markdown",
   "metadata": {},
   "source": [
    "# Analysis based on criteria - Number of credit lines currently in the borrower's credit file\n",
    "\n",
    "Now, the count of default based on the number of credit lines currently in the borrower's credit file is analysed."
   ]
  },
  {
   "cell_type": "code",
   "execution_count": 102,
   "metadata": {},
   "outputs": [
    {
     "data": {
      "text/plain": [
       "<matplotlib.axes._subplots.AxesSubplot at 0x19cb6bd9e88>"
      ]
     },
     "execution_count": 102,
     "metadata": {},
     "output_type": "execute_result"
    },
    {
     "data": {
      "image/png": "[encoded data removed]",
      "text/plain": [
       "<Figure size 1440x360 with 1 Axes>"
      ]
     },
     "metadata": {
      "needs_background": "light"
     },
     "output_type": "display_data"
    }
   ],
   "source": [
    "# Count of charged-off applicants based on the number of credit lines currently in the borrower's credit file\n",
    "plt.figure(figsize = (20,5))\n",
    "sns.countplot(x='total_acc',data=loan_df_default)"
   ]
  },
  {
   "cell_type": "markdown",
   "metadata": {},
   "source": [
    "**From the plot, it is observed that the total number of credit lines currently in the borrower's credit file has some impact but it cannot be considered to be a major driving factor for loan approval. This can be considered when a lender cannot make a decison with the major driving factors.**"
   ]
  },
  {
   "cell_type": "markdown",
   "metadata": {},
   "source": [
    "# Analysis - Rejection for an applicant who is likely to repay the loan"
   ]
  },
  {
   "cell_type": "markdown",
   "metadata": {},
   "source": [
    "We have analysed the reasons for which the applicants tend to default the loan. \n",
    "\n",
    "But, there are two types of risks are associated with the bank’s decision:\n",
    "\n",
    "**1. If the applicant is likely to repay the loan, then not approving the loan results in a loss of business to the company**\n",
    "\n",
    "**2. If the applicant is not likely to repay the loan, i.e. he/she is likely to default, then approving the loan may lead to a financial loss for the company**\n",
    "\n",
    "\n",
    "We have to analyse the reasons for which an applicant, who is likely to repay the loan, gets rejected and this results in loss of business. "
   ]
  },
  {
   "cell_type": "code",
   "execution_count": 103,
   "metadata": {},
   "outputs": [],
   "source": [
    "# Creating a separate dataframe containing the Fully paid applicants data \n",
    "loan_df_repay = loan_df[loan_df['loan_status']=='Fully Paid']"
   ]
  },
  {
   "cell_type": "code",
   "execution_count": 104,
   "metadata": {},
   "outputs": [
    {
     "name": "stdout",
     "output_type": "stream",
     "text": [
      "<class 'pandas.core.frame.DataFrame'>\n",
      "Int64Index: 30423 entries, 3 to 39562\n",
      "Data columns (total 40 columns):\n",
      " #   Column                   Non-Null Count  Dtype         \n",
      "---  ------                   --------------  -----         \n",
      " 0   loan_amnt                30423 non-null  int64         \n",
      " 1   term                     30423 non-null  object        \n",
      " 2   int_rate                 30423 non-null  float64       \n",
      " 3   installment              30423 non-null  float64       \n",
      " 4   grade                    30423 non-null  object        \n",
      " 5   sub_grade                30423 non-null  object        \n",
      " 6   emp_title                30423 non-null  object        \n",
      " 7   emp_length               30423 non-null  int64         \n",
      " 8   home_ownership           30423 non-null  object        \n",
      " 9   annual_inc               30423 non-null  float64       \n",
      " 10  verification_status      30423 non-null  object        \n",
      " 11  issue_d                  30423 non-null  datetime64[ns]\n",
      " 12  loan_status              30423 non-null  object        \n",
      " 13  purpose                  30423 non-null  object        \n",
      " 14  title                    30423 non-null  object        \n",
      " 15  addr_state               30423 non-null  object        \n",
      " 16  dti                      30423 non-null  float64       \n",
      " 17  delinq_2yrs              30423 non-null  int64         \n",
      " 18  earliest_cr_line         30423 non-null  datetime64[ns]\n",
      " 19  inq_last_6mths           30423 non-null  int64         \n",
      " 20  open_acc                 30423 non-null  int64         \n",
      " 21  pub_rec                  30423 non-null  int64         \n",
      " 22  revol_bal                30423 non-null  int64         \n",
      " 23  revol_util               30423 non-null  float64       \n",
      " 24  total_acc                30423 non-null  int64         \n",
      " 25  out_prncp                30423 non-null  float64       \n",
      " 26  out_prncp_inv            30423 non-null  float64       \n",
      " 27  total_pymnt              30423 non-null  float64       \n",
      " 28  total_pymnt_inv          30423 non-null  float64       \n",
      " 29  total_rec_prncp          30423 non-null  float64       \n",
      " 30  total_rec_int            30423 non-null  float64       \n",
      " 31  total_rec_late_fee       30423 non-null  float64       \n",
      " 32  recoveries               30423 non-null  float64       \n",
      " 33  collection_recovery_fee  30423 non-null  float64       \n",
      " 34  last_pymnt_d             30423 non-null  datetime64[ns]\n",
      " 35  last_pymnt_amnt          30423 non-null  float64       \n",
      " 36  last_credit_pull_d       30423 non-null  datetime64[ns]\n",
      " 37  pub_rec_bankruptcies     30423 non-null  float64       \n",
      " 38  earliest_cr_line_month   30423 non-null  int64         \n",
      " 39  earliest_cr_line_year    30423 non-null  int64         \n",
      "dtypes: datetime64[ns](4), float64(16), int64(10), object(10)\n",
      "memory usage: 9.5+ MB\n"
     ]
    }
   ],
   "source": [
    "loan_df_repay.info()"
   ]
  },
  {
   "cell_type": "code",
   "execution_count": 105,
   "metadata": {},
   "outputs": [
    {
     "data": {
      "text/plain": [
       "count    3.042300e+04\n",
       "mean     7.008435e+04\n",
       "std      6.621626e+04\n",
       "min      4.000000e+03\n",
       "25%      4.200000e+04\n",
       "50%      6.000000e+04\n",
       "75%      8.400000e+04\n",
       "max      6.000000e+06\n",
       "Name: annual_inc, dtype: float64"
      ]
     },
     "execution_count": 105,
     "metadata": {},
     "output_type": "execute_result"
    }
   ],
   "source": [
    "loan_df_repay['annual_inc'].describe()"
   ]
  },
  {
   "cell_type": "markdown",
   "metadata": {},
   "source": [
    "As you could see, the difference between the 50th percentile and mean of the data is not very large. Hence we can consider either the mean or median of the data to be the representative value of the column. Its better to take median as it is not impacted by the outliers. \n",
    "\n",
    "\n",
    "So, we take median to be the most representative value of the column - 60000."
   ]
  },
  {
   "cell_type": "markdown",
   "metadata": {},
   "source": [
    "# Hypothesis Testing - 1 (Criteria - Annual Income)\n",
    "\n",
    "We are considering the annual income of applicants of Fully paid applications and to find the estimate of annual income for which he/she will repay the loan\n",
    "\n",
    "\n",
    "**Population : All Fully paid applicants**\n",
    "\n",
    "**Null Hypothesis :** The applicant will repay the loan when income >= 60,000 (Median)\n",
    "\n",
    "**Alternate Hypothesis :** The applicant will repay the loan when income < 60,000 (Median)\n",
    "\n",
    "**Data** \n",
    "\n",
    "Mean - 70,084\n",
    "\n",
    "Std - 66,216\n",
    "\n",
    "Median - 60,000\n",
    "\n",
    "Confidence Level - 0.05"
   ]
  },
  {
   "cell_type": "code",
   "execution_count": 106,
   "metadata": {},
   "outputs": [
    {
     "data": {
      "text/plain": [
       "<matplotlib.axes._subplots.AxesSubplot at 0x19cb6d77808>"
      ]
     },
     "execution_count": 106,
     "metadata": {},
     "output_type": "execute_result"
    },
    {
     "data": {
      "image/png": "[encoded data removed]",
      "text/plain": [
       "<Figure size 432x288 with 1 Axes>"
      ]
     },
     "metadata": {
      "needs_background": "light"
     },
     "output_type": "display_data"
    }
   ],
   "source": [
    "# Histogram of annual income column of fully paid applicants\n",
    "loan_df_repay['annual_inc'].plot.hist()"
   ]
  },
  {
   "cell_type": "code",
   "execution_count": 107,
   "metadata": {},
   "outputs": [
    {
     "data": {
      "text/plain": [
       "(70084.35196134502, 66216.26469233024, 60000.0, 30423, -0.15229418343365236)"
      ]
     },
     "execution_count": 107,
     "metadata": {},
     "output_type": "execute_result"
    }
   ],
   "source": [
    "# Calculating the mean, S.D, median, z-score, length of the loan amount column of load_df_repay dataset\n",
    "mean3 = loan_df_repay['annual_inc'].mean()\n",
    "std3  = loan_df_repay['annual_inc'].std()\n",
    "X3 = loan_df_repay['annual_inc'].median()\n",
    "n3 = len(loan_df_repay['annual_inc'])\n",
    "\n",
    "z3 = (X3-mean3)/std3\n",
    "\n",
    "(mean3,std3,X3,n3,z3)"
   ]
  },
  {
   "cell_type": "code",
   "execution_count": 108,
   "metadata": {},
   "outputs": [
    {
     "name": "stderr",
     "output_type": "stream",
     "text": [
      "C:\\Users\\deept\\anaconda3\\lib\\site-packages\\ipykernel_launcher.py:2: SettingWithCopyWarning: \n",
      "A value is trying to be set on a copy of a slice from a DataFrame.\n",
      "Try using .loc[row_indexer,col_indexer] = value instead\n",
      "\n",
      "See the caveats in the documentation: https://pandas.pydata.org/pandas-docs/stable/user_guide/indexing.html#returning-a-view-versus-a-copy\n",
      "  \n"
     ]
    }
   ],
   "source": [
    "# Converting the distribution of annual income into a normal distribution\n",
    "loan_df_repay['annual_inc'] = loan_df_repay['annual_inc'].apply(lambda x: np.log(x))"
   ]
  },
  {
   "cell_type": "code",
   "execution_count": 109,
   "metadata": {},
   "outputs": [
    {
     "data": {
      "text/plain": [
       "<matplotlib.axes._subplots.AxesSubplot at 0x19cb6db62c8>"
      ]
     },
     "execution_count": 109,
     "metadata": {},
     "output_type": "execute_result"
    },
    {
     "data": {
      "image/png": "[encoded data removed]",
      "text/plain": [
       "<Figure size 432x288 with 1 Axes>"
      ]
     },
     "metadata": {
      "needs_background": "light"
     },
     "output_type": "display_data"
    }
   ],
   "source": [
    "loan_df_repay['annual_inc'].plot.hist()"
   ]
  },
  {
   "cell_type": "code",
   "execution_count": 110,
   "metadata": {},
   "outputs": [
    {
     "data": {
      "text/plain": [
       "(-1.74026175234298, 0.9590934666156133)"
      ]
     },
     "execution_count": 110,
     "metadata": {},
     "output_type": "execute_result"
    }
   ],
   "source": [
    "# Calculting the p-value for the annual income column according to defined hypothesis\n",
    "sm.stats.ztest(loan_df_repay['annual_inc'], value = loan_df_repay['annual_inc'].median(), alternative = 'larger')"
   ]
  },
  {
   "cell_type": "markdown",
   "metadata": {},
   "source": [
    "## Conclusion of the hypothesis test 1\n",
    "\n",
    "Since the p-value (0.96) is higher than the standard confidence level 0.05, we fail to reject the Null hypothesis that the annual income for applicants to repay the loan is greater than 60000.\n",
    "\n",
    "There is no strong evidence in support for the alternatine hypothesis that the annual income for applicants who repay the loan is less than 60000.\n",
    "\n",
    "**So, it is observed that if the applicant an annual income of 60000 or more, they will repay the loan.**"
   ]
  },
  {
   "cell_type": "code",
   "execution_count": 111,
   "metadata": {},
   "outputs": [],
   "source": [
    "loan_df_repay = loan_df[loan_df['loan_status']=='Fully Paid']"
   ]
  },
  {
   "cell_type": "code",
   "execution_count": 112,
   "metadata": {},
   "outputs": [
    {
     "data": {
      "text/plain": [
       "count    30423.000000\n",
       "mean     10945.992341\n",
       "std       7181.841002\n",
       "min        500.000000\n",
       "25%       5500.000000\n",
       "50%       9600.000000\n",
       "75%      15000.000000\n",
       "max      35000.000000\n",
       "Name: loan_amnt, dtype: float64"
      ]
     },
     "execution_count": 112,
     "metadata": {},
     "output_type": "execute_result"
    }
   ],
   "source": [
    "loan_df_repay['loan_amnt'].describe()"
   ]
  },
  {
   "cell_type": "markdown",
   "metadata": {},
   "source": [
    "As you could see, the difference between the 75th percentile and maximum of the data is very large and hence we cant consider the mean of the data to be the representative value of the column. \n",
    "\n",
    "\n",
    "So, we take median to be the most representative value of the column - 9600."
   ]
  },
  {
   "cell_type": "markdown",
   "metadata": {},
   "source": [
    "# Hypothesis Testing - 2 (Criteria - Loan Amount)\n",
    "\n",
    "We are considering the loan amount of applicants of Fully paid applications and to find the estimate of loan amount for which he/she will repay the loan.\n",
    "\n",
    "**Population : All Fully Paid applicants**\n",
    "\n",
    "**Null Hypothesis :** The applicant repays the loan when loan amount <= 9600 (Median)\n",
    "\n",
    "**Alternate Hypothesis :** The applicant repays the loan when loan amount > 9600 (Median)\n",
    "\n",
    "**Data** \n",
    "\n",
    "Mean - 10,946\n",
    "\n",
    "Std - 7182\n",
    "\n",
    "Median - 9600"
   ]
  },
  {
   "cell_type": "code",
   "execution_count": 113,
   "metadata": {},
   "outputs": [
    {
     "data": {
      "text/plain": [
       "<matplotlib.axes._subplots.AxesSubplot at 0x19cb8266888>"
      ]
     },
     "execution_count": 113,
     "metadata": {},
     "output_type": "execute_result"
    },
    {
     "data": {
      "image/png": "[encoded data removed]",
      "text/plain": [
       "<Figure size 432x288 with 1 Axes>"
      ]
     },
     "metadata": {
      "needs_background": "light"
     },
     "output_type": "display_data"
    }
   ],
   "source": [
    "# Histogram of loan amount column of fully paid applicants\n",
    "loan_df_repay['loan_amnt'].plot.hist()"
   ]
  },
  {
   "cell_type": "code",
   "execution_count": 114,
   "metadata": {},
   "outputs": [
    {
     "name": "stderr",
     "output_type": "stream",
     "text": [
      "C:\\Users\\deept\\anaconda3\\lib\\site-packages\\ipykernel_launcher.py:2: SettingWithCopyWarning: \n",
      "A value is trying to be set on a copy of a slice from a DataFrame.\n",
      "Try using .loc[row_indexer,col_indexer] = value instead\n",
      "\n",
      "See the caveats in the documentation: https://pandas.pydata.org/pandas-docs/stable/user_guide/indexing.html#returning-a-view-versus-a-copy\n",
      "  \n"
     ]
    }
   ],
   "source": [
    "# Converting the distribution of annual income into a normal distribution\n",
    "loan_df_repay['loan_amnt'] = loan_df_repay['loan_amnt'].apply(lambda x: np.log(x))"
   ]
  },
  {
   "cell_type": "code",
   "execution_count": 115,
   "metadata": {},
   "outputs": [
    {
     "data": {
      "text/plain": [
       "(9.071031282116394,\n",
       " 0.7184140205072684,\n",
       " 9.169518377455928,\n",
       " 30423,\n",
       " 0.13708960645004228)"
      ]
     },
     "execution_count": 115,
     "metadata": {},
     "output_type": "execute_result"
    }
   ],
   "source": [
    "# Calculating the mean, S.D, median, z-score, length of the loan amount column of load_df_repay dataset\n",
    "mean4 = loan_df_repay['loan_amnt'].mean()\n",
    "std4  = loan_df_repay['loan_amnt'].std()\n",
    "X4 = loan_df_repay['loan_amnt'].median()\n",
    "n4 = len(loan_df_repay['loan_amnt'])\n",
    "\n",
    "z4 = (X4-mean4)/std4\n",
    "\n",
    "(mean4,std4,X4,n4,z4)"
   ]
  },
  {
   "cell_type": "code",
   "execution_count": 116,
   "metadata": {},
   "outputs": [
    {
     "data": {
      "text/plain": [
       "<matplotlib.axes._subplots.AxesSubplot at 0x19cb7cbff88>"
      ]
     },
     "execution_count": 116,
     "metadata": {},
     "output_type": "execute_result"
    },
    {
     "data": {
      "image/png": "[encoded data removed]",
      "text/plain": [
       "<Figure size 432x288 with 1 Axes>"
      ]
     },
     "metadata": {
      "needs_background": "light"
     },
     "output_type": "display_data"
    }
   ],
   "source": [
    "loan_df_repay['loan_amnt'].plot.hist()"
   ]
  },
  {
   "cell_type": "code",
   "execution_count": 117,
   "metadata": {},
   "outputs": [
    {
     "data": {
      "text/plain": [
       "count    30423.000000\n",
       "mean         9.071031\n",
       "std          0.718414\n",
       "min          6.214608\n",
       "25%          8.612503\n",
       "50%          9.169518\n",
       "75%          9.615805\n",
       "max         10.463103\n",
       "Name: loan_amnt, dtype: float64"
      ]
     },
     "execution_count": 117,
     "metadata": {},
     "output_type": "execute_result"
    }
   ],
   "source": [
    "loan_df_repay['loan_amnt'].describe()"
   ]
  },
  {
   "cell_type": "code",
   "execution_count": 118,
   "metadata": {},
   "outputs": [
    {
     "data": {
      "text/plain": [
       "0.45"
      ]
     },
     "execution_count": 118,
     "metadata": {},
     "output_type": "execute_result"
    }
   ],
   "source": [
    "# Calculting the p-value for the annual income column according to defined hypothesis\n",
    "round(scipy.stats.norm.sf(z4),2)"
   ]
  },
  {
   "cell_type": "markdown",
   "metadata": {},
   "source": [
    "## Conclusion of the hypothesis test\n",
    "Since the p-value (0.45) is higher than the standard confidence level 0.05, we fail to reject the Null hypothesis that the loan amount for applicants to repay the loan is less than 9600.\n",
    "\n",
    "There is no strong evidence in support for the alternatine hypothesis that the loan amount for which the applicants will repay the loan is greater than 9600.\n",
    "\n",
    "**So, it is observed that if the applicant gets a loan amount of 9600 or less, they are more likely to repay the loan.**"
   ]
  },
  {
   "cell_type": "code",
   "execution_count": 119,
   "metadata": {},
   "outputs": [],
   "source": [
    "loan_df_repay = loan_df[loan_df['loan_status']=='Fully Paid']"
   ]
  },
  {
   "cell_type": "code",
   "execution_count": 120,
   "metadata": {},
   "outputs": [
    {
     "data": {
      "text/plain": [
       "<matplotlib.axes._subplots.AxesSubplot at 0x19cb7d3a908>"
      ]
     },
     "execution_count": 120,
     "metadata": {},
     "output_type": "execute_result"
    },
    {
     "data": {
      "image/png": "[encoded data removed]",
      "text/plain": [
       "<Figure size 432x288 with 1 Axes>"
      ]
     },
     "metadata": {
      "needs_background": "light"
     },
     "output_type": "display_data"
    }
   ],
   "source": [
    "# Count of fully paid applicants based on type of home ownership\n",
    "sns.countplot(x='home_ownership',data=loan_df_repay)"
   ]
  },
  {
   "cell_type": "markdown",
   "metadata": {},
   "source": [
    "**As you could see from the plot, the applicants that have a rented house are most likely to repay the loan. But when we analysed for Charged-off applicants we got the same result. But when we consider the whole dataset, we get a different result.**"
   ]
  },
  {
   "cell_type": "code",
   "execution_count": 121,
   "metadata": {},
   "outputs": [
    {
     "data": {
      "text/plain": [
       "<matplotlib.axes._subplots.AxesSubplot at 0x19cb8241108>"
      ]
     },
     "execution_count": 121,
     "metadata": {},
     "output_type": "execute_result"
    },
    {
     "data": {
      "image/png": "[encoded data removed]",
      "text/plain": [
       "<Figure size 432x288 with 1 Axes>"
      ]
     },
     "metadata": {
      "needs_background": "light"
     },
     "output_type": "display_data"
    }
   ],
   "source": [
    "# Considering the whole dataset\n",
    "sns.countplot(x='home_ownership',data=loan_df,hue='loan_status')"
   ]
  },
  {
   "cell_type": "markdown",
   "metadata": {},
   "source": [
    "**We can't come to a conclusion because there is high proprtion of Fully Paid application than Charged-off application. So, more data can help us to come to conclusion over the impact of loan approval based on type of home ownership.**"
   ]
  },
  {
   "cell_type": "markdown",
   "metadata": {},
   "source": [
    "# Analysis based on criteria -  Number of Credit lines\n",
    "\n",
    "Now, the count of default based on the number of open credit lines in the borrower's credit file."
   ]
  },
  {
   "cell_type": "code",
   "execution_count": 122,
   "metadata": {},
   "outputs": [
    {
     "data": {
      "text/plain": [
       "<matplotlib.axes._subplots.AxesSubplot at 0x19cb7d2ca08>"
      ]
     },
     "execution_count": 122,
     "metadata": {},
     "output_type": "execute_result"
    },
    {
     "data": {
      "image/png": "[encoded data removed]",
      "text/plain": [
       "<Figure size 864x360 with 1 Axes>"
      ]
     },
     "metadata": {
      "needs_background": "light"
     },
     "output_type": "display_data"
    }
   ],
   "source": [
    "# Count of fully paid applicants based on the number of open credit lines in the borrower's credit file\n",
    "plt.figure(figsize = (12,5))\n",
    "sns.countplot(x='open_acc',data = loan_df_repay)"
   ]
  },
  {
   "cell_type": "code",
   "execution_count": 123,
   "metadata": {},
   "outputs": [
    {
     "data": {
      "text/plain": [
       "<matplotlib.axes._subplots.AxesSubplot at 0x19cb7c98f08>"
      ]
     },
     "execution_count": 123,
     "metadata": {},
     "output_type": "execute_result"
    },
    {
     "data": {
      "image/png": "[encoded data removed]",
      "text/plain": [
       "<Figure size 864x360 with 1 Axes>"
      ]
     },
     "metadata": {
      "needs_background": "light"
     },
     "output_type": "display_data"
    }
   ],
   "source": [
    "# Considering the whole dataset\n",
    "plt.figure(figsize = (12,5))\n",
    "sns.countplot(x='open_acc',data = loan_df)"
   ]
  },
  {
   "cell_type": "markdown",
   "metadata": {},
   "source": [
    "**From the plot, it is observed that the number of credit lines in a borrower's credit line has some impact but it cannot be considered to be a major driving factor for loan approval.**"
   ]
  },
  {
   "cell_type": "markdown",
   "metadata": {},
   "source": [
    "# Analysis based on criteria - Purpose\n",
    "\n",
    "Now, the count of default based on the purpose of loan is analysed."
   ]
  },
  {
   "cell_type": "code",
   "execution_count": 124,
   "metadata": {},
   "outputs": [
    {
     "data": {
      "text/plain": [
       "<matplotlib.axes._subplots.AxesSubplot at 0x19cb7f24108>"
      ]
     },
     "execution_count": 124,
     "metadata": {},
     "output_type": "execute_result"
    },
    {
     "data": {
      "image/png": "[encoded data removed]",
      "text/plain": [
       "<Figure size 1584x360 with 1 Axes>"
      ]
     },
     "metadata": {
      "needs_background": "light"
     },
     "output_type": "display_data"
    }
   ],
   "source": [
    "# Count of fully paid applicants based on the purpose of loan\n",
    "plt.figure(figsize = (22,5))\n",
    "sns.countplot(x='purpose',data=loan_df_repay)"
   ]
  },
  {
   "cell_type": "markdown",
   "metadata": {},
   "source": [
    "**The plot depicts the major amount of people default their loan when they approach for loan for debt consolidation.**"
   ]
  },
  {
   "cell_type": "code",
   "execution_count": 125,
   "metadata": {},
   "outputs": [
    {
     "data": {
      "text/plain": [
       "<matplotlib.axes._subplots.AxesSubplot at 0x19cb6db6148>"
      ]
     },
     "execution_count": 125,
     "metadata": {},
     "output_type": "execute_result"
    },
    {
     "data": {
      "image/png": "[encoded data removed]",
      "text/plain": [
       "<Figure size 1728x720 with 1 Axes>"
      ]
     },
     "metadata": {
      "needs_background": "light"
     },
     "output_type": "display_data"
    }
   ],
   "source": [
    "# Considering the whole dataset \n",
    "plt.figure(figsize = (24,10))\n",
    "sns.countplot(x='purpose',data=loan_df,hue='loan_status')"
   ]
  },
  {
   "cell_type": "markdown",
   "metadata": {},
   "source": [
    "# Analysis based on criteria - Term of Loan \n",
    "\n",
    "Now, the count of default based on the term of loan is analysed."
   ]
  },
  {
   "cell_type": "code",
   "execution_count": 126,
   "metadata": {},
   "outputs": [
    {
     "data": {
      "text/plain": [
       "<matplotlib.axes._subplots.AxesSubplot at 0x19cb7988bc8>"
      ]
     },
     "execution_count": 126,
     "metadata": {},
     "output_type": "execute_result"
    },
    {
     "data": {
      "image/png": "[encoded data removed]",
      "text/plain": [
       "<Figure size 432x288 with 1 Axes>"
      ]
     },
     "metadata": {
      "needs_background": "light"
     },
     "output_type": "display_data"
    }
   ],
   "source": [
    "# Count of fully paid applicants based on the term of loan\n",
    "sns.countplot(x='term',data=loan_df_repay)"
   ]
  },
  {
   "cell_type": "code",
   "execution_count": 127,
   "metadata": {},
   "outputs": [
    {
     "data": {
      "text/plain": [
       "<matplotlib.axes._subplots.AxesSubplot at 0x19cb79d43c8>"
      ]
     },
     "execution_count": 127,
     "metadata": {},
     "output_type": "execute_result"
    },
    {
     "data": {
      "image/png": "[encoded data removed]",
      "text/plain": [
       "<Figure size 432x288 with 1 Axes>"
      ]
     },
     "metadata": {
      "needs_background": "light"
     },
     "output_type": "display_data"
    }
   ],
   "source": [
    "# Considering the whole dataset\n",
    "sns.countplot(x='term',data=loan_df,hue='loan_status')"
   ]
  },
  {
   "cell_type": "markdown",
   "metadata": {},
   "source": [
    "**The plot shows that people who apply for a loan with term = 36 months are more likely to repay the loan. This contradicts the earlier hypothesis. So, more data can help us to come to conclusion over the impact of loan approval based on term of loan.** "
   ]
  },
  {
   "cell_type": "markdown",
   "metadata": {},
   "source": [
    "# Analysis based on criteria - Number of incidences of delinquency\n",
    "\n",
    "Now, the count of default based on the number of 30+ days past-due incidences of delinquency in the borrower's credit file for the past 2 years is analysed."
   ]
  },
  {
   "cell_type": "code",
   "execution_count": 128,
   "metadata": {},
   "outputs": [
    {
     "data": {
      "text/plain": [
       "<matplotlib.axes._subplots.AxesSubplot at 0x19cb7a3d5c8>"
      ]
     },
     "execution_count": 128,
     "metadata": {},
     "output_type": "execute_result"
    },
    {
     "data": {
      "image/png": "[encoded data removed]",
      "text/plain": [
       "<Figure size 432x288 with 1 Axes>"
      ]
     },
     "metadata": {
      "needs_background": "light"
     },
     "output_type": "display_data"
    }
   ],
   "source": [
    "# Count of fully paid applicants based on the number of incidences of delinquency\n",
    "sns.countplot(x='delinq_2yrs',data=loan_df_repay)"
   ]
  },
  {
   "cell_type": "code",
   "execution_count": 129,
   "metadata": {},
   "outputs": [
    {
     "data": {
      "text/plain": [
       "<matplotlib.axes._subplots.AxesSubplot at 0x19cb7addb08>"
      ]
     },
     "execution_count": 129,
     "metadata": {},
     "output_type": "execute_result"
    },
    {
     "data": {
      "image/png": "[encoded data removed]",
      "text/plain": [
       "<Figure size 432x288 with 1 Axes>"
      ]
     },
     "metadata": {
      "needs_background": "light"
     },
     "output_type": "display_data"
    }
   ],
   "source": [
    "# Considering the whole dataset\n",
    "sns.countplot(x='delinq_2yrs',data=loan_df,hue='loan_status')"
   ]
  },
  {
   "cell_type": "markdown",
   "metadata": {},
   "source": [
    "**The number of incidences of delinquency is not a major driving factor for an applicant defaulting the loan. As you could see, majority of the applicants who has repayed the loan hasn't had any 30+ days past due incidences of delinquency**\n",
    "\n",
    "So, this does not give you an insight about an applicant repaying the loan. More data will help us to get a clear idea. \n",
    "\n",
    "We can't come to a conclusion that number of incidences of delinquency impacts the loan approval because there is a high proportion of data for Fully paid applicants when compared to charged off applicants."
   ]
  },
  {
   "cell_type": "markdown",
   "metadata": {},
   "source": [
    "# Analysis based on criteria - Number of public record bankruptcies\n",
    "\n",
    "Now, the count of default based on the Number of public record bankruptcies is analysed."
   ]
  },
  {
   "cell_type": "code",
   "execution_count": 130,
   "metadata": {},
   "outputs": [
    {
     "data": {
      "text/plain": [
       "<matplotlib.axes._subplots.AxesSubplot at 0x19cb7baa048>"
      ]
     },
     "execution_count": 130,
     "metadata": {},
     "output_type": "execute_result"
    },
    {
     "data": {
      "image/png": "[encoded data removed]",
      "text/plain": [
       "<Figure size 432x288 with 1 Axes>"
      ]
     },
     "metadata": {
      "needs_background": "light"
     },
     "output_type": "display_data"
    }
   ],
   "source": [
    "# Count of fully paid applicants based on the number of public record bankruptcies\n",
    "sns.countplot(x='pub_rec_bankruptcies',data=loan_df_repay)"
   ]
  },
  {
   "cell_type": "code",
   "execution_count": 131,
   "metadata": {},
   "outputs": [
    {
     "data": {
      "text/plain": [
       "<matplotlib.axes._subplots.AxesSubplot at 0x19cb7c09348>"
      ]
     },
     "execution_count": 131,
     "metadata": {},
     "output_type": "execute_result"
    },
    {
     "data": {
      "image/png": "[encoded data removed]",
      "text/plain": [
       "<Figure size 432x288 with 1 Axes>"
      ]
     },
     "metadata": {
      "needs_background": "light"
     },
     "output_type": "display_data"
    }
   ],
   "source": [
    "# Considering the whole dataset\n",
    "sns.countplot(x='pub_rec_bankruptcies',data=loan_df,hue='loan_status')"
   ]
  },
  {
   "cell_type": "markdown",
   "metadata": {},
   "source": [
    "**Similar to the last analysis, no. of public record bankruptcies is not a major driving force for an applicant to repay the loan.**"
   ]
  },
  {
   "cell_type": "markdown",
   "metadata": {},
   "source": [
    "# Analysis based on criteria - Number of credit lines currently in the borrower's credit file\n",
    "\n",
    "Now, the count of default based on the number of credit lines currently in the borrower's credit file is analysed."
   ]
  },
  {
   "cell_type": "code",
   "execution_count": 132,
   "metadata": {},
   "outputs": [
    {
     "data": {
      "text/plain": [
       "<matplotlib.axes._subplots.AxesSubplot at 0x19cb820e488>"
      ]
     },
     "execution_count": 132,
     "metadata": {},
     "output_type": "execute_result"
    },
    {
     "data": {
      "image/png": "[encoded data removed]",
      "text/plain": [
       "<Figure size 1440x360 with 1 Axes>"
      ]
     },
     "metadata": {
      "needs_background": "light"
     },
     "output_type": "display_data"
    }
   ],
   "source": [
    "# Count of fully paid applicants based on the number of credit lines currently in the borrower's credit file\n",
    "plt.figure(figsize = (20,5))\n",
    "sns.countplot(x='total_acc',data=loan_df_repay)"
   ]
  },
  {
   "cell_type": "code",
   "execution_count": 133,
   "metadata": {},
   "outputs": [
    {
     "data": {
      "text/plain": [
       "<matplotlib.axes._subplots.AxesSubplot at 0x19cb80ec248>"
      ]
     },
     "execution_count": 133,
     "metadata": {},
     "output_type": "execute_result"
    },
    {
     "data": {
      "image/png": "[encoded data removed]",
      "text/plain": [
       "<Figure size 1440x360 with 1 Axes>"
      ]
     },
     "metadata": {
      "needs_background": "light"
     },
     "output_type": "display_data"
    }
   ],
   "source": [
    "# Considering the whole dataset\n",
    "plt.figure(figsize = (20,5))\n",
    "sns.countplot(x='total_acc',data=loan_df)"
   ]
  },
  {
   "cell_type": "markdown",
   "metadata": {},
   "source": [
    "**From the plot, it is observed that the total number of credit lines currently in the borrower's credit file has some impact but it cannot be considered to be a major driving factor for loan approval. This can be considered when a lender cannot make a decison with the major driving factors.**"
   ]
  },
  {
   "cell_type": "markdown",
   "metadata": {},
   "source": [
    "# Key Observations\n",
    "\n",
    "1. From the hypothesis test made on annual income of applicants, we can observe that the applicants default when annual income is less than or equal to 54,000 and repay the loan when annual income is more than 60,000. \n",
    "\n",
    "\n",
    "2. Subsequently, from the hypothesis test made on loan amount of applicants, we can observe that the applicants repay when loan amount is less than or equal to 9,600 and default the loan when loan amount is more than 10,000. \n",
    "\n",
    "\n",
    "3. The other factors like term, purpose, number of public record bankruptcies, Number of incidences of delinquency, number of credit lines, type of home ownership definitely has an imapct on predicting whether the applicant would default or repay the loan. But these aren't major factors and doesn't give a proven insight about the amount of impact it has on the loan approval. \n"
   ]
  },
  {
   "cell_type": "markdown",
   "metadata": {},
   "source": [
    "# Conclusion\n",
    "\n",
    "1.  From the hypothesis testing made on Annual income of applicants, we can estimate an optimum value by which the decison making of loan approval can be processed. As you could see the minimum anuual income for an applicant to repay the loan is 60,000 and the limit below which the applicant is said to default is 54,000. **The limit for defaultation can be set from the given hypothesis as annual income <=60,000.**\n",
    "\n",
    "\n",
    "2. From the hypothesis testing made on loan amount of applicants, we can estimate an optimum value by which the decison making of loan approval can be processed. As you could see the maximum loan amount for an applicant to repay the loan is 10,000 and the loan amount above which the applicant is said to default is 9,600. **The limit for defaultation can be set from the given hypothesis as loan amount >=9,600.**\n",
    "\n",
    "\n",
    "3. The company should be **more careful** when the purpose of loan is debt consolidation. \n",
    "\n",
    "\n",
    "4. The company should be **assessing the annual income, loan amount, interest rate** etc. to have an estimate about the term of loan. \n",
    "\n",
    "\n",
    "5. The number of credit lines, public record bankruptcies, incidences of delinquency should be taken into consideration when the lendor can't make a decision with the major driving factors. \n",
    "\n",
    "\n",
    "6. Applicants who has a **Rented House are most likely to default**. But we **can't directly conclude** that loan should be rejected to people staying in rented houses. Much more detail should be given to other factors. \n",
    "\n",
    "\n",
    "7. As you could see, there is **no one or two major factors** that can be used for the decison making. A **lot of factors combined** and the taking the insights of each factor into consideration will definitely give a more clear and accurate decision for the loan approval process. \n"
   ]
  }
 ],
 "metadata": {
  "kernelspec": {
   "display_name": "Python 3",
   "language": "python",
   "name": "python3"
  },
  "language_info": {
   "codemirror_mode": {
    "name": "ipython",
    "version": 3
   },
   "file_extension": ".py",
   "mimetype": "text/x-python",
   "name": "python",
   "nbconvert_exporter": "python",
   "pygments_lexer": "ipython3",
   "version": "3.7.6"
  },
  "toc": {
   "base_numbering": 1,
   "nav_menu": {},
   "number_sections": true,
   "sideBar": true,
   "skip_h1_title": false,
   "title_cell": "Table of Contents",
   "title_sidebar": "Contents",
   "toc_cell": false,
   "toc_position": {},
   "toc_section_display": true,
   "toc_window_display": false
  }
 },
 "nbformat": 4,
 "nbformat_minor": 4
}
